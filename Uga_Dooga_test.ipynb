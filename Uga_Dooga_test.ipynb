{
  "nbformat": 4,
  "nbformat_minor": 0,
  "metadata": {
    "colab": {
      "name": "Uga Dooga test.ipynb",
      "provenance": [],
      "toc_visible": true,
      "collapsed_sections": [
        "q-0JNn1U22QX"
      ]
    },
    "kernelspec": {
      "name": "python3",
      "display_name": "Python 3"
    },
    "language_info": {
      "name": "python"
    }
  },
  "cells": [
    {
      "cell_type": "markdown",
      "source": [
        "1. Общая информация\n",
        "Мобильная игра зарабатывает на показе рекламы. Есть несколько форматов:\n",
        "int – полноэкранная реклама; banner – горизонтальный баннер, висит внизу\n",
        "экрана пока юзер играет; rv – видео, которое юзер смотрит по желанию и за\n",
        "просмотр получает монетки или др. ресурсы. Информация о каждом показе\n",
        "отправляется в аналитику и содержит доход от показа, формат показанной\n",
        "рекламы, рекламную сеть от которой был показ и др.\n",
        "eCPM – доход за 1000 показов рекламы.\n",
        "2. Бизнес задача\n",
        "Провести исследование показов рекламы с целью понять на сколько\n",
        "отличается eCPM в зависимости от географии (города) юзера, версии ОС и\n",
        "других параметров. Интересны любые инсайты и находки по eCPM-ам.\n",
        "Этот csv файл содержит информацию о показах рекламы для юзеров США:\n",
        "https://drive.google.com/drive/folders/1bjWlzyXV8ALcoxZYrdNQH6_MOm3nS3Pl?us\n",
        "p=sharing\n",
        "3. Что требуется\n",
        "1. Для каждого формата рекламы:\n",
        "a. построить распределение средних eCPM-ов юзеров\n",
        "b. отобразить средние eCPM-ы по городам, версиям ОС\n",
        "c. отобразить суммарные доходы по городам, версиям ОС\n",
        "2. Учесть статистическую значимость для п.1b (отобразить, отфильтровать\n",
        "незначимое или хотя бы прокомментировать). Объяснить решение.\n",
        "3. Описать наблюдения и вывод по исследованию.\n",
        "UPD: пункты 1b, 1с и 2 были уточнены (11:07 15.06.22). Если уже сделали,\n",
        "менять не обязательно.\n",
        "4. Дополнительные (по желанию)\n",
        "Исследовать:\n",
        "– Какой процент доходов содержит информацию о городе юзера\n",
        "– Зависит ли eCPM от времени дня\n",
        "\n",
        "5. Вспомогательная информация\n",
        "Столбец profile_id – id юзера\n",
        "Столбец event_json содержит данные о событии показа рекламы:\n",
        "ad_type – формат рекламы (int, banner или rv)\n",
        "placement – когда/где был показ рекламы в игре\n",
        "view_index – номер показа конкретного формата рекламы для юзера (не\n",
        "поддерживается для баннеров)\n",
        "revenue – доход от конкретного показа рекламы (eCPM = revenue * 1000)\n",
        "ads_ltv – накапливающийся доход от рекламы, равен сумме всех revenue\n",
        "юзера\n",
        "network_name – рекламная сеть, от которой был показ\n",
        "Остальные столбцы должны быть интуитивно понятны\n",
        "6. После выполнения\n",
        "По готовности, опубликуйте Jupyter Notebook с выполненным заданием на\n",
        "github и пришлите ссылку на репозиторий.\n",
        "При оценке выполненного задания будет оцениваться:\n",
        "– на сколько понятно визуализированы данные, хорошо ли выбраны\n",
        "средства для презентации данных (типы диаграмм, таблиц или др.)\n",
        "– чистота и понятность кода\n",
        "– описания наблюдений в процессе исследования и сделанные выводы"
      ],
      "metadata": {
        "id": "g9wK9msridtO"
      }
    },
    {
      "cell_type": "markdown",
      "source": [
        "Импортируем необходимые библиотеки, загрузим и просмотрим данные"
      ],
      "metadata": {
        "id": "81lga8M6wgGg"
      }
    },
    {
      "cell_type": "code",
      "source": [
        "! gdown 1h2eXP4EyL8hYT2kZ0wmShAtp8Qz8HpNq"
      ],
      "metadata": {
        "colab": {
          "base_uri": "https://localhost:8080/"
        },
        "id": "WWpLxnGFijlm",
        "outputId": "70a0a3f9-b9aa-48ed-e793-6abc9b5b27ff"
      },
      "execution_count": null,
      "outputs": [
        {
          "output_type": "stream",
          "name": "stdout",
          "text": [
            "Downloading...\n",
            "From: https://drive.google.com/uc?id=1h2eXP4EyL8hYT2kZ0wmShAtp8Qz8HpNq\n",
            "To: /content/us events ad_revenue filtered 03.02-07.02.csv\n",
            "100% 571M/571M [00:05<00:00, 108MB/s] \n"
          ]
        }
      ]
    },
    {
      "cell_type": "code",
      "source": [
        "import pandas as pd\n",
        "import numpy as np\n",
        "import seaborn as sns\n",
        "import matplotlib.pyplot as plt"
      ],
      "metadata": {
        "id": "bkv30LSViocv"
      },
      "execution_count": null,
      "outputs": []
    },
    {
      "cell_type": "code",
      "source": [
        "df = pd.read_csv('/content/us events ad_revenue filtered 03.02-07.02.csv')"
      ],
      "metadata": {
        "id": "F9uHcLI4iwcR"
      },
      "execution_count": null,
      "outputs": []
    },
    {
      "cell_type": "code",
      "source": [
        "df.head()"
      ],
      "metadata": {
        "colab": {
          "base_uri": "https://localhost:8080/",
          "height": 353
        },
        "id": "TI81ZQ8kp8FQ",
        "outputId": "4bd9e05e-adc7-4f85-fe42-bdaa3415f68b"
      },
      "execution_count": null,
      "outputs": [
        {
          "output_type": "execute_result",
          "data": {
            "text/plain": [
              "    profile_id os_version device_manufacturer   device_model device_type  \\\n",
              "0  JLjpGzDHBQm         11             Samsung  Galaxy Tab S6      tablet   \n",
              "1  JLjpGzDHBQm         11             Samsung  Galaxy Tab S6      tablet   \n",
              "2  JLkVacrzHY6         11              Google        Pixel 2       phone   \n",
              "3  JMC6wG3cX0f         10             Samsung      Galaxy S9       phone   \n",
              "4  JLzWWTJfi1b         10             Samsung      Galaxy S9       phone   \n",
              "\n",
              "  device_locale    event_name  \\\n",
              "0         en_US  c_ad_revenue   \n",
              "1         en_US  c_ad_revenue   \n",
              "2         en_US  c_ad_revenue   \n",
              "3         en_US  c_ad_revenue   \n",
              "4         en_US  c_ad_revenue   \n",
              "\n",
              "                                          event_json       event_datetime  \\\n",
              "0  {\"ad_type\":\"banner\",\"placement\":\"\",\"view_index...  2022-02-04 20:02:28   \n",
              "1  {\"ad_type\":\"banner\",\"placement\":\"\",\"view_index...  2022-02-04 20:02:45   \n",
              "2  {\"ad_type\":\"banner\",\"placement\":\"\",\"view_index...  2022-02-05 17:53:05   \n",
              "3  {\"ad_type\":\"int\",\"placement\":\"next_level\",\"vie...  2022-02-06 17:09:01   \n",
              "4  {\"ad_type\":\"banner\",\"placement\":\"\",\"view_index...  2022-02-06 17:15:38   \n",
              "\n",
              "   event_timestamp event_receive_datetime  event_receive_timestamp  \\\n",
              "0       1643994148    2022-02-06 17:58:19               1644159499   \n",
              "1       1643994165    2022-02-06 17:58:19               1644159499   \n",
              "2       1644072785    2022-02-06 16:59:29               1644155969   \n",
              "3       1644156541    2022-02-06 17:09:24               1644156564   \n",
              "4       1644156938    2022-02-06 17:16:16               1644156976   \n",
              "\n",
              "  connection_type operator_name country_iso_code       city  \n",
              "0            wifi           NaN               US    Norwalk  \n",
              "1            wifi           NaN               US    Norwalk  \n",
              "2            wifi       Verizon               US  Charlotte  \n",
              "3            wifi      T-Mobile               US      Cocoa  \n",
              "4            cell      Verizon                US        NaN  "
            ],
            "text/html": [
              "\n",
              "  <div id=\"df-df43cfe2-9983-4b3f-bc6a-f3f61f98e66e\">\n",
              "    <div class=\"colab-df-container\">\n",
              "      <div>\n",
              "<style scoped>\n",
              "    .dataframe tbody tr th:only-of-type {\n",
              "        vertical-align: middle;\n",
              "    }\n",
              "\n",
              "    .dataframe tbody tr th {\n",
              "        vertical-align: top;\n",
              "    }\n",
              "\n",
              "    .dataframe thead th {\n",
              "        text-align: right;\n",
              "    }\n",
              "</style>\n",
              "<table border=\"1\" class=\"dataframe\">\n",
              "  <thead>\n",
              "    <tr style=\"text-align: right;\">\n",
              "      <th></th>\n",
              "      <th>profile_id</th>\n",
              "      <th>os_version</th>\n",
              "      <th>device_manufacturer</th>\n",
              "      <th>device_model</th>\n",
              "      <th>device_type</th>\n",
              "      <th>device_locale</th>\n",
              "      <th>event_name</th>\n",
              "      <th>event_json</th>\n",
              "      <th>event_datetime</th>\n",
              "      <th>event_timestamp</th>\n",
              "      <th>event_receive_datetime</th>\n",
              "      <th>event_receive_timestamp</th>\n",
              "      <th>connection_type</th>\n",
              "      <th>operator_name</th>\n",
              "      <th>country_iso_code</th>\n",
              "      <th>city</th>\n",
              "    </tr>\n",
              "  </thead>\n",
              "  <tbody>\n",
              "    <tr>\n",
              "      <th>0</th>\n",
              "      <td>JLjpGzDHBQm</td>\n",
              "      <td>11</td>\n",
              "      <td>Samsung</td>\n",
              "      <td>Galaxy Tab S6</td>\n",
              "      <td>tablet</td>\n",
              "      <td>en_US</td>\n",
              "      <td>c_ad_revenue</td>\n",
              "      <td>{\"ad_type\":\"banner\",\"placement\":\"\",\"view_index...</td>\n",
              "      <td>2022-02-04 20:02:28</td>\n",
              "      <td>1643994148</td>\n",
              "      <td>2022-02-06 17:58:19</td>\n",
              "      <td>1644159499</td>\n",
              "      <td>wifi</td>\n",
              "      <td>NaN</td>\n",
              "      <td>US</td>\n",
              "      <td>Norwalk</td>\n",
              "    </tr>\n",
              "    <tr>\n",
              "      <th>1</th>\n",
              "      <td>JLjpGzDHBQm</td>\n",
              "      <td>11</td>\n",
              "      <td>Samsung</td>\n",
              "      <td>Galaxy Tab S6</td>\n",
              "      <td>tablet</td>\n",
              "      <td>en_US</td>\n",
              "      <td>c_ad_revenue</td>\n",
              "      <td>{\"ad_type\":\"banner\",\"placement\":\"\",\"view_index...</td>\n",
              "      <td>2022-02-04 20:02:45</td>\n",
              "      <td>1643994165</td>\n",
              "      <td>2022-02-06 17:58:19</td>\n",
              "      <td>1644159499</td>\n",
              "      <td>wifi</td>\n",
              "      <td>NaN</td>\n",
              "      <td>US</td>\n",
              "      <td>Norwalk</td>\n",
              "    </tr>\n",
              "    <tr>\n",
              "      <th>2</th>\n",
              "      <td>JLkVacrzHY6</td>\n",
              "      <td>11</td>\n",
              "      <td>Google</td>\n",
              "      <td>Pixel 2</td>\n",
              "      <td>phone</td>\n",
              "      <td>en_US</td>\n",
              "      <td>c_ad_revenue</td>\n",
              "      <td>{\"ad_type\":\"banner\",\"placement\":\"\",\"view_index...</td>\n",
              "      <td>2022-02-05 17:53:05</td>\n",
              "      <td>1644072785</td>\n",
              "      <td>2022-02-06 16:59:29</td>\n",
              "      <td>1644155969</td>\n",
              "      <td>wifi</td>\n",
              "      <td>Verizon</td>\n",
              "      <td>US</td>\n",
              "      <td>Charlotte</td>\n",
              "    </tr>\n",
              "    <tr>\n",
              "      <th>3</th>\n",
              "      <td>JMC6wG3cX0f</td>\n",
              "      <td>10</td>\n",
              "      <td>Samsung</td>\n",
              "      <td>Galaxy S9</td>\n",
              "      <td>phone</td>\n",
              "      <td>en_US</td>\n",
              "      <td>c_ad_revenue</td>\n",
              "      <td>{\"ad_type\":\"int\",\"placement\":\"next_level\",\"vie...</td>\n",
              "      <td>2022-02-06 17:09:01</td>\n",
              "      <td>1644156541</td>\n",
              "      <td>2022-02-06 17:09:24</td>\n",
              "      <td>1644156564</td>\n",
              "      <td>wifi</td>\n",
              "      <td>T-Mobile</td>\n",
              "      <td>US</td>\n",
              "      <td>Cocoa</td>\n",
              "    </tr>\n",
              "    <tr>\n",
              "      <th>4</th>\n",
              "      <td>JLzWWTJfi1b</td>\n",
              "      <td>10</td>\n",
              "      <td>Samsung</td>\n",
              "      <td>Galaxy S9</td>\n",
              "      <td>phone</td>\n",
              "      <td>en_US</td>\n",
              "      <td>c_ad_revenue</td>\n",
              "      <td>{\"ad_type\":\"banner\",\"placement\":\"\",\"view_index...</td>\n",
              "      <td>2022-02-06 17:15:38</td>\n",
              "      <td>1644156938</td>\n",
              "      <td>2022-02-06 17:16:16</td>\n",
              "      <td>1644156976</td>\n",
              "      <td>cell</td>\n",
              "      <td>Verizon</td>\n",
              "      <td>US</td>\n",
              "      <td>NaN</td>\n",
              "    </tr>\n",
              "  </tbody>\n",
              "</table>\n",
              "</div>\n",
              "      <button class=\"colab-df-convert\" onclick=\"convertToInteractive('df-df43cfe2-9983-4b3f-bc6a-f3f61f98e66e')\"\n",
              "              title=\"Convert this dataframe to an interactive table.\"\n",
              "              style=\"display:none;\">\n",
              "        \n",
              "  <svg xmlns=\"http://www.w3.org/2000/svg\" height=\"24px\"viewBox=\"0 0 24 24\"\n",
              "       width=\"24px\">\n",
              "    <path d=\"M0 0h24v24H0V0z\" fill=\"none\"/>\n",
              "    <path d=\"M18.56 5.44l.94 2.06.94-2.06 2.06-.94-2.06-.94-.94-2.06-.94 2.06-2.06.94zm-11 1L8.5 8.5l.94-2.06 2.06-.94-2.06-.94L8.5 2.5l-.94 2.06-2.06.94zm10 10l.94 2.06.94-2.06 2.06-.94-2.06-.94-.94-2.06-.94 2.06-2.06.94z\"/><path d=\"M17.41 7.96l-1.37-1.37c-.4-.4-.92-.59-1.43-.59-.52 0-1.04.2-1.43.59L10.3 9.45l-7.72 7.72c-.78.78-.78 2.05 0 2.83L4 21.41c.39.39.9.59 1.41.59.51 0 1.02-.2 1.41-.59l7.78-7.78 2.81-2.81c.8-.78.8-2.07 0-2.86zM5.41 20L4 18.59l7.72-7.72 1.47 1.35L5.41 20z\"/>\n",
              "  </svg>\n",
              "      </button>\n",
              "      \n",
              "  <style>\n",
              "    .colab-df-container {\n",
              "      display:flex;\n",
              "      flex-wrap:wrap;\n",
              "      gap: 12px;\n",
              "    }\n",
              "\n",
              "    .colab-df-convert {\n",
              "      background-color: #E8F0FE;\n",
              "      border: none;\n",
              "      border-radius: 50%;\n",
              "      cursor: pointer;\n",
              "      display: none;\n",
              "      fill: #1967D2;\n",
              "      height: 32px;\n",
              "      padding: 0 0 0 0;\n",
              "      width: 32px;\n",
              "    }\n",
              "\n",
              "    .colab-df-convert:hover {\n",
              "      background-color: #E2EBFA;\n",
              "      box-shadow: 0px 1px 2px rgba(60, 64, 67, 0.3), 0px 1px 3px 1px rgba(60, 64, 67, 0.15);\n",
              "      fill: #174EA6;\n",
              "    }\n",
              "\n",
              "    [theme=dark] .colab-df-convert {\n",
              "      background-color: #3B4455;\n",
              "      fill: #D2E3FC;\n",
              "    }\n",
              "\n",
              "    [theme=dark] .colab-df-convert:hover {\n",
              "      background-color: #434B5C;\n",
              "      box-shadow: 0px 1px 3px 1px rgba(0, 0, 0, 0.15);\n",
              "      filter: drop-shadow(0px 1px 2px rgba(0, 0, 0, 0.3));\n",
              "      fill: #FFFFFF;\n",
              "    }\n",
              "  </style>\n",
              "\n",
              "      <script>\n",
              "        const buttonEl =\n",
              "          document.querySelector('#df-df43cfe2-9983-4b3f-bc6a-f3f61f98e66e button.colab-df-convert');\n",
              "        buttonEl.style.display =\n",
              "          google.colab.kernel.accessAllowed ? 'block' : 'none';\n",
              "\n",
              "        async function convertToInteractive(key) {\n",
              "          const element = document.querySelector('#df-df43cfe2-9983-4b3f-bc6a-f3f61f98e66e');\n",
              "          const dataTable =\n",
              "            await google.colab.kernel.invokeFunction('convertToInteractive',\n",
              "                                                     [key], {});\n",
              "          if (!dataTable) return;\n",
              "\n",
              "          const docLinkHtml = 'Like what you see? Visit the ' +\n",
              "            '<a target=\"_blank\" href=https://colab.research.google.com/notebooks/data_table.ipynb>data table notebook</a>'\n",
              "            + ' to learn more about interactive tables.';\n",
              "          element.innerHTML = '';\n",
              "          dataTable['output_type'] = 'display_data';\n",
              "          await google.colab.output.renderOutput(dataTable, element);\n",
              "          const docLink = document.createElement('div');\n",
              "          docLink.innerHTML = docLinkHtml;\n",
              "          element.appendChild(docLink);\n",
              "        }\n",
              "      </script>\n",
              "    </div>\n",
              "  </div>\n",
              "  "
            ]
          },
          "metadata": {},
          "execution_count": 4
        }
      ]
    },
    {
      "cell_type": "code",
      "source": [
        "df['event_json'][0]"
      ],
      "metadata": {
        "colab": {
          "base_uri": "https://localhost:8080/",
          "height": 74
        },
        "id": "mAwYMDCvl4B3",
        "outputId": "bedd54b8-183f-4ba0-a947-08655f840b98"
      },
      "execution_count": null,
      "outputs": [
        {
          "output_type": "execute_result",
          "data": {
            "text/plain": [
              "'{\"ad_type\":\"banner\",\"placement\":\"\",\"view_index\":1,\"session_view_index\":0,\"cur_ticks\":637795729492245130,\"session_length\":705.8807,\"revenue\":0.000510313,\"ads_ltv\":0.487876676518837,\"ecpm_sma\":0.511508107185364,\"normalized_ecpm_sma\":0.511508107185364,\"value\":0.000510313,\"currency\":\"USD\",\"ad_country_code\":\"US\",\"network_name\":\"Google AdMob\",\"ad_unit_id\":\"64c6b1114ea8c1cc\",\"ad_network_placement\":\"ca-app-pub-7511632782617496/8825263691\",\"creativeId\":\"CJ3XirfD5vUCFYPnKAUdG3MOYQ\"}'"
            ],
            "application/vnd.google.colaboratory.intrinsic+json": {
              "type": "string"
            }
          },
          "metadata": {},
          "execution_count": 5
        }
      ]
    },
    {
      "cell_type": "markdown",
      "source": [
        "Колонка event_json представлена json-форматом, переведем содержимое данной колонки в датафрейм "
      ],
      "metadata": {
        "id": "Z0nXNTzJwvP4"
      }
    },
    {
      "cell_type": "code",
      "source": [
        "import json\n",
        "\n",
        "# создание таблицы df_json из колонки event_json\n",
        "df_json = pd.json_normalize(df['event_json'].apply(json.loads))"
      ],
      "metadata": {
        "id": "zJDzq-kynYEw"
      },
      "execution_count": null,
      "outputs": []
    },
    {
      "cell_type": "code",
      "source": [
        "# объединим обе таблицы\n",
        "df = pd.concat([df, df_json], axis=1)"
      ],
      "metadata": {
        "id": "AE-jTKEmqIDE"
      },
      "execution_count": null,
      "outputs": []
    },
    {
      "cell_type": "code",
      "source": [
        "# удалим колонку event_json\n",
        "df = df.drop(['event_json'], axis=1)"
      ],
      "metadata": {
        "id": "4iQo-corrELq"
      },
      "execution_count": null,
      "outputs": []
    },
    {
      "cell_type": "markdown",
      "source": [
        "Удалим дублирующие колонки и колонки, не несущие информации"
      ],
      "metadata": {
        "id": "TxrMIJt1xtda"
      }
    },
    {
      "cell_type": "code",
      "source": [
        "df = df.drop(['event_name', 'country_iso_code', 'currency', 'ad_unit_id'], axis=1)"
      ],
      "metadata": {
        "id": "yQR7kfq7FaPm"
      },
      "execution_count": null,
      "outputs": []
    },
    {
      "cell_type": "code",
      "source": [
        "pd.set_option('display.max_columns', None)"
      ],
      "metadata": {
        "id": "sihnukxwrlqb"
      },
      "execution_count": null,
      "outputs": []
    },
    {
      "cell_type": "code",
      "source": [
        "df.head()"
      ],
      "metadata": {
        "colab": {
          "base_uri": "https://localhost:8080/",
          "height": 353
        },
        "id": "0J0_H4_ornUG",
        "outputId": "fe8c0cef-7ca0-4ea4-fa4b-8cbdc0ad3195"
      },
      "execution_count": null,
      "outputs": [
        {
          "output_type": "execute_result",
          "data": {
            "text/plain": [
              "    profile_id os_version device_manufacturer   device_model device_type  \\\n",
              "0  JLjpGzDHBQm         11             Samsung  Galaxy Tab S6      tablet   \n",
              "1  JLjpGzDHBQm         11             Samsung  Galaxy Tab S6      tablet   \n",
              "2  JLkVacrzHY6         11              Google        Pixel 2       phone   \n",
              "3  JMC6wG3cX0f         10             Samsung      Galaxy S9       phone   \n",
              "4  JLzWWTJfi1b         10             Samsung      Galaxy S9       phone   \n",
              "\n",
              "  device_locale       event_datetime  event_timestamp event_receive_datetime  \\\n",
              "0         en_US  2022-02-04 20:02:28       1643994148    2022-02-06 17:58:19   \n",
              "1         en_US  2022-02-04 20:02:45       1643994165    2022-02-06 17:58:19   \n",
              "2         en_US  2022-02-05 17:53:05       1644072785    2022-02-06 16:59:29   \n",
              "3         en_US  2022-02-06 17:09:01       1644156541    2022-02-06 17:09:24   \n",
              "4         en_US  2022-02-06 17:15:38       1644156938    2022-02-06 17:16:16   \n",
              "\n",
              "   event_receive_timestamp connection_type operator_name       city ad_type  \\\n",
              "0               1644159499            wifi           NaN    Norwalk  banner   \n",
              "1               1644159499            wifi           NaN    Norwalk  banner   \n",
              "2               1644155969            wifi       Verizon  Charlotte  banner   \n",
              "3               1644156564            wifi      T-Mobile      Cocoa     int   \n",
              "4               1644156976            cell      Verizon         NaN  banner   \n",
              "\n",
              "    placement  view_index  session_view_index           cur_ticks  \\\n",
              "0                       1                   0  637795729492245130   \n",
              "1                       1                   0  637795729659949790   \n",
              "2                       1                   0  637796515863735930   \n",
              "3  next_level           1                   1  637797353426827330   \n",
              "4                       1                   0  637797357392197840   \n",
              "\n",
              "   session_length   revenue   ads_ltv   ecpm_sma  normalized_ecpm_sma  \\\n",
              "0       705.88070  0.000510  0.487877   0.511508             0.511508   \n",
              "1       722.65120  0.000510  0.488387   0.511389             0.511389   \n",
              "2       431.81290  0.002386  0.678479   0.928597             0.928597   \n",
              "3       125.94960  0.013894  0.013894  13.782633            13.893784   \n",
              "4        12.71129  0.006828  0.060571   1.660282             1.660282   \n",
              "\n",
              "      value ad_country_code       network_name  \\\n",
              "0  0.000510              US       Google AdMob   \n",
              "1  0.000510              US       Google AdMob   \n",
              "2  0.002386              US  APPLOVIN_EXCHANGE   \n",
              "3  0.013894              US           AppLovin   \n",
              "4  0.006828              US       Google AdMob   \n",
              "\n",
              "                     ad_network_placement                  creativeId  \n",
              "0  ca-app-pub-7511632782617496/8825263691  CJ3XirfD5vUCFYPnKAUdG3MOYQ  \n",
              "1  ca-app-pub-7511632782617496/8825263691  CNa-lL_D5vUCFZrpKAUdU2QBDQ  \n",
              "2                          banner_regular                  pandora-58  \n",
              "3                           inter_regular                    13045364  \n",
              "4  ca-app-pub-7511632782617496/6197324251  CMTi5e-h6_UCFUdVwQodt9EIMw  "
            ],
            "text/html": [
              "\n",
              "  <div id=\"df-3d1ecff5-a233-4f01-bcfa-2429ba62052b\">\n",
              "    <div class=\"colab-df-container\">\n",
              "      <div>\n",
              "<style scoped>\n",
              "    .dataframe tbody tr th:only-of-type {\n",
              "        vertical-align: middle;\n",
              "    }\n",
              "\n",
              "    .dataframe tbody tr th {\n",
              "        vertical-align: top;\n",
              "    }\n",
              "\n",
              "    .dataframe thead th {\n",
              "        text-align: right;\n",
              "    }\n",
              "</style>\n",
              "<table border=\"1\" class=\"dataframe\">\n",
              "  <thead>\n",
              "    <tr style=\"text-align: right;\">\n",
              "      <th></th>\n",
              "      <th>profile_id</th>\n",
              "      <th>os_version</th>\n",
              "      <th>device_manufacturer</th>\n",
              "      <th>device_model</th>\n",
              "      <th>device_type</th>\n",
              "      <th>device_locale</th>\n",
              "      <th>event_datetime</th>\n",
              "      <th>event_timestamp</th>\n",
              "      <th>event_receive_datetime</th>\n",
              "      <th>event_receive_timestamp</th>\n",
              "      <th>connection_type</th>\n",
              "      <th>operator_name</th>\n",
              "      <th>city</th>\n",
              "      <th>ad_type</th>\n",
              "      <th>placement</th>\n",
              "      <th>view_index</th>\n",
              "      <th>session_view_index</th>\n",
              "      <th>cur_ticks</th>\n",
              "      <th>session_length</th>\n",
              "      <th>revenue</th>\n",
              "      <th>ads_ltv</th>\n",
              "      <th>ecpm_sma</th>\n",
              "      <th>normalized_ecpm_sma</th>\n",
              "      <th>value</th>\n",
              "      <th>ad_country_code</th>\n",
              "      <th>network_name</th>\n",
              "      <th>ad_network_placement</th>\n",
              "      <th>creativeId</th>\n",
              "    </tr>\n",
              "  </thead>\n",
              "  <tbody>\n",
              "    <tr>\n",
              "      <th>0</th>\n",
              "      <td>JLjpGzDHBQm</td>\n",
              "      <td>11</td>\n",
              "      <td>Samsung</td>\n",
              "      <td>Galaxy Tab S6</td>\n",
              "      <td>tablet</td>\n",
              "      <td>en_US</td>\n",
              "      <td>2022-02-04 20:02:28</td>\n",
              "      <td>1643994148</td>\n",
              "      <td>2022-02-06 17:58:19</td>\n",
              "      <td>1644159499</td>\n",
              "      <td>wifi</td>\n",
              "      <td>NaN</td>\n",
              "      <td>Norwalk</td>\n",
              "      <td>banner</td>\n",
              "      <td></td>\n",
              "      <td>1</td>\n",
              "      <td>0</td>\n",
              "      <td>637795729492245130</td>\n",
              "      <td>705.88070</td>\n",
              "      <td>0.000510</td>\n",
              "      <td>0.487877</td>\n",
              "      <td>0.511508</td>\n",
              "      <td>0.511508</td>\n",
              "      <td>0.000510</td>\n",
              "      <td>US</td>\n",
              "      <td>Google AdMob</td>\n",
              "      <td>ca-app-pub-7511632782617496/8825263691</td>\n",
              "      <td>CJ3XirfD5vUCFYPnKAUdG3MOYQ</td>\n",
              "    </tr>\n",
              "    <tr>\n",
              "      <th>1</th>\n",
              "      <td>JLjpGzDHBQm</td>\n",
              "      <td>11</td>\n",
              "      <td>Samsung</td>\n",
              "      <td>Galaxy Tab S6</td>\n",
              "      <td>tablet</td>\n",
              "      <td>en_US</td>\n",
              "      <td>2022-02-04 20:02:45</td>\n",
              "      <td>1643994165</td>\n",
              "      <td>2022-02-06 17:58:19</td>\n",
              "      <td>1644159499</td>\n",
              "      <td>wifi</td>\n",
              "      <td>NaN</td>\n",
              "      <td>Norwalk</td>\n",
              "      <td>banner</td>\n",
              "      <td></td>\n",
              "      <td>1</td>\n",
              "      <td>0</td>\n",
              "      <td>637795729659949790</td>\n",
              "      <td>722.65120</td>\n",
              "      <td>0.000510</td>\n",
              "      <td>0.488387</td>\n",
              "      <td>0.511389</td>\n",
              "      <td>0.511389</td>\n",
              "      <td>0.000510</td>\n",
              "      <td>US</td>\n",
              "      <td>Google AdMob</td>\n",
              "      <td>ca-app-pub-7511632782617496/8825263691</td>\n",
              "      <td>CNa-lL_D5vUCFZrpKAUdU2QBDQ</td>\n",
              "    </tr>\n",
              "    <tr>\n",
              "      <th>2</th>\n",
              "      <td>JLkVacrzHY6</td>\n",
              "      <td>11</td>\n",
              "      <td>Google</td>\n",
              "      <td>Pixel 2</td>\n",
              "      <td>phone</td>\n",
              "      <td>en_US</td>\n",
              "      <td>2022-02-05 17:53:05</td>\n",
              "      <td>1644072785</td>\n",
              "      <td>2022-02-06 16:59:29</td>\n",
              "      <td>1644155969</td>\n",
              "      <td>wifi</td>\n",
              "      <td>Verizon</td>\n",
              "      <td>Charlotte</td>\n",
              "      <td>banner</td>\n",
              "      <td></td>\n",
              "      <td>1</td>\n",
              "      <td>0</td>\n",
              "      <td>637796515863735930</td>\n",
              "      <td>431.81290</td>\n",
              "      <td>0.002386</td>\n",
              "      <td>0.678479</td>\n",
              "      <td>0.928597</td>\n",
              "      <td>0.928597</td>\n",
              "      <td>0.002386</td>\n",
              "      <td>US</td>\n",
              "      <td>APPLOVIN_EXCHANGE</td>\n",
              "      <td>banner_regular</td>\n",
              "      <td>pandora-58</td>\n",
              "    </tr>\n",
              "    <tr>\n",
              "      <th>3</th>\n",
              "      <td>JMC6wG3cX0f</td>\n",
              "      <td>10</td>\n",
              "      <td>Samsung</td>\n",
              "      <td>Galaxy S9</td>\n",
              "      <td>phone</td>\n",
              "      <td>en_US</td>\n",
              "      <td>2022-02-06 17:09:01</td>\n",
              "      <td>1644156541</td>\n",
              "      <td>2022-02-06 17:09:24</td>\n",
              "      <td>1644156564</td>\n",
              "      <td>wifi</td>\n",
              "      <td>T-Mobile</td>\n",
              "      <td>Cocoa</td>\n",
              "      <td>int</td>\n",
              "      <td>next_level</td>\n",
              "      <td>1</td>\n",
              "      <td>1</td>\n",
              "      <td>637797353426827330</td>\n",
              "      <td>125.94960</td>\n",
              "      <td>0.013894</td>\n",
              "      <td>0.013894</td>\n",
              "      <td>13.782633</td>\n",
              "      <td>13.893784</td>\n",
              "      <td>0.013894</td>\n",
              "      <td>US</td>\n",
              "      <td>AppLovin</td>\n",
              "      <td>inter_regular</td>\n",
              "      <td>13045364</td>\n",
              "    </tr>\n",
              "    <tr>\n",
              "      <th>4</th>\n",
              "      <td>JLzWWTJfi1b</td>\n",
              "      <td>10</td>\n",
              "      <td>Samsung</td>\n",
              "      <td>Galaxy S9</td>\n",
              "      <td>phone</td>\n",
              "      <td>en_US</td>\n",
              "      <td>2022-02-06 17:15:38</td>\n",
              "      <td>1644156938</td>\n",
              "      <td>2022-02-06 17:16:16</td>\n",
              "      <td>1644156976</td>\n",
              "      <td>cell</td>\n",
              "      <td>Verizon</td>\n",
              "      <td>NaN</td>\n",
              "      <td>banner</td>\n",
              "      <td></td>\n",
              "      <td>1</td>\n",
              "      <td>0</td>\n",
              "      <td>637797357392197840</td>\n",
              "      <td>12.71129</td>\n",
              "      <td>0.006828</td>\n",
              "      <td>0.060571</td>\n",
              "      <td>1.660282</td>\n",
              "      <td>1.660282</td>\n",
              "      <td>0.006828</td>\n",
              "      <td>US</td>\n",
              "      <td>Google AdMob</td>\n",
              "      <td>ca-app-pub-7511632782617496/6197324251</td>\n",
              "      <td>CMTi5e-h6_UCFUdVwQodt9EIMw</td>\n",
              "    </tr>\n",
              "  </tbody>\n",
              "</table>\n",
              "</div>\n",
              "      <button class=\"colab-df-convert\" onclick=\"convertToInteractive('df-3d1ecff5-a233-4f01-bcfa-2429ba62052b')\"\n",
              "              title=\"Convert this dataframe to an interactive table.\"\n",
              "              style=\"display:none;\">\n",
              "        \n",
              "  <svg xmlns=\"http://www.w3.org/2000/svg\" height=\"24px\"viewBox=\"0 0 24 24\"\n",
              "       width=\"24px\">\n",
              "    <path d=\"M0 0h24v24H0V0z\" fill=\"none\"/>\n",
              "    <path d=\"M18.56 5.44l.94 2.06.94-2.06 2.06-.94-2.06-.94-.94-2.06-.94 2.06-2.06.94zm-11 1L8.5 8.5l.94-2.06 2.06-.94-2.06-.94L8.5 2.5l-.94 2.06-2.06.94zm10 10l.94 2.06.94-2.06 2.06-.94-2.06-.94-.94-2.06-.94 2.06-2.06.94z\"/><path d=\"M17.41 7.96l-1.37-1.37c-.4-.4-.92-.59-1.43-.59-.52 0-1.04.2-1.43.59L10.3 9.45l-7.72 7.72c-.78.78-.78 2.05 0 2.83L4 21.41c.39.39.9.59 1.41.59.51 0 1.02-.2 1.41-.59l7.78-7.78 2.81-2.81c.8-.78.8-2.07 0-2.86zM5.41 20L4 18.59l7.72-7.72 1.47 1.35L5.41 20z\"/>\n",
              "  </svg>\n",
              "      </button>\n",
              "      \n",
              "  <style>\n",
              "    .colab-df-container {\n",
              "      display:flex;\n",
              "      flex-wrap:wrap;\n",
              "      gap: 12px;\n",
              "    }\n",
              "\n",
              "    .colab-df-convert {\n",
              "      background-color: #E8F0FE;\n",
              "      border: none;\n",
              "      border-radius: 50%;\n",
              "      cursor: pointer;\n",
              "      display: none;\n",
              "      fill: #1967D2;\n",
              "      height: 32px;\n",
              "      padding: 0 0 0 0;\n",
              "      width: 32px;\n",
              "    }\n",
              "\n",
              "    .colab-df-convert:hover {\n",
              "      background-color: #E2EBFA;\n",
              "      box-shadow: 0px 1px 2px rgba(60, 64, 67, 0.3), 0px 1px 3px 1px rgba(60, 64, 67, 0.15);\n",
              "      fill: #174EA6;\n",
              "    }\n",
              "\n",
              "    [theme=dark] .colab-df-convert {\n",
              "      background-color: #3B4455;\n",
              "      fill: #D2E3FC;\n",
              "    }\n",
              "\n",
              "    [theme=dark] .colab-df-convert:hover {\n",
              "      background-color: #434B5C;\n",
              "      box-shadow: 0px 1px 3px 1px rgba(0, 0, 0, 0.15);\n",
              "      filter: drop-shadow(0px 1px 2px rgba(0, 0, 0, 0.3));\n",
              "      fill: #FFFFFF;\n",
              "    }\n",
              "  </style>\n",
              "\n",
              "      <script>\n",
              "        const buttonEl =\n",
              "          document.querySelector('#df-3d1ecff5-a233-4f01-bcfa-2429ba62052b button.colab-df-convert');\n",
              "        buttonEl.style.display =\n",
              "          google.colab.kernel.accessAllowed ? 'block' : 'none';\n",
              "\n",
              "        async function convertToInteractive(key) {\n",
              "          const element = document.querySelector('#df-3d1ecff5-a233-4f01-bcfa-2429ba62052b');\n",
              "          const dataTable =\n",
              "            await google.colab.kernel.invokeFunction('convertToInteractive',\n",
              "                                                     [key], {});\n",
              "          if (!dataTable) return;\n",
              "\n",
              "          const docLinkHtml = 'Like what you see? Visit the ' +\n",
              "            '<a target=\"_blank\" href=https://colab.research.google.com/notebooks/data_table.ipynb>data table notebook</a>'\n",
              "            + ' to learn more about interactive tables.';\n",
              "          element.innerHTML = '';\n",
              "          dataTable['output_type'] = 'display_data';\n",
              "          await google.colab.output.renderOutput(dataTable, element);\n",
              "          const docLink = document.createElement('div');\n",
              "          docLink.innerHTML = docLinkHtml;\n",
              "          element.appendChild(docLink);\n",
              "        }\n",
              "      </script>\n",
              "    </div>\n",
              "  </div>\n",
              "  "
            ]
          },
          "metadata": {},
          "execution_count": 11
        }
      ]
    },
    {
      "cell_type": "markdown",
      "source": [
        "Период наблюдений"
      ],
      "metadata": {
        "id": "IJjYgLqw66NU"
      }
    },
    {
      "cell_type": "code",
      "source": [
        "df['event_datetime'].min(), df['event_datetime'].max()"
      ],
      "metadata": {
        "colab": {
          "base_uri": "https://localhost:8080/"
        },
        "id": "ZsYABjL26bv-",
        "outputId": "ddb30f8c-71d7-446d-b596-db6c9547e8d6"
      },
      "execution_count": null,
      "outputs": [
        {
          "output_type": "execute_result",
          "data": {
            "text/plain": [
              "('2022-01-29 17:42:32', '2022-02-07 23:59:59')"
            ]
          },
          "metadata": {},
          "execution_count": 12
        }
      ]
    },
    {
      "cell_type": "markdown",
      "source": [
        "Пропуски в данных (%)"
      ],
      "metadata": {
        "id": "owlVTq9Ox9sX"
      }
    },
    {
      "cell_type": "code",
      "source": [
        "df.isna().mean()"
      ],
      "metadata": {
        "colab": {
          "base_uri": "https://localhost:8080/"
        },
        "id": "rwsKboZpi97H",
        "outputId": "704ff746-b247-4a8a-82f1-bdcf3b59c953"
      },
      "execution_count": null,
      "outputs": [
        {
          "output_type": "execute_result",
          "data": {
            "text/plain": [
              "profile_id                 0.000016\n",
              "os_version                 0.000000\n",
              "device_manufacturer        0.000000\n",
              "device_model               0.000000\n",
              "device_type                0.000000\n",
              "device_locale              0.000000\n",
              "event_datetime             0.000000\n",
              "event_timestamp            0.000000\n",
              "event_receive_datetime     0.000000\n",
              "event_receive_timestamp    0.000000\n",
              "connection_type            0.000000\n",
              "operator_name              0.021950\n",
              "city                       0.376370\n",
              "ad_type                    0.000000\n",
              "placement                  0.000000\n",
              "view_index                 0.000000\n",
              "session_view_index         0.000000\n",
              "cur_ticks                  0.000000\n",
              "session_length             0.000000\n",
              "revenue                    0.000000\n",
              "ads_ltv                    0.000000\n",
              "ecpm_sma                   0.000000\n",
              "normalized_ecpm_sma        0.000000\n",
              "value                      0.000000\n",
              "ad_country_code            0.000000\n",
              "network_name               0.000000\n",
              "ad_network_placement       0.000000\n",
              "creativeId                 0.000000\n",
              "dtype: float64"
            ]
          },
          "metadata": {},
          "execution_count": 13
        }
      ]
    },
    {
      "cell_type": "markdown",
      "source": [
        "Среднее значение eCPM по выборке"
      ],
      "metadata": {
        "id": "hHWwNztVyFOi"
      }
    },
    {
      "cell_type": "code",
      "source": [
        "df['revenue'].mean() * 1000"
      ],
      "metadata": {
        "colab": {
          "base_uri": "https://localhost:8080/"
        },
        "id": "l9wkVy1EvVCn",
        "outputId": "ef4c5d54-b304-43ee-d5e1-34f45ed989a2"
      },
      "execution_count": null,
      "outputs": [
        {
          "output_type": "execute_result",
          "data": {
            "text/plain": [
              "2.7797430937683245"
            ]
          },
          "metadata": {},
          "execution_count": 14
        }
      ]
    },
    {
      "cell_type": "markdown",
      "source": [
        "Среднее значение eCPM, доход и количество показов по форматам"
      ],
      "metadata": {
        "id": "XGi8aTTUyY8n"
      }
    },
    {
      "cell_type": "code",
      "source": [
        "t = df.groupby('ad_type')['revenue'].agg(['mean', 'sum', 'count']).reset_index()\n",
        "t.columns = ['ad_type', 'eCPM', 'revenue', 'count']\n",
        "t['eCPM'] = t['eCPM'] * 1000\n",
        "\n",
        "t"
      ],
      "metadata": {
        "colab": {
          "base_uri": "https://localhost:8080/",
          "height": 142
        },
        "id": "_SdlAckbyq93",
        "outputId": "456859fa-8950-4686-ef24-b10ac68c5db6"
      },
      "execution_count": null,
      "outputs": [
        {
          "output_type": "execute_result",
          "data": {
            "text/plain": [
              "  ad_type       eCPM      revenue   count\n",
              "0  banner   0.744113   607.184041  815984\n",
              "1     int  36.209634  1361.952967   37613\n",
              "2      rv  65.051165   421.661652    6482"
            ],
            "text/html": [
              "\n",
              "  <div id=\"df-373d1885-a0ed-4035-bcb4-c517dd40e9fb\">\n",
              "    <div class=\"colab-df-container\">\n",
              "      <div>\n",
              "<style scoped>\n",
              "    .dataframe tbody tr th:only-of-type {\n",
              "        vertical-align: middle;\n",
              "    }\n",
              "\n",
              "    .dataframe tbody tr th {\n",
              "        vertical-align: top;\n",
              "    }\n",
              "\n",
              "    .dataframe thead th {\n",
              "        text-align: right;\n",
              "    }\n",
              "</style>\n",
              "<table border=\"1\" class=\"dataframe\">\n",
              "  <thead>\n",
              "    <tr style=\"text-align: right;\">\n",
              "      <th></th>\n",
              "      <th>ad_type</th>\n",
              "      <th>eCPM</th>\n",
              "      <th>revenue</th>\n",
              "      <th>count</th>\n",
              "    </tr>\n",
              "  </thead>\n",
              "  <tbody>\n",
              "    <tr>\n",
              "      <th>0</th>\n",
              "      <td>banner</td>\n",
              "      <td>0.744113</td>\n",
              "      <td>607.184041</td>\n",
              "      <td>815984</td>\n",
              "    </tr>\n",
              "    <tr>\n",
              "      <th>1</th>\n",
              "      <td>int</td>\n",
              "      <td>36.209634</td>\n",
              "      <td>1361.952967</td>\n",
              "      <td>37613</td>\n",
              "    </tr>\n",
              "    <tr>\n",
              "      <th>2</th>\n",
              "      <td>rv</td>\n",
              "      <td>65.051165</td>\n",
              "      <td>421.661652</td>\n",
              "      <td>6482</td>\n",
              "    </tr>\n",
              "  </tbody>\n",
              "</table>\n",
              "</div>\n",
              "      <button class=\"colab-df-convert\" onclick=\"convertToInteractive('df-373d1885-a0ed-4035-bcb4-c517dd40e9fb')\"\n",
              "              title=\"Convert this dataframe to an interactive table.\"\n",
              "              style=\"display:none;\">\n",
              "        \n",
              "  <svg xmlns=\"http://www.w3.org/2000/svg\" height=\"24px\"viewBox=\"0 0 24 24\"\n",
              "       width=\"24px\">\n",
              "    <path d=\"M0 0h24v24H0V0z\" fill=\"none\"/>\n",
              "    <path d=\"M18.56 5.44l.94 2.06.94-2.06 2.06-.94-2.06-.94-.94-2.06-.94 2.06-2.06.94zm-11 1L8.5 8.5l.94-2.06 2.06-.94-2.06-.94L8.5 2.5l-.94 2.06-2.06.94zm10 10l.94 2.06.94-2.06 2.06-.94-2.06-.94-.94-2.06-.94 2.06-2.06.94z\"/><path d=\"M17.41 7.96l-1.37-1.37c-.4-.4-.92-.59-1.43-.59-.52 0-1.04.2-1.43.59L10.3 9.45l-7.72 7.72c-.78.78-.78 2.05 0 2.83L4 21.41c.39.39.9.59 1.41.59.51 0 1.02-.2 1.41-.59l7.78-7.78 2.81-2.81c.8-.78.8-2.07 0-2.86zM5.41 20L4 18.59l7.72-7.72 1.47 1.35L5.41 20z\"/>\n",
              "  </svg>\n",
              "      </button>\n",
              "      \n",
              "  <style>\n",
              "    .colab-df-container {\n",
              "      display:flex;\n",
              "      flex-wrap:wrap;\n",
              "      gap: 12px;\n",
              "    }\n",
              "\n",
              "    .colab-df-convert {\n",
              "      background-color: #E8F0FE;\n",
              "      border: none;\n",
              "      border-radius: 50%;\n",
              "      cursor: pointer;\n",
              "      display: none;\n",
              "      fill: #1967D2;\n",
              "      height: 32px;\n",
              "      padding: 0 0 0 0;\n",
              "      width: 32px;\n",
              "    }\n",
              "\n",
              "    .colab-df-convert:hover {\n",
              "      background-color: #E2EBFA;\n",
              "      box-shadow: 0px 1px 2px rgba(60, 64, 67, 0.3), 0px 1px 3px 1px rgba(60, 64, 67, 0.15);\n",
              "      fill: #174EA6;\n",
              "    }\n",
              "\n",
              "    [theme=dark] .colab-df-convert {\n",
              "      background-color: #3B4455;\n",
              "      fill: #D2E3FC;\n",
              "    }\n",
              "\n",
              "    [theme=dark] .colab-df-convert:hover {\n",
              "      background-color: #434B5C;\n",
              "      box-shadow: 0px 1px 3px 1px rgba(0, 0, 0, 0.15);\n",
              "      filter: drop-shadow(0px 1px 2px rgba(0, 0, 0, 0.3));\n",
              "      fill: #FFFFFF;\n",
              "    }\n",
              "  </style>\n",
              "\n",
              "      <script>\n",
              "        const buttonEl =\n",
              "          document.querySelector('#df-373d1885-a0ed-4035-bcb4-c517dd40e9fb button.colab-df-convert');\n",
              "        buttonEl.style.display =\n",
              "          google.colab.kernel.accessAllowed ? 'block' : 'none';\n",
              "\n",
              "        async function convertToInteractive(key) {\n",
              "          const element = document.querySelector('#df-373d1885-a0ed-4035-bcb4-c517dd40e9fb');\n",
              "          const dataTable =\n",
              "            await google.colab.kernel.invokeFunction('convertToInteractive',\n",
              "                                                     [key], {});\n",
              "          if (!dataTable) return;\n",
              "\n",
              "          const docLinkHtml = 'Like what you see? Visit the ' +\n",
              "            '<a target=\"_blank\" href=https://colab.research.google.com/notebooks/data_table.ipynb>data table notebook</a>'\n",
              "            + ' to learn more about interactive tables.';\n",
              "          element.innerHTML = '';\n",
              "          dataTable['output_type'] = 'display_data';\n",
              "          await google.colab.output.renderOutput(dataTable, element);\n",
              "          const docLink = document.createElement('div');\n",
              "          docLink.innerHTML = docLinkHtml;\n",
              "          element.appendChild(docLink);\n",
              "        }\n",
              "      </script>\n",
              "    </div>\n",
              "  </div>\n",
              "  "
            ]
          },
          "metadata": {},
          "execution_count": 15
        }
      ]
    },
    {
      "cell_type": "markdown",
      "source": [
        "По таблице видно, что eCPM увеличивается обратно пропорционально числу показов, стоимость просмотра выше у более редкого формата.\n",
        "\n",
        "Более половины дохода составляет доход от полноэкранной рекламы."
      ],
      "metadata": {
        "id": "3GjwYJdv0a0C"
      }
    },
    {
      "cell_type": "markdown",
      "source": [
        "### Распределение средних значений eCPM по пользователям"
      ],
      "metadata": {
        "id": "q-0JNn1U22QX"
      }
    },
    {
      "cell_type": "markdown",
      "source": [
        "Сделаем сводную таблицы eCPM по пользователям"
      ],
      "metadata": {
        "id": "hNoD8iNi8KpL"
      }
    },
    {
      "cell_type": "code",
      "source": [
        "users = df.groupby('profile_id')['revenue'].agg(['mean', 'count']).reset_index()"
      ],
      "metadata": {
        "id": "MxvvvGydvejq"
      },
      "execution_count": null,
      "outputs": []
    },
    {
      "cell_type": "code",
      "source": [
        "users['mean'] = users['mean'] * 1000\n",
        "users.columns = ['profile_id', 'eCPM', 'count']"
      ],
      "metadata": {
        "id": "_3LuSwoQWtTh"
      },
      "execution_count": null,
      "outputs": []
    },
    {
      "cell_type": "code",
      "source": [
        "users"
      ],
      "metadata": {
        "colab": {
          "base_uri": "https://localhost:8080/",
          "height": 419
        },
        "id": "hAZo8j3yXwZs",
        "outputId": "6d600ca4-3f23-4468-95e5-f60219b60cf8"
      },
      "execution_count": null,
      "outputs": [
        {
          "output_type": "execute_result",
          "data": {
            "text/plain": [
              "       profile_id       eCPM  count\n",
              "0     JL00qCZH1HV   3.183940     13\n",
              "1     JL015rw9vmN   2.034417    429\n",
              "2     JL01aCdFTJy   1.027932     39\n",
              "3     JL04ODuw9UP   2.674502     84\n",
              "4     JL06OWhBYxn   0.468146     13\n",
              "...           ...        ...    ...\n",
              "4221  JMLQTj4i34Y   1.682470     37\n",
              "4222  JMLY5SO7wmn   3.006910     11\n",
              "4223  JMLmauy744E  23.429988      1\n",
              "4224  JMLt54Rmui5   8.102624      3\n",
              "4225  JMML6MrvRA4   0.617551    324\n",
              "\n",
              "[4226 rows x 3 columns]"
            ],
            "text/html": [
              "\n",
              "  <div id=\"df-f659dc6f-e6d2-4d6a-bb18-36e5c4cfc748\">\n",
              "    <div class=\"colab-df-container\">\n",
              "      <div>\n",
              "<style scoped>\n",
              "    .dataframe tbody tr th:only-of-type {\n",
              "        vertical-align: middle;\n",
              "    }\n",
              "\n",
              "    .dataframe tbody tr th {\n",
              "        vertical-align: top;\n",
              "    }\n",
              "\n",
              "    .dataframe thead th {\n",
              "        text-align: right;\n",
              "    }\n",
              "</style>\n",
              "<table border=\"1\" class=\"dataframe\">\n",
              "  <thead>\n",
              "    <tr style=\"text-align: right;\">\n",
              "      <th></th>\n",
              "      <th>profile_id</th>\n",
              "      <th>eCPM</th>\n",
              "      <th>count</th>\n",
              "    </tr>\n",
              "  </thead>\n",
              "  <tbody>\n",
              "    <tr>\n",
              "      <th>0</th>\n",
              "      <td>JL00qCZH1HV</td>\n",
              "      <td>3.183940</td>\n",
              "      <td>13</td>\n",
              "    </tr>\n",
              "    <tr>\n",
              "      <th>1</th>\n",
              "      <td>JL015rw9vmN</td>\n",
              "      <td>2.034417</td>\n",
              "      <td>429</td>\n",
              "    </tr>\n",
              "    <tr>\n",
              "      <th>2</th>\n",
              "      <td>JL01aCdFTJy</td>\n",
              "      <td>1.027932</td>\n",
              "      <td>39</td>\n",
              "    </tr>\n",
              "    <tr>\n",
              "      <th>3</th>\n",
              "      <td>JL04ODuw9UP</td>\n",
              "      <td>2.674502</td>\n",
              "      <td>84</td>\n",
              "    </tr>\n",
              "    <tr>\n",
              "      <th>4</th>\n",
              "      <td>JL06OWhBYxn</td>\n",
              "      <td>0.468146</td>\n",
              "      <td>13</td>\n",
              "    </tr>\n",
              "    <tr>\n",
              "      <th>...</th>\n",
              "      <td>...</td>\n",
              "      <td>...</td>\n",
              "      <td>...</td>\n",
              "    </tr>\n",
              "    <tr>\n",
              "      <th>4221</th>\n",
              "      <td>JMLQTj4i34Y</td>\n",
              "      <td>1.682470</td>\n",
              "      <td>37</td>\n",
              "    </tr>\n",
              "    <tr>\n",
              "      <th>4222</th>\n",
              "      <td>JMLY5SO7wmn</td>\n",
              "      <td>3.006910</td>\n",
              "      <td>11</td>\n",
              "    </tr>\n",
              "    <tr>\n",
              "      <th>4223</th>\n",
              "      <td>JMLmauy744E</td>\n",
              "      <td>23.429988</td>\n",
              "      <td>1</td>\n",
              "    </tr>\n",
              "    <tr>\n",
              "      <th>4224</th>\n",
              "      <td>JMLt54Rmui5</td>\n",
              "      <td>8.102624</td>\n",
              "      <td>3</td>\n",
              "    </tr>\n",
              "    <tr>\n",
              "      <th>4225</th>\n",
              "      <td>JMML6MrvRA4</td>\n",
              "      <td>0.617551</td>\n",
              "      <td>324</td>\n",
              "    </tr>\n",
              "  </tbody>\n",
              "</table>\n",
              "<p>4226 rows × 3 columns</p>\n",
              "</div>\n",
              "      <button class=\"colab-df-convert\" onclick=\"convertToInteractive('df-f659dc6f-e6d2-4d6a-bb18-36e5c4cfc748')\"\n",
              "              title=\"Convert this dataframe to an interactive table.\"\n",
              "              style=\"display:none;\">\n",
              "        \n",
              "  <svg xmlns=\"http://www.w3.org/2000/svg\" height=\"24px\"viewBox=\"0 0 24 24\"\n",
              "       width=\"24px\">\n",
              "    <path d=\"M0 0h24v24H0V0z\" fill=\"none\"/>\n",
              "    <path d=\"M18.56 5.44l.94 2.06.94-2.06 2.06-.94-2.06-.94-.94-2.06-.94 2.06-2.06.94zm-11 1L8.5 8.5l.94-2.06 2.06-.94-2.06-.94L8.5 2.5l-.94 2.06-2.06.94zm10 10l.94 2.06.94-2.06 2.06-.94-2.06-.94-.94-2.06-.94 2.06-2.06.94z\"/><path d=\"M17.41 7.96l-1.37-1.37c-.4-.4-.92-.59-1.43-.59-.52 0-1.04.2-1.43.59L10.3 9.45l-7.72 7.72c-.78.78-.78 2.05 0 2.83L4 21.41c.39.39.9.59 1.41.59.51 0 1.02-.2 1.41-.59l7.78-7.78 2.81-2.81c.8-.78.8-2.07 0-2.86zM5.41 20L4 18.59l7.72-7.72 1.47 1.35L5.41 20z\"/>\n",
              "  </svg>\n",
              "      </button>\n",
              "      \n",
              "  <style>\n",
              "    .colab-df-container {\n",
              "      display:flex;\n",
              "      flex-wrap:wrap;\n",
              "      gap: 12px;\n",
              "    }\n",
              "\n",
              "    .colab-df-convert {\n",
              "      background-color: #E8F0FE;\n",
              "      border: none;\n",
              "      border-radius: 50%;\n",
              "      cursor: pointer;\n",
              "      display: none;\n",
              "      fill: #1967D2;\n",
              "      height: 32px;\n",
              "      padding: 0 0 0 0;\n",
              "      width: 32px;\n",
              "    }\n",
              "\n",
              "    .colab-df-convert:hover {\n",
              "      background-color: #E2EBFA;\n",
              "      box-shadow: 0px 1px 2px rgba(60, 64, 67, 0.3), 0px 1px 3px 1px rgba(60, 64, 67, 0.15);\n",
              "      fill: #174EA6;\n",
              "    }\n",
              "\n",
              "    [theme=dark] .colab-df-convert {\n",
              "      background-color: #3B4455;\n",
              "      fill: #D2E3FC;\n",
              "    }\n",
              "\n",
              "    [theme=dark] .colab-df-convert:hover {\n",
              "      background-color: #434B5C;\n",
              "      box-shadow: 0px 1px 3px 1px rgba(0, 0, 0, 0.15);\n",
              "      filter: drop-shadow(0px 1px 2px rgba(0, 0, 0, 0.3));\n",
              "      fill: #FFFFFF;\n",
              "    }\n",
              "  </style>\n",
              "\n",
              "      <script>\n",
              "        const buttonEl =\n",
              "          document.querySelector('#df-f659dc6f-e6d2-4d6a-bb18-36e5c4cfc748 button.colab-df-convert');\n",
              "        buttonEl.style.display =\n",
              "          google.colab.kernel.accessAllowed ? 'block' : 'none';\n",
              "\n",
              "        async function convertToInteractive(key) {\n",
              "          const element = document.querySelector('#df-f659dc6f-e6d2-4d6a-bb18-36e5c4cfc748');\n",
              "          const dataTable =\n",
              "            await google.colab.kernel.invokeFunction('convertToInteractive',\n",
              "                                                     [key], {});\n",
              "          if (!dataTable) return;\n",
              "\n",
              "          const docLinkHtml = 'Like what you see? Visit the ' +\n",
              "            '<a target=\"_blank\" href=https://colab.research.google.com/notebooks/data_table.ipynb>data table notebook</a>'\n",
              "            + ' to learn more about interactive tables.';\n",
              "          element.innerHTML = '';\n",
              "          dataTable['output_type'] = 'display_data';\n",
              "          await google.colab.output.renderOutput(dataTable, element);\n",
              "          const docLink = document.createElement('div');\n",
              "          docLink.innerHTML = docLinkHtml;\n",
              "          element.appendChild(docLink);\n",
              "        }\n",
              "      </script>\n",
              "    </div>\n",
              "  </div>\n",
              "  "
            ]
          },
          "metadata": {},
          "execution_count": 18
        }
      ]
    },
    {
      "cell_type": "markdown",
      "source": [
        "Распределение eCPM по пользователям"
      ],
      "metadata": {
        "id": "XLkBPqmv8kFD"
      }
    },
    {
      "cell_type": "code",
      "source": [
        "sns.set(rc={'figure.figsize':(13, 7)})"
      ],
      "metadata": {
        "id": "CfDDRVrmXO6J"
      },
      "execution_count": null,
      "outputs": []
    },
    {
      "cell_type": "code",
      "source": [
        "sns.histplot(data=users, x='eCPM', bins=50)"
      ],
      "metadata": {
        "colab": {
          "base_uri": "https://localhost:8080/",
          "height": 467
        },
        "id": "oA3a1W_IXSRd",
        "outputId": "cca370d1-428c-47a4-ad0a-687c93a8542a"
      },
      "execution_count": null,
      "outputs": [
        {
          "output_type": "execute_result",
          "data": {
            "text/plain": [
              "<matplotlib.axes._subplots.AxesSubplot at 0x7f23a7365810>"
            ]
          },
          "metadata": {},
          "execution_count": 20
        },
        {
          "output_type": "display_data",
          "data": {
            "text/plain": [
              "<Figure size 936x504 with 1 Axes>"
            ],
            "image/png": "[encoded data removed]"
          },
          "metadata": {}
        }
      ]
    },
    {
      "cell_type": "code",
      "source": [
        "users['eCPM'].describe()"
      ],
      "metadata": {
        "colab": {
          "base_uri": "https://localhost:8080/"
        },
        "id": "4vvZ6x2dM1cJ",
        "outputId": "abd187a3-45b5-410e-928d-d29ec9b2bf97"
      },
      "execution_count": null,
      "outputs": [
        {
          "output_type": "execute_result",
          "data": {
            "text/plain": [
              "count    4226.000000\n",
              "mean       15.788994\n",
              "std        33.137012\n",
              "min         0.036730\n",
              "25%         1.677966\n",
              "50%         3.912970\n",
              "75%        13.276897\n",
              "max       389.605621\n",
              "Name: eCPM, dtype: float64"
            ]
          },
          "metadata": {},
          "execution_count": 21
        }
      ]
    },
    {
      "cell_type": "markdown",
      "source": [
        "Большая часть значений лежит ниже 4.\n",
        "\n",
        "Распределение имеет длиный правый хвост"
      ],
      "metadata": {
        "id": "UA8rI2tT9N0k"
      }
    },
    {
      "cell_type": "markdown",
      "source": [
        "Распределение количества показов"
      ],
      "metadata": {
        "id": "JRqoYqLj9eQN"
      }
    },
    {
      "cell_type": "code",
      "source": [
        "sns.histplot(data=users, x='count', bins=50)"
      ],
      "metadata": {
        "colab": {
          "base_uri": "https://localhost:8080/",
          "height": 467
        },
        "id": "FeZOzrR9YZAy",
        "outputId": "410d133e-a211-437c-a04c-5c4ae164c4fa"
      },
      "execution_count": null,
      "outputs": [
        {
          "output_type": "execute_result",
          "data": {
            "text/plain": [
              "<matplotlib.axes._subplots.AxesSubplot at 0x7f2323439690>"
            ]
          },
          "metadata": {},
          "execution_count": 22
        },
        {
          "output_type": "display_data",
          "data": {
            "text/plain": [
              "<Figure size 936x504 with 1 Axes>"
            ],
            "image/png": "[encoded data removed]"
          },
          "metadata": {}
        }
      ]
    },
    {
      "cell_type": "code",
      "source": [
        "users['count'].describe()"
      ],
      "metadata": {
        "colab": {
          "base_uri": "https://localhost:8080/"
        },
        "id": "ZeHu9uWsYY4s",
        "outputId": "e4829a30-4e57-4e18-f905-e4da31b8d863"
      },
      "execution_count": null,
      "outputs": [
        {
          "output_type": "execute_result",
          "data": {
            "text/plain": [
              "count    4226.000000\n",
              "mean      203.517511\n",
              "std       435.621747\n",
              "min         1.000000\n",
              "25%         3.000000\n",
              "50%        57.000000\n",
              "75%       209.000000\n",
              "max      8486.000000\n",
              "Name: count, dtype: float64"
            ]
          },
          "metadata": {},
          "execution_count": 23
        }
      ]
    },
    {
      "cell_type": "markdown",
      "source": [
        "Распределение показов также имеет длинный правый хвост, медианное значение - 57.\n",
        "\n",
        "Посмотрим на взаимное распределение обоих величин."
      ],
      "metadata": {
        "id": "dC8ALAb6_ow3"
      }
    },
    {
      "cell_type": "code",
      "source": [
        "sns.scatterplot(data=users, x='eCPM', y='count')"
      ],
      "metadata": {
        "colab": {
          "base_uri": "https://localhost:8080/",
          "height": 467
        },
        "id": "SWzMSLqTYYwc",
        "outputId": "6610ffa1-36a8-4e67-ed58-a57da7dbaea8"
      },
      "execution_count": null,
      "outputs": [
        {
          "output_type": "execute_result",
          "data": {
            "text/plain": [
              "<matplotlib.axes._subplots.AxesSubplot at 0x7f23234c3950>"
            ]
          },
          "metadata": {},
          "execution_count": 24
        },
        {
          "output_type": "display_data",
          "data": {
            "text/plain": [
              "<Figure size 936x504 with 1 Axes>"
            ],
            "image/png": "[encoded data removed]"
          },
          "metadata": {}
        }
      ]
    },
    {
      "cell_type": "markdown",
      "source": [
        "На графике видно, что наибольший размах eCPM для пользователей с небольшим числом просмотров. Точность значении eCPM таких пользователей не надежны, часто бывают выбросы, поэтому считаю, что необходимо отбросить часть пользователей с низким числом просмотров. Возможно эти пользователи сыграли пару раз и забросили приложение или только начали играть. Предположим, что если пользователь просмотрел 10 и более показов, то его значение eCPM будем считать точным. При необходимости это число можно будет изменить.\n",
        "\n",
        "Также есть пользователи с высоким количеством просмотров, возможно это ботнеты для промотра рекламы. Поэтому можно срезать часть пользователей, возьмем только первые 95%."
      ],
      "metadata": {
        "id": "1f7kMxJiAQ-x"
      }
    },
    {
      "cell_type": "code",
      "source": [
        "users_new = users[(users['count'] >= 10) & (users['count'] < users['count'].quantile(0.95))]"
      ],
      "metadata": {
        "id": "N3Zrj2eRebmo"
      },
      "execution_count": null,
      "outputs": []
    },
    {
      "cell_type": "markdown",
      "source": [
        "Распределение показов на пользователя на очищенных данных"
      ],
      "metadata": {
        "id": "7oBUI0iiGO5A"
      }
    },
    {
      "cell_type": "code",
      "source": [
        "sns.histplot(data=users_new, x='count', bins=50)"
      ],
      "metadata": {
        "colab": {
          "base_uri": "https://localhost:8080/",
          "height": 467
        },
        "id": "77D-AXqDe6Ym",
        "outputId": "79e1d3d2-e480-4adb-f09b-b5d10e99ae7d"
      },
      "execution_count": null,
      "outputs": [
        {
          "output_type": "execute_result",
          "data": {
            "text/plain": [
              "<matplotlib.axes._subplots.AxesSubplot at 0x7f23234a5e10>"
            ]
          },
          "metadata": {},
          "execution_count": 26
        },
        {
          "output_type": "display_data",
          "data": {
            "text/plain": [
              "<Figure size 936x504 with 1 Axes>"
            ],
            "image/png": "[encoded data removed]"
          },
          "metadata": {}
        }
      ]
    },
    {
      "cell_type": "code",
      "source": [
        "users_new['count'].describe()"
      ],
      "metadata": {
        "colab": {
          "base_uri": "https://localhost:8080/"
        },
        "id": "LNSgnbBcGI0v",
        "outputId": "e12e4e38-cd3a-4873-8256-c0ae06026211"
      },
      "execution_count": null,
      "outputs": [
        {
          "output_type": "execute_result",
          "data": {
            "text/plain": [
              "count    2709.000000\n",
              "mean      186.259874\n",
              "std       193.903446\n",
              "min        10.000000\n",
              "25%        47.000000\n",
              "50%       111.000000\n",
              "75%       253.000000\n",
              "max       928.000000\n",
              "Name: count, dtype: float64"
            ]
          },
          "metadata": {},
          "execution_count": 27
        }
      ]
    },
    {
      "cell_type": "markdown",
      "source": [
        "Распределение eCPM на пользователя на очищенных данных"
      ],
      "metadata": {
        "id": "cnZKQsF7Gq2U"
      }
    },
    {
      "cell_type": "code",
      "source": [
        "sns.histplot(data=users_new, x='eCPM', bins=50)"
      ],
      "metadata": {
        "colab": {
          "base_uri": "https://localhost:8080/",
          "height": 467
        },
        "id": "XEryD-gHIYSU",
        "outputId": "e72f85d7-62c1-48e9-c8a7-290c80f56f3b"
      },
      "execution_count": null,
      "outputs": [
        {
          "output_type": "execute_result",
          "data": {
            "text/plain": [
              "<matplotlib.axes._subplots.AxesSubplot at 0x7f23234f2890>"
            ]
          },
          "metadata": {},
          "execution_count": 28
        },
        {
          "output_type": "display_data",
          "data": {
            "text/plain": [
              "<Figure size 936x504 with 1 Axes>"
            ],
            "image/png": "[encoded data removed]"
          },
          "metadata": {}
        }
      ]
    },
    {
      "cell_type": "code",
      "source": [
        "users_new['eCPM'].describe()"
      ],
      "metadata": {
        "colab": {
          "base_uri": "https://localhost:8080/"
        },
        "id": "9DDvP1KjGu2G",
        "outputId": "4f330e88-8aa2-442d-de33-b33f316923ff"
      },
      "execution_count": null,
      "outputs": [
        {
          "output_type": "execute_result",
          "data": {
            "text/plain": [
              "count    2709.000000\n",
              "mean        4.689718\n",
              "std         5.894478\n",
              "min         0.091205\n",
              "25%         1.483679\n",
              "50%         2.779938\n",
              "75%         5.541379\n",
              "max        84.290638\n",
              "Name: eCPM, dtype: float64"
            ]
          },
          "metadata": {},
          "execution_count": 29
        }
      ]
    },
    {
      "cell_type": "markdown",
      "source": [
        "Распределение eCPM стало более равномерным, высоких значений eCPM стало меньше"
      ],
      "metadata": {
        "id": "lmHdY9ffIiPl"
      }
    },
    {
      "cell_type": "markdown",
      "source": [
        "Создадим сводную таблицу по пользователю и формату показа"
      ],
      "metadata": {
        "id": "Ig47mW_6IzsH"
      }
    },
    {
      "cell_type": "code",
      "source": [
        "users_ad = df.groupby(['profile_id', 'ad_type'])['revenue'].agg(['mean', 'count']).reset_index()"
      ],
      "metadata": {
        "id": "Q2TYl20jhw6e"
      },
      "execution_count": null,
      "outputs": []
    },
    {
      "cell_type": "markdown",
      "source": [
        "Выберем только \"надежных\" пользователей из таблицы users_new"
      ],
      "metadata": {
        "id": "infRzhp9I-Dw"
      }
    },
    {
      "cell_type": "code",
      "source": [
        "users_ad = users_ad[users_ad['profile_id'].isin(users_new['profile_id'])]\n",
        "\n",
        "users_ad.columns = ['profile_id', 'ad_type', 'eCPM', 'count']\n",
        "users_ad['eCPM'] = users_ad['eCPM'] * 1000\n",
        "\n",
        "users_ad"
      ],
      "metadata": {
        "colab": {
          "base_uri": "https://localhost:8080/",
          "height": 419
        },
        "id": "1fwvO-FLjUWQ",
        "outputId": "b3d6e9b2-692d-4bc1-ebfd-9d0b566b3cc2"
      },
      "execution_count": null,
      "outputs": [
        {
          "output_type": "execute_result",
          "data": {
            "text/plain": [
              "       profile_id ad_type       eCPM  count\n",
              "0     JL00qCZH1HV  banner   3.183940     13\n",
              "1     JL015rw9vmN  banner   1.160748    411\n",
              "2     JL015rw9vmN     int  21.983199     18\n",
              "3     JL01aCdFTJy  banner   0.740097     38\n",
              "4     JL01aCdFTJy     int  11.965651      1\n",
              "...           ...     ...        ...    ...\n",
              "8786  JMLQTj4i34Y     int  18.723556      3\n",
              "8787  JMLY5SO7wmn  banner   0.306027     10\n",
              "8788  JMLY5SO7wmn     int  30.015743      1\n",
              "8792  JMML6MrvRA4  banner   0.419296    311\n",
              "8793  JMML6MrvRA4     int   5.360404     13\n",
              "\n",
              "[6402 rows x 4 columns]"
            ],
            "text/html": [
              "\n",
              "  <div id=\"df-d55146dd-3d73-48f0-8bef-d05269cb3427\">\n",
              "    <div class=\"colab-df-container\">\n",
              "      <div>\n",
              "<style scoped>\n",
              "    .dataframe tbody tr th:only-of-type {\n",
              "        vertical-align: middle;\n",
              "    }\n",
              "\n",
              "    .dataframe tbody tr th {\n",
              "        vertical-align: top;\n",
              "    }\n",
              "\n",
              "    .dataframe thead th {\n",
              "        text-align: right;\n",
              "    }\n",
              "</style>\n",
              "<table border=\"1\" class=\"dataframe\">\n",
              "  <thead>\n",
              "    <tr style=\"text-align: right;\">\n",
              "      <th></th>\n",
              "      <th>profile_id</th>\n",
              "      <th>ad_type</th>\n",
              "      <th>eCPM</th>\n",
              "      <th>count</th>\n",
              "    </tr>\n",
              "  </thead>\n",
              "  <tbody>\n",
              "    <tr>\n",
              "      <th>0</th>\n",
              "      <td>JL00qCZH1HV</td>\n",
              "      <td>banner</td>\n",
              "      <td>3.183940</td>\n",
              "      <td>13</td>\n",
              "    </tr>\n",
              "    <tr>\n",
              "      <th>1</th>\n",
              "      <td>JL015rw9vmN</td>\n",
              "      <td>banner</td>\n",
              "      <td>1.160748</td>\n",
              "      <td>411</td>\n",
              "    </tr>\n",
              "    <tr>\n",
              "      <th>2</th>\n",
              "      <td>JL015rw9vmN</td>\n",
              "      <td>int</td>\n",
              "      <td>21.983199</td>\n",
              "      <td>18</td>\n",
              "    </tr>\n",
              "    <tr>\n",
              "      <th>3</th>\n",
              "      <td>JL01aCdFTJy</td>\n",
              "      <td>banner</td>\n",
              "      <td>0.740097</td>\n",
              "      <td>38</td>\n",
              "    </tr>\n",
              "    <tr>\n",
              "      <th>4</th>\n",
              "      <td>JL01aCdFTJy</td>\n",
              "      <td>int</td>\n",
              "      <td>11.965651</td>\n",
              "      <td>1</td>\n",
              "    </tr>\n",
              "    <tr>\n",
              "      <th>...</th>\n",
              "      <td>...</td>\n",
              "      <td>...</td>\n",
              "      <td>...</td>\n",
              "      <td>...</td>\n",
              "    </tr>\n",
              "    <tr>\n",
              "      <th>8786</th>\n",
              "      <td>JMLQTj4i34Y</td>\n",
              "      <td>int</td>\n",
              "      <td>18.723556</td>\n",
              "      <td>3</td>\n",
              "    </tr>\n",
              "    <tr>\n",
              "      <th>8787</th>\n",
              "      <td>JMLY5SO7wmn</td>\n",
              "      <td>banner</td>\n",
              "      <td>0.306027</td>\n",
              "      <td>10</td>\n",
              "    </tr>\n",
              "    <tr>\n",
              "      <th>8788</th>\n",
              "      <td>JMLY5SO7wmn</td>\n",
              "      <td>int</td>\n",
              "      <td>30.015743</td>\n",
              "      <td>1</td>\n",
              "    </tr>\n",
              "    <tr>\n",
              "      <th>8792</th>\n",
              "      <td>JMML6MrvRA4</td>\n",
              "      <td>banner</td>\n",
              "      <td>0.419296</td>\n",
              "      <td>311</td>\n",
              "    </tr>\n",
              "    <tr>\n",
              "      <th>8793</th>\n",
              "      <td>JMML6MrvRA4</td>\n",
              "      <td>int</td>\n",
              "      <td>5.360404</td>\n",
              "      <td>13</td>\n",
              "    </tr>\n",
              "  </tbody>\n",
              "</table>\n",
              "<p>6402 rows × 4 columns</p>\n",
              "</div>\n",
              "      <button class=\"colab-df-convert\" onclick=\"convertToInteractive('df-d55146dd-3d73-48f0-8bef-d05269cb3427')\"\n",
              "              title=\"Convert this dataframe to an interactive table.\"\n",
              "              style=\"display:none;\">\n",
              "        \n",
              "  <svg xmlns=\"http://www.w3.org/2000/svg\" height=\"24px\"viewBox=\"0 0 24 24\"\n",
              "       width=\"24px\">\n",
              "    <path d=\"M0 0h24v24H0V0z\" fill=\"none\"/>\n",
              "    <path d=\"M18.56 5.44l.94 2.06.94-2.06 2.06-.94-2.06-.94-.94-2.06-.94 2.06-2.06.94zm-11 1L8.5 8.5l.94-2.06 2.06-.94-2.06-.94L8.5 2.5l-.94 2.06-2.06.94zm10 10l.94 2.06.94-2.06 2.06-.94-2.06-.94-.94-2.06-.94 2.06-2.06.94z\"/><path d=\"M17.41 7.96l-1.37-1.37c-.4-.4-.92-.59-1.43-.59-.52 0-1.04.2-1.43.59L10.3 9.45l-7.72 7.72c-.78.78-.78 2.05 0 2.83L4 21.41c.39.39.9.59 1.41.59.51 0 1.02-.2 1.41-.59l7.78-7.78 2.81-2.81c.8-.78.8-2.07 0-2.86zM5.41 20L4 18.59l7.72-7.72 1.47 1.35L5.41 20z\"/>\n",
              "  </svg>\n",
              "      </button>\n",
              "      \n",
              "  <style>\n",
              "    .colab-df-container {\n",
              "      display:flex;\n",
              "      flex-wrap:wrap;\n",
              "      gap: 12px;\n",
              "    }\n",
              "\n",
              "    .colab-df-convert {\n",
              "      background-color: #E8F0FE;\n",
              "      border: none;\n",
              "      border-radius: 50%;\n",
              "      cursor: pointer;\n",
              "      display: none;\n",
              "      fill: #1967D2;\n",
              "      height: 32px;\n",
              "      padding: 0 0 0 0;\n",
              "      width: 32px;\n",
              "    }\n",
              "\n",
              "    .colab-df-convert:hover {\n",
              "      background-color: #E2EBFA;\n",
              "      box-shadow: 0px 1px 2px rgba(60, 64, 67, 0.3), 0px 1px 3px 1px rgba(60, 64, 67, 0.15);\n",
              "      fill: #174EA6;\n",
              "    }\n",
              "\n",
              "    [theme=dark] .colab-df-convert {\n",
              "      background-color: #3B4455;\n",
              "      fill: #D2E3FC;\n",
              "    }\n",
              "\n",
              "    [theme=dark] .colab-df-convert:hover {\n",
              "      background-color: #434B5C;\n",
              "      box-shadow: 0px 1px 3px 1px rgba(0, 0, 0, 0.15);\n",
              "      filter: drop-shadow(0px 1px 2px rgba(0, 0, 0, 0.3));\n",
              "      fill: #FFFFFF;\n",
              "    }\n",
              "  </style>\n",
              "\n",
              "      <script>\n",
              "        const buttonEl =\n",
              "          document.querySelector('#df-d55146dd-3d73-48f0-8bef-d05269cb3427 button.colab-df-convert');\n",
              "        buttonEl.style.display =\n",
              "          google.colab.kernel.accessAllowed ? 'block' : 'none';\n",
              "\n",
              "        async function convertToInteractive(key) {\n",
              "          const element = document.querySelector('#df-d55146dd-3d73-48f0-8bef-d05269cb3427');\n",
              "          const dataTable =\n",
              "            await google.colab.kernel.invokeFunction('convertToInteractive',\n",
              "                                                     [key], {});\n",
              "          if (!dataTable) return;\n",
              "\n",
              "          const docLinkHtml = 'Like what you see? Visit the ' +\n",
              "            '<a target=\"_blank\" href=https://colab.research.google.com/notebooks/data_table.ipynb>data table notebook</a>'\n",
              "            + ' to learn more about interactive tables.';\n",
              "          element.innerHTML = '';\n",
              "          dataTable['output_type'] = 'display_data';\n",
              "          await google.colab.output.renderOutput(dataTable, element);\n",
              "          const docLink = document.createElement('div');\n",
              "          docLink.innerHTML = docLinkHtml;\n",
              "          element.appendChild(docLink);\n",
              "        }\n",
              "      </script>\n",
              "    </div>\n",
              "  </div>\n",
              "  "
            ]
          },
          "metadata": {},
          "execution_count": 31
        }
      ]
    },
    {
      "cell_type": "markdown",
      "source": [
        "Распределение пользовательских eCPM по формату показа"
      ],
      "metadata": {
        "id": "uFANJoonJ6Ic"
      }
    },
    {
      "cell_type": "code",
      "source": [
        "users_ad.groupby('ad_type')['eCPM'].agg(['mean','median', 'count']).reset_index()"
      ],
      "metadata": {
        "colab": {
          "base_uri": "https://localhost:8080/",
          "height": 142
        },
        "id": "KY9ZpQEUlnhC",
        "outputId": "64356344-5187-4ae8-b2a3-163cd8a4704a"
      },
      "execution_count": null,
      "outputs": [
        {
          "output_type": "execute_result",
          "data": {
            "text/plain": [
              "  ad_type       mean     median  count\n",
              "0  banner   1.063901   0.566093   2709\n",
              "1     int  43.413341  27.124378   2670\n",
              "2      rv  80.350038  45.497309   1023"
            ],
            "text/html": [
              "\n",
              "  <div id=\"df-7b0ad0fc-2b63-4200-8e6d-68e619033ecb\">\n",
              "    <div class=\"colab-df-container\">\n",
              "      <div>\n",
              "<style scoped>\n",
              "    .dataframe tbody tr th:only-of-type {\n",
              "        vertical-align: middle;\n",
              "    }\n",
              "\n",
              "    .dataframe tbody tr th {\n",
              "        vertical-align: top;\n",
              "    }\n",
              "\n",
              "    .dataframe thead th {\n",
              "        text-align: right;\n",
              "    }\n",
              "</style>\n",
              "<table border=\"1\" class=\"dataframe\">\n",
              "  <thead>\n",
              "    <tr style=\"text-align: right;\">\n",
              "      <th></th>\n",
              "      <th>ad_type</th>\n",
              "      <th>mean</th>\n",
              "      <th>median</th>\n",
              "      <th>count</th>\n",
              "    </tr>\n",
              "  </thead>\n",
              "  <tbody>\n",
              "    <tr>\n",
              "      <th>0</th>\n",
              "      <td>banner</td>\n",
              "      <td>1.063901</td>\n",
              "      <td>0.566093</td>\n",
              "      <td>2709</td>\n",
              "    </tr>\n",
              "    <tr>\n",
              "      <th>1</th>\n",
              "      <td>int</td>\n",
              "      <td>43.413341</td>\n",
              "      <td>27.124378</td>\n",
              "      <td>2670</td>\n",
              "    </tr>\n",
              "    <tr>\n",
              "      <th>2</th>\n",
              "      <td>rv</td>\n",
              "      <td>80.350038</td>\n",
              "      <td>45.497309</td>\n",
              "      <td>1023</td>\n",
              "    </tr>\n",
              "  </tbody>\n",
              "</table>\n",
              "</div>\n",
              "      <button class=\"colab-df-convert\" onclick=\"convertToInteractive('df-7b0ad0fc-2b63-4200-8e6d-68e619033ecb')\"\n",
              "              title=\"Convert this dataframe to an interactive table.\"\n",
              "              style=\"display:none;\">\n",
              "        \n",
              "  <svg xmlns=\"http://www.w3.org/2000/svg\" height=\"24px\"viewBox=\"0 0 24 24\"\n",
              "       width=\"24px\">\n",
              "    <path d=\"M0 0h24v24H0V0z\" fill=\"none\"/>\n",
              "    <path d=\"M18.56 5.44l.94 2.06.94-2.06 2.06-.94-2.06-.94-.94-2.06-.94 2.06-2.06.94zm-11 1L8.5 8.5l.94-2.06 2.06-.94-2.06-.94L8.5 2.5l-.94 2.06-2.06.94zm10 10l.94 2.06.94-2.06 2.06-.94-2.06-.94-.94-2.06-.94 2.06-2.06.94z\"/><path d=\"M17.41 7.96l-1.37-1.37c-.4-.4-.92-.59-1.43-.59-.52 0-1.04.2-1.43.59L10.3 9.45l-7.72 7.72c-.78.78-.78 2.05 0 2.83L4 21.41c.39.39.9.59 1.41.59.51 0 1.02-.2 1.41-.59l7.78-7.78 2.81-2.81c.8-.78.8-2.07 0-2.86zM5.41 20L4 18.59l7.72-7.72 1.47 1.35L5.41 20z\"/>\n",
              "  </svg>\n",
              "      </button>\n",
              "      \n",
              "  <style>\n",
              "    .colab-df-container {\n",
              "      display:flex;\n",
              "      flex-wrap:wrap;\n",
              "      gap: 12px;\n",
              "    }\n",
              "\n",
              "    .colab-df-convert {\n",
              "      background-color: #E8F0FE;\n",
              "      border: none;\n",
              "      border-radius: 50%;\n",
              "      cursor: pointer;\n",
              "      display: none;\n",
              "      fill: #1967D2;\n",
              "      height: 32px;\n",
              "      padding: 0 0 0 0;\n",
              "      width: 32px;\n",
              "    }\n",
              "\n",
              "    .colab-df-convert:hover {\n",
              "      background-color: #E2EBFA;\n",
              "      box-shadow: 0px 1px 2px rgba(60, 64, 67, 0.3), 0px 1px 3px 1px rgba(60, 64, 67, 0.15);\n",
              "      fill: #174EA6;\n",
              "    }\n",
              "\n",
              "    [theme=dark] .colab-df-convert {\n",
              "      background-color: #3B4455;\n",
              "      fill: #D2E3FC;\n",
              "    }\n",
              "\n",
              "    [theme=dark] .colab-df-convert:hover {\n",
              "      background-color: #434B5C;\n",
              "      box-shadow: 0px 1px 3px 1px rgba(0, 0, 0, 0.15);\n",
              "      filter: drop-shadow(0px 1px 2px rgba(0, 0, 0, 0.3));\n",
              "      fill: #FFFFFF;\n",
              "    }\n",
              "  </style>\n",
              "\n",
              "      <script>\n",
              "        const buttonEl =\n",
              "          document.querySelector('#df-7b0ad0fc-2b63-4200-8e6d-68e619033ecb button.colab-df-convert');\n",
              "        buttonEl.style.display =\n",
              "          google.colab.kernel.accessAllowed ? 'block' : 'none';\n",
              "\n",
              "        async function convertToInteractive(key) {\n",
              "          const element = document.querySelector('#df-7b0ad0fc-2b63-4200-8e6d-68e619033ecb');\n",
              "          const dataTable =\n",
              "            await google.colab.kernel.invokeFunction('convertToInteractive',\n",
              "                                                     [key], {});\n",
              "          if (!dataTable) return;\n",
              "\n",
              "          const docLinkHtml = 'Like what you see? Visit the ' +\n",
              "            '<a target=\"_blank\" href=https://colab.research.google.com/notebooks/data_table.ipynb>data table notebook</a>'\n",
              "            + ' to learn more about interactive tables.';\n",
              "          element.innerHTML = '';\n",
              "          dataTable['output_type'] = 'display_data';\n",
              "          await google.colab.output.renderOutput(dataTable, element);\n",
              "          const docLink = document.createElement('div');\n",
              "          docLink.innerHTML = docLinkHtml;\n",
              "          element.appendChild(docLink);\n",
              "        }\n",
              "      </script>\n",
              "    </div>\n",
              "  </div>\n",
              "  "
            ]
          },
          "metadata": {},
          "execution_count": 32
        }
      ]
    },
    {
      "cell_type": "code",
      "source": [
        "sns.boxplot(data=users_ad, x='ad_type', y='eCPM')"
      ],
      "metadata": {
        "colab": {
          "base_uri": "https://localhost:8080/",
          "height": 467
        },
        "id": "gVsbTfPJkIHC",
        "outputId": "0ad4ff65-c201-4111-b729-2f9e6624aab9"
      },
      "execution_count": null,
      "outputs": [
        {
          "output_type": "execute_result",
          "data": {
            "text/plain": [
              "<matplotlib.axes._subplots.AxesSubplot at 0x7f232353c590>"
            ]
          },
          "metadata": {},
          "execution_count": 33
        },
        {
          "output_type": "display_data",
          "data": {
            "text/plain": [
              "<Figure size 936x504 with 1 Axes>"
            ],
            "image/png": "[encoded data removed]"
          },
          "metadata": {}
        }
      ]
    },
    {
      "cell_type": "code",
      "source": [
        "fig, ax = plt.subplots(nrows=3, ncols=1, figsize=(12,12))\n",
        "\n",
        "sns.histplot(data=users_ad[users_ad['ad_type'] == 'banner'], x='eCPM', bins=50, ax=ax[0])\n",
        "ax[0].set_ylabel('banner')\n",
        "\n",
        "sns.histplot(data=users_ad[users_ad['ad_type'] == 'int'], x='eCPM', bins=50, ax=ax[1])\n",
        "ax[1].set_ylabel('int')\n",
        "\n",
        "sns.histplot(data=users_ad[users_ad['ad_type'] == 'rv'], x='eCPM', bins=50, ax=ax[2])\n",
        "ax[2].set_ylabel('rv')"
      ],
      "metadata": {
        "colab": {
          "base_uri": "https://localhost:8080/",
          "height": 739
        },
        "id": "XmKgSZuwPtry",
        "outputId": "2f87684e-f8c5-4541-9bb1-0373cf0641b1"
      },
      "execution_count": null,
      "outputs": [
        {
          "output_type": "execute_result",
          "data": {
            "text/plain": [
              "Text(0, 0.5, 'rv')"
            ]
          },
          "metadata": {},
          "execution_count": 34
        },
        {
          "output_type": "display_data",
          "data": {
            "text/plain": [
              "<Figure size 864x864 with 3 Axes>"
            ],
            "image/png": "[encoded data removed]"
          },
          "metadata": {}
        }
      ]
    },
    {
      "cell_type": "markdown",
      "source": [
        "Видно, что в среднем значения eCPM, а также разброс у видеорекламы выше, затем идет полноэкранная, после баннеры.\n",
        "\n",
        "Проведем несколько t-тестов, чтобы убедиться в значемости различии."
      ],
      "metadata": {
        "id": "rhqjRZHEMZDy"
      }
    },
    {
      "cell_type": "code",
      "source": [
        "from scipy import stats"
      ],
      "metadata": {
        "id": "b-UZ8QQOmman"
      },
      "execution_count": null,
      "outputs": []
    },
    {
      "cell_type": "code",
      "source": [
        "# баннер vs полноэкранная\n",
        "stats.ttest_ind(users_ad[users_ad['ad_type'] == 'banner']['eCPM'], \n",
        "                users_ad[users_ad['ad_type'] == 'int']['eCPM'],\n",
        "                equal_var=False)"
      ],
      "metadata": {
        "colab": {
          "base_uri": "https://localhost:8080/"
        },
        "id": "qXw-EZvVnwvz",
        "outputId": "7fd1b75a-f33c-4d42-bf8b-998c18ee66c9"
      },
      "execution_count": null,
      "outputs": [
        {
          "output_type": "execute_result",
          "data": {
            "text/plain": [
              "Ttest_indResult(statistic=-48.651360627049414, pvalue=0.0)"
            ]
          },
          "metadata": {},
          "execution_count": 36
        }
      ]
    },
    {
      "cell_type": "code",
      "source": [
        "# полноэкранная vs видео\n",
        "stats.ttest_ind(users_ad[users_ad['ad_type'] == 'int']['eCPM'], \n",
        "                users_ad[users_ad['ad_type'] == 'rv']['eCPM'],\n",
        "                equal_var=False)"
      ],
      "metadata": {
        "colab": {
          "base_uri": "https://localhost:8080/"
        },
        "id": "EfpRohPnnwgQ",
        "outputId": "8e0c7bef-35be-4d76-b4d8-9c76e82942f2"
      },
      "execution_count": null,
      "outputs": [
        {
          "output_type": "execute_result",
          "data": {
            "text/plain": [
              "Ttest_indResult(statistic=-14.193838437822226, pvalue=1.3624081051886896e-42)"
            ]
          },
          "metadata": {},
          "execution_count": 37
        }
      ]
    },
    {
      "cell_type": "code",
      "source": [
        "# баннер vs видео\n",
        "stats.ttest_ind(users_ad[users_ad['ad_type'] == 'banner']['eCPM'], \n",
        "                users_ad[users_ad['ad_type'] == 'rv']['eCPM'],\n",
        "                equal_var=False)"
      ],
      "metadata": {
        "colab": {
          "base_uri": "https://localhost:8080/"
        },
        "id": "pUOJ0iWfmnFn",
        "outputId": "ab3b7e4e-b272-4a55-b0f4-f32d9cb9e70d"
      },
      "execution_count": null,
      "outputs": [
        {
          "output_type": "execute_result",
          "data": {
            "text/plain": [
              "Ttest_indResult(statistic=-32.326215450959815, pvalue=1.6850452290732154e-158)"
            ]
          },
          "metadata": {},
          "execution_count": 38
        }
      ]
    },
    {
      "cell_type": "markdown",
      "source": [
        "По результатам t-тестов можно сделать вывод, что пользовательский eCPM статистически значимо различается для всех трех форматов (p-value настолько мал, что множественным сравнение можно пренебречь)."
      ],
      "metadata": {
        "id": "Ol-U_iMTOByy"
      }
    },
    {
      "cell_type": "markdown",
      "source": [
        "### Распределение средних значений eCPM и суммарного дохода по городам"
      ],
      "metadata": {
        "id": "G5JyYhIPP-1s"
      }
    },
    {
      "cell_type": "code",
      "source": [
        "df['city'].notna().mean()"
      ],
      "metadata": {
        "colab": {
          "base_uri": "https://localhost:8080/"
        },
        "id": "-fB7slDbrC8y",
        "outputId": "c6695157-2fb1-4b47-de5f-0e6e6fb62145"
      },
      "execution_count": null,
      "outputs": [
        {
          "output_type": "execute_result",
          "data": {
            "text/plain": [
              "0.6236299223675965"
            ]
          },
          "metadata": {},
          "execution_count": 39
        }
      ]
    },
    {
      "cell_type": "markdown",
      "source": [
        "Толко 62% данных содеожит информацию по городу"
      ],
      "metadata": {
        "id": "ZC1aJ1F1rLlm"
      }
    },
    {
      "cell_type": "markdown",
      "source": [
        "Построим сводную таблицу eCPM и дохода по городам"
      ],
      "metadata": {
        "id": "44Kv8vUOeg9U"
      }
    },
    {
      "cell_type": "code",
      "source": [
        "cities = df.groupby(['city'])['revenue'].agg(['mean', 'sum', 'count']).reset_index()\n",
        "cities.columns = ['city', 'eCPM', 'revenue', 'count']\n",
        "cities['eCPM'] = cities['eCPM'] * 1000\n",
        "cities.sort_values('count', ascending=False)"
      ],
      "metadata": {
        "colab": {
          "base_uri": "https://localhost:8080/",
          "height": 419
        },
        "id": "K9v1jFKv3-Gf",
        "outputId": "a865e38e-c6f1-4561-bb95-9e798bb3c6f1"
      },
      "execution_count": null,
      "outputs": [
        {
          "output_type": "execute_result",
          "data": {
            "text/plain": [
              "              city        eCPM    revenue  count\n",
              "585       New York    2.698726  47.454397  17584\n",
              "540    Minneapolis    2.637542  34.235291  12980\n",
              "377        Houston    3.408480  34.551763  10137\n",
              "796    Springfield    1.225612  12.421576  10135\n",
              "140      Charlotte    2.627792  25.620972   9750\n",
              "..             ...         ...        ...    ...\n",
              "816     Swedesboro    0.485389   0.000485      1\n",
              "430         Kokomo   20.160000   0.020160      1\n",
              "643       Palmdale    2.087812   0.002088      1\n",
              "807        Suffolk  109.704651   0.109705      1\n",
              "239  Elizabethtown   26.320471   0.026320      1\n",
              "\n",
              "[920 rows x 4 columns]"
            ],
            "text/html": [
              "\n",
              "  <div id=\"df-8ca01414-289e-4e1d-b7a5-51dab9b007d2\">\n",
              "    <div class=\"colab-df-container\">\n",
              "      <div>\n",
              "<style scoped>\n",
              "    .dataframe tbody tr th:only-of-type {\n",
              "        vertical-align: middle;\n",
              "    }\n",
              "\n",
              "    .dataframe tbody tr th {\n",
              "        vertical-align: top;\n",
              "    }\n",
              "\n",
              "    .dataframe thead th {\n",
              "        text-align: right;\n",
              "    }\n",
              "</style>\n",
              "<table border=\"1\" class=\"dataframe\">\n",
              "  <thead>\n",
              "    <tr style=\"text-align: right;\">\n",
              "      <th></th>\n",
              "      <th>city</th>\n",
              "      <th>eCPM</th>\n",
              "      <th>revenue</th>\n",
              "      <th>count</th>\n",
              "    </tr>\n",
              "  </thead>\n",
              "  <tbody>\n",
              "    <tr>\n",
              "      <th>585</th>\n",
              "      <td>New York</td>\n",
              "      <td>2.698726</td>\n",
              "      <td>47.454397</td>\n",
              "      <td>17584</td>\n",
              "    </tr>\n",
              "    <tr>\n",
              "      <th>540</th>\n",
              "      <td>Minneapolis</td>\n",
              "      <td>2.637542</td>\n",
              "      <td>34.235291</td>\n",
              "      <td>12980</td>\n",
              "    </tr>\n",
              "    <tr>\n",
              "      <th>377</th>\n",
              "      <td>Houston</td>\n",
              "      <td>3.408480</td>\n",
              "      <td>34.551763</td>\n",
              "      <td>10137</td>\n",
              "    </tr>\n",
              "    <tr>\n",
              "      <th>796</th>\n",
              "      <td>Springfield</td>\n",
              "      <td>1.225612</td>\n",
              "      <td>12.421576</td>\n",
              "      <td>10135</td>\n",
              "    </tr>\n",
              "    <tr>\n",
              "      <th>140</th>\n",
              "      <td>Charlotte</td>\n",
              "      <td>2.627792</td>\n",
              "      <td>25.620972</td>\n",
              "      <td>9750</td>\n",
              "    </tr>\n",
              "    <tr>\n",
              "      <th>...</th>\n",
              "      <td>...</td>\n",
              "      <td>...</td>\n",
              "      <td>...</td>\n",
              "      <td>...</td>\n",
              "    </tr>\n",
              "    <tr>\n",
              "      <th>816</th>\n",
              "      <td>Swedesboro</td>\n",
              "      <td>0.485389</td>\n",
              "      <td>0.000485</td>\n",
              "      <td>1</td>\n",
              "    </tr>\n",
              "    <tr>\n",
              "      <th>430</th>\n",
              "      <td>Kokomo</td>\n",
              "      <td>20.160000</td>\n",
              "      <td>0.020160</td>\n",
              "      <td>1</td>\n",
              "    </tr>\n",
              "    <tr>\n",
              "      <th>643</th>\n",
              "      <td>Palmdale</td>\n",
              "      <td>2.087812</td>\n",
              "      <td>0.002088</td>\n",
              "      <td>1</td>\n",
              "    </tr>\n",
              "    <tr>\n",
              "      <th>807</th>\n",
              "      <td>Suffolk</td>\n",
              "      <td>109.704651</td>\n",
              "      <td>0.109705</td>\n",
              "      <td>1</td>\n",
              "    </tr>\n",
              "    <tr>\n",
              "      <th>239</th>\n",
              "      <td>Elizabethtown</td>\n",
              "      <td>26.320471</td>\n",
              "      <td>0.026320</td>\n",
              "      <td>1</td>\n",
              "    </tr>\n",
              "  </tbody>\n",
              "</table>\n",
              "<p>920 rows × 4 columns</p>\n",
              "</div>\n",
              "      <button class=\"colab-df-convert\" onclick=\"convertToInteractive('df-8ca01414-289e-4e1d-b7a5-51dab9b007d2')\"\n",
              "              title=\"Convert this dataframe to an interactive table.\"\n",
              "              style=\"display:none;\">\n",
              "        \n",
              "  <svg xmlns=\"http://www.w3.org/2000/svg\" height=\"24px\"viewBox=\"0 0 24 24\"\n",
              "       width=\"24px\">\n",
              "    <path d=\"M0 0h24v24H0V0z\" fill=\"none\"/>\n",
              "    <path d=\"M18.56 5.44l.94 2.06.94-2.06 2.06-.94-2.06-.94-.94-2.06-.94 2.06-2.06.94zm-11 1L8.5 8.5l.94-2.06 2.06-.94-2.06-.94L8.5 2.5l-.94 2.06-2.06.94zm10 10l.94 2.06.94-2.06 2.06-.94-2.06-.94-.94-2.06-.94 2.06-2.06.94z\"/><path d=\"M17.41 7.96l-1.37-1.37c-.4-.4-.92-.59-1.43-.59-.52 0-1.04.2-1.43.59L10.3 9.45l-7.72 7.72c-.78.78-.78 2.05 0 2.83L4 21.41c.39.39.9.59 1.41.59.51 0 1.02-.2 1.41-.59l7.78-7.78 2.81-2.81c.8-.78.8-2.07 0-2.86zM5.41 20L4 18.59l7.72-7.72 1.47 1.35L5.41 20z\"/>\n",
              "  </svg>\n",
              "      </button>\n",
              "      \n",
              "  <style>\n",
              "    .colab-df-container {\n",
              "      display:flex;\n",
              "      flex-wrap:wrap;\n",
              "      gap: 12px;\n",
              "    }\n",
              "\n",
              "    .colab-df-convert {\n",
              "      background-color: #E8F0FE;\n",
              "      border: none;\n",
              "      border-radius: 50%;\n",
              "      cursor: pointer;\n",
              "      display: none;\n",
              "      fill: #1967D2;\n",
              "      height: 32px;\n",
              "      padding: 0 0 0 0;\n",
              "      width: 32px;\n",
              "    }\n",
              "\n",
              "    .colab-df-convert:hover {\n",
              "      background-color: #E2EBFA;\n",
              "      box-shadow: 0px 1px 2px rgba(60, 64, 67, 0.3), 0px 1px 3px 1px rgba(60, 64, 67, 0.15);\n",
              "      fill: #174EA6;\n",
              "    }\n",
              "\n",
              "    [theme=dark] .colab-df-convert {\n",
              "      background-color: #3B4455;\n",
              "      fill: #D2E3FC;\n",
              "    }\n",
              "\n",
              "    [theme=dark] .colab-df-convert:hover {\n",
              "      background-color: #434B5C;\n",
              "      box-shadow: 0px 1px 3px 1px rgba(0, 0, 0, 0.15);\n",
              "      filter: drop-shadow(0px 1px 2px rgba(0, 0, 0, 0.3));\n",
              "      fill: #FFFFFF;\n",
              "    }\n",
              "  </style>\n",
              "\n",
              "      <script>\n",
              "        const buttonEl =\n",
              "          document.querySelector('#df-8ca01414-289e-4e1d-b7a5-51dab9b007d2 button.colab-df-convert');\n",
              "        buttonEl.style.display =\n",
              "          google.colab.kernel.accessAllowed ? 'block' : 'none';\n",
              "\n",
              "        async function convertToInteractive(key) {\n",
              "          const element = document.querySelector('#df-8ca01414-289e-4e1d-b7a5-51dab9b007d2');\n",
              "          const dataTable =\n",
              "            await google.colab.kernel.invokeFunction('convertToInteractive',\n",
              "                                                     [key], {});\n",
              "          if (!dataTable) return;\n",
              "\n",
              "          const docLinkHtml = 'Like what you see? Visit the ' +\n",
              "            '<a target=\"_blank\" href=https://colab.research.google.com/notebooks/data_table.ipynb>data table notebook</a>'\n",
              "            + ' to learn more about interactive tables.';\n",
              "          element.innerHTML = '';\n",
              "          dataTable['output_type'] = 'display_data';\n",
              "          await google.colab.output.renderOutput(dataTable, element);\n",
              "          const docLink = document.createElement('div');\n",
              "          docLink.innerHTML = docLinkHtml;\n",
              "          element.appendChild(docLink);\n",
              "        }\n",
              "      </script>\n",
              "    </div>\n",
              "  </div>\n",
              "  "
            ]
          },
          "metadata": {},
          "execution_count": 40
        }
      ]
    },
    {
      "cell_type": "markdown",
      "source": [
        "Распределение eCPM по городам"
      ],
      "metadata": {
        "id": "ZkRLirJJez7L"
      }
    },
    {
      "cell_type": "code",
      "source": [
        "sns.histplot(data=cities, x='eCPM', bins=50)"
      ],
      "metadata": {
        "colab": {
          "base_uri": "https://localhost:8080/",
          "height": 470
        },
        "id": "EKx-jGrF8Qn6",
        "outputId": "a747274e-4dad-4dc0-efb8-55623fc22053"
      },
      "execution_count": null,
      "outputs": [
        {
          "output_type": "execute_result",
          "data": {
            "text/plain": [
              "<matplotlib.axes._subplots.AxesSubplot at 0x7f2323607450>"
            ]
          },
          "metadata": {},
          "execution_count": 41
        },
        {
          "output_type": "display_data",
          "data": {
            "text/plain": [
              "<Figure size 936x504 with 1 Axes>"
            ],
            "image/png": "[encoded data removed]"
          },
          "metadata": {}
        }
      ]
    },
    {
      "cell_type": "code",
      "source": [
        "cities['eCPM'].describe()"
      ],
      "metadata": {
        "colab": {
          "base_uri": "https://localhost:8080/"
        },
        "id": "6m6ToFH5471A",
        "outputId": "2ccd4982-0cbe-4701-d256-976c23bdd7cd"
      },
      "execution_count": null,
      "outputs": [
        {
          "output_type": "execute_result",
          "data": {
            "text/plain": [
              "count    920.000000\n",
              "mean      10.286404\n",
              "std       26.984796\n",
              "min        0.040858\n",
              "25%        1.596430\n",
              "50%        3.042810\n",
              "75%        6.581200\n",
              "max      297.600000\n",
              "Name: eCPM, dtype: float64"
            ]
          },
          "metadata": {},
          "execution_count": 42
        }
      ]
    },
    {
      "cell_type": "markdown",
      "source": [
        "Распределение eCPM и количества просмотров"
      ],
      "metadata": {
        "id": "7SagTubWfCw-"
      }
    },
    {
      "cell_type": "code",
      "source": [
        "cities.plot.scatter(x='count', y='eCPM')"
      ],
      "metadata": {
        "colab": {
          "base_uri": "https://localhost:8080/",
          "height": 506
        },
        "id": "kA1Lds_W47nl",
        "outputId": "579c3873-f2d4-4fb4-c096-8b1296b49e68"
      },
      "execution_count": null,
      "outputs": [
        {
          "output_type": "stream",
          "name": "stderr",
          "text": [
            "*c* argument looks like a single numeric RGB or RGBA sequence, which should be avoided as value-mapping will have precedence in case its length matches with *x* & *y*.  Please use the *color* keyword-argument or provide a 2-D array with a single row if you intend to specify the same RGB or RGBA value for all points.\n"
          ]
        },
        {
          "output_type": "execute_result",
          "data": {
            "text/plain": [
              "<matplotlib.axes._subplots.AxesSubplot at 0x7f232362d8d0>"
            ]
          },
          "metadata": {},
          "execution_count": 43
        },
        {
          "output_type": "display_data",
          "data": {
            "text/plain": [
              "<Figure size 936x504 with 1 Axes>"
            ],
            "image/png": "[encoded data removed]"
          },
          "metadata": {}
        }
      ]
    },
    {
      "cell_type": "markdown",
      "source": [
        "Аналогично с таблицей users, города с небольшим количеством просмотров рекламы дают неточную оценку eCPM, поэтому часто бывают выбросы. Поступим также как и в прошлый раз - предположим, что города с 30 и более показами дают точную оценку (значение можно будет изменить).\n",
        "\n",
        "Создадим новый датасет с \"надежными\" городами."
      ],
      "metadata": {
        "id": "ATYPsvFMfZtM"
      }
    },
    {
      "cell_type": "code",
      "source": [
        "cities_new = cities[cities['count'] >= 30]"
      ],
      "metadata": {
        "id": "pWIcaF-y47dQ"
      },
      "execution_count": null,
      "outputs": []
    },
    {
      "cell_type": "markdown",
      "source": [
        "Распределение eCPM по городам на новых данных"
      ],
      "metadata": {
        "id": "7xBZOKQqg9Xi"
      }
    },
    {
      "cell_type": "code",
      "source": [
        "sns.histplot(data=cities_new, x='eCPM', bins=50)"
      ],
      "metadata": {
        "colab": {
          "base_uri": "https://localhost:8080/",
          "height": 467
        },
        "id": "0cHFpYqGgwkg",
        "outputId": "7264d1ff-5eee-4646-da3c-ce96a3c918bb"
      },
      "execution_count": null,
      "outputs": [
        {
          "output_type": "execute_result",
          "data": {
            "text/plain": [
              "<matplotlib.axes._subplots.AxesSubplot at 0x7f232368d350>"
            ]
          },
          "metadata": {},
          "execution_count": 45
        },
        {
          "output_type": "display_data",
          "data": {
            "text/plain": [
              "<Figure size 936x504 with 1 Axes>"
            ],
            "image/png": "[encoded data removed]"
          },
          "metadata": {}
        }
      ]
    },
    {
      "cell_type": "code",
      "source": [
        "cities_new['eCPM'].describe()"
      ],
      "metadata": {
        "colab": {
          "base_uri": "https://localhost:8080/"
        },
        "id": "gDnFw_nd47SM",
        "outputId": "b49b296d-3f4d-4ca0-fa3e-fd90209b7d20"
      },
      "execution_count": null,
      "outputs": [
        {
          "output_type": "execute_result",
          "data": {
            "text/plain": [
              "count    694.000000\n",
              "mean       3.954903\n",
              "std        4.175559\n",
              "min        0.069294\n",
              "25%        1.537939\n",
              "50%        2.724291\n",
              "75%        4.808134\n",
              "max       35.465328\n",
              "Name: eCPM, dtype: float64"
            ]
          },
          "metadata": {},
          "execution_count": 46
        }
      ]
    },
    {
      "cell_type": "markdown",
      "source": [
        "Топ-10 городов по eCPM"
      ],
      "metadata": {
        "id": "5r1Y5MSIhQCz"
      }
    },
    {
      "cell_type": "code",
      "source": [
        "cities_new.sort_values('eCPM', ascending=False).head(10)"
      ],
      "metadata": {
        "colab": {
          "base_uri": "https://localhost:8080/",
          "height": 359
        },
        "id": "PstaZzP0Ayu7",
        "outputId": "d124874b-19b3-4fd0-ce12-3fd7cf849191"
      },
      "execution_count": null,
      "outputs": [
        {
          "output_type": "execute_result",
          "data": {
            "text/plain": [
              "              city       eCPM    revenue  count\n",
              "217         Dobson  35.465328   1.099425     31\n",
              "491   Madisonville  33.139781   1.358731     41\n",
              "636         Oxnard  28.192863   0.873979     31\n",
              "93       Bremerton  27.975743   1.314860     47\n",
              "228    East Peoria  27.504927   5.528490    201\n",
              "809        Sulphur  23.428716   0.773148     33\n",
              "879         Wausau  23.079158   1.061641     46\n",
              "721    Rocky Mount  22.774077  16.693398    733\n",
              "663  Pinellas Park  22.489327   0.742148     33\n",
              "760     Santa Rosa  20.817219   6.661510    320"
            ],
            "text/html": [
              "\n",
              "  <div id=\"df-7de5438f-97c8-4def-b521-3905e214c892\">\n",
              "    <div class=\"colab-df-container\">\n",
              "      <div>\n",
              "<style scoped>\n",
              "    .dataframe tbody tr th:only-of-type {\n",
              "        vertical-align: middle;\n",
              "    }\n",
              "\n",
              "    .dataframe tbody tr th {\n",
              "        vertical-align: top;\n",
              "    }\n",
              "\n",
              "    .dataframe thead th {\n",
              "        text-align: right;\n",
              "    }\n",
              "</style>\n",
              "<table border=\"1\" class=\"dataframe\">\n",
              "  <thead>\n",
              "    <tr style=\"text-align: right;\">\n",
              "      <th></th>\n",
              "      <th>city</th>\n",
              "      <th>eCPM</th>\n",
              "      <th>revenue</th>\n",
              "      <th>count</th>\n",
              "    </tr>\n",
              "  </thead>\n",
              "  <tbody>\n",
              "    <tr>\n",
              "      <th>217</th>\n",
              "      <td>Dobson</td>\n",
              "      <td>35.465328</td>\n",
              "      <td>1.099425</td>\n",
              "      <td>31</td>\n",
              "    </tr>\n",
              "    <tr>\n",
              "      <th>491</th>\n",
              "      <td>Madisonville</td>\n",
              "      <td>33.139781</td>\n",
              "      <td>1.358731</td>\n",
              "      <td>41</td>\n",
              "    </tr>\n",
              "    <tr>\n",
              "      <th>636</th>\n",
              "      <td>Oxnard</td>\n",
              "      <td>28.192863</td>\n",
              "      <td>0.873979</td>\n",
              "      <td>31</td>\n",
              "    </tr>\n",
              "    <tr>\n",
              "      <th>93</th>\n",
              "      <td>Bremerton</td>\n",
              "      <td>27.975743</td>\n",
              "      <td>1.314860</td>\n",
              "      <td>47</td>\n",
              "    </tr>\n",
              "    <tr>\n",
              "      <th>228</th>\n",
              "      <td>East Peoria</td>\n",
              "      <td>27.504927</td>\n",
              "      <td>5.528490</td>\n",
              "      <td>201</td>\n",
              "    </tr>\n",
              "    <tr>\n",
              "      <th>809</th>\n",
              "      <td>Sulphur</td>\n",
              "      <td>23.428716</td>\n",
              "      <td>0.773148</td>\n",
              "      <td>33</td>\n",
              "    </tr>\n",
              "    <tr>\n",
              "      <th>879</th>\n",
              "      <td>Wausau</td>\n",
              "      <td>23.079158</td>\n",
              "      <td>1.061641</td>\n",
              "      <td>46</td>\n",
              "    </tr>\n",
              "    <tr>\n",
              "      <th>721</th>\n",
              "      <td>Rocky Mount</td>\n",
              "      <td>22.774077</td>\n",
              "      <td>16.693398</td>\n",
              "      <td>733</td>\n",
              "    </tr>\n",
              "    <tr>\n",
              "      <th>663</th>\n",
              "      <td>Pinellas Park</td>\n",
              "      <td>22.489327</td>\n",
              "      <td>0.742148</td>\n",
              "      <td>33</td>\n",
              "    </tr>\n",
              "    <tr>\n",
              "      <th>760</th>\n",
              "      <td>Santa Rosa</td>\n",
              "      <td>20.817219</td>\n",
              "      <td>6.661510</td>\n",
              "      <td>320</td>\n",
              "    </tr>\n",
              "  </tbody>\n",
              "</table>\n",
              "</div>\n",
              "      <button class=\"colab-df-convert\" onclick=\"convertToInteractive('df-7de5438f-97c8-4def-b521-3905e214c892')\"\n",
              "              title=\"Convert this dataframe to an interactive table.\"\n",
              "              style=\"display:none;\">\n",
              "        \n",
              "  <svg xmlns=\"http://www.w3.org/2000/svg\" height=\"24px\"viewBox=\"0 0 24 24\"\n",
              "       width=\"24px\">\n",
              "    <path d=\"M0 0h24v24H0V0z\" fill=\"none\"/>\n",
              "    <path d=\"M18.56 5.44l.94 2.06.94-2.06 2.06-.94-2.06-.94-.94-2.06-.94 2.06-2.06.94zm-11 1L8.5 8.5l.94-2.06 2.06-.94-2.06-.94L8.5 2.5l-.94 2.06-2.06.94zm10 10l.94 2.06.94-2.06 2.06-.94-2.06-.94-.94-2.06-.94 2.06-2.06.94z\"/><path d=\"M17.41 7.96l-1.37-1.37c-.4-.4-.92-.59-1.43-.59-.52 0-1.04.2-1.43.59L10.3 9.45l-7.72 7.72c-.78.78-.78 2.05 0 2.83L4 21.41c.39.39.9.59 1.41.59.51 0 1.02-.2 1.41-.59l7.78-7.78 2.81-2.81c.8-.78.8-2.07 0-2.86zM5.41 20L4 18.59l7.72-7.72 1.47 1.35L5.41 20z\"/>\n",
              "  </svg>\n",
              "      </button>\n",
              "      \n",
              "  <style>\n",
              "    .colab-df-container {\n",
              "      display:flex;\n",
              "      flex-wrap:wrap;\n",
              "      gap: 12px;\n",
              "    }\n",
              "\n",
              "    .colab-df-convert {\n",
              "      background-color: #E8F0FE;\n",
              "      border: none;\n",
              "      border-radius: 50%;\n",
              "      cursor: pointer;\n",
              "      display: none;\n",
              "      fill: #1967D2;\n",
              "      height: 32px;\n",
              "      padding: 0 0 0 0;\n",
              "      width: 32px;\n",
              "    }\n",
              "\n",
              "    .colab-df-convert:hover {\n",
              "      background-color: #E2EBFA;\n",
              "      box-shadow: 0px 1px 2px rgba(60, 64, 67, 0.3), 0px 1px 3px 1px rgba(60, 64, 67, 0.15);\n",
              "      fill: #174EA6;\n",
              "    }\n",
              "\n",
              "    [theme=dark] .colab-df-convert {\n",
              "      background-color: #3B4455;\n",
              "      fill: #D2E3FC;\n",
              "    }\n",
              "\n",
              "    [theme=dark] .colab-df-convert:hover {\n",
              "      background-color: #434B5C;\n",
              "      box-shadow: 0px 1px 3px 1px rgba(0, 0, 0, 0.15);\n",
              "      filter: drop-shadow(0px 1px 2px rgba(0, 0, 0, 0.3));\n",
              "      fill: #FFFFFF;\n",
              "    }\n",
              "  </style>\n",
              "\n",
              "      <script>\n",
              "        const buttonEl =\n",
              "          document.querySelector('#df-7de5438f-97c8-4def-b521-3905e214c892 button.colab-df-convert');\n",
              "        buttonEl.style.display =\n",
              "          google.colab.kernel.accessAllowed ? 'block' : 'none';\n",
              "\n",
              "        async function convertToInteractive(key) {\n",
              "          const element = document.querySelector('#df-7de5438f-97c8-4def-b521-3905e214c892');\n",
              "          const dataTable =\n",
              "            await google.colab.kernel.invokeFunction('convertToInteractive',\n",
              "                                                     [key], {});\n",
              "          if (!dataTable) return;\n",
              "\n",
              "          const docLinkHtml = 'Like what you see? Visit the ' +\n",
              "            '<a target=\"_blank\" href=https://colab.research.google.com/notebooks/data_table.ipynb>data table notebook</a>'\n",
              "            + ' to learn more about interactive tables.';\n",
              "          element.innerHTML = '';\n",
              "          dataTable['output_type'] = 'display_data';\n",
              "          await google.colab.output.renderOutput(dataTable, element);\n",
              "          const docLink = document.createElement('div');\n",
              "          docLink.innerHTML = docLinkHtml;\n",
              "          element.appendChild(docLink);\n",
              "        }\n",
              "      </script>\n",
              "    </div>\n",
              "  </div>\n",
              "  "
            ]
          },
          "metadata": {},
          "execution_count": 47
        }
      ]
    },
    {
      "cell_type": "markdown",
      "source": [
        "Антитоп-10 городов по eCPM"
      ],
      "metadata": {
        "id": "JbFcLC-UhYB3"
      }
    },
    {
      "cell_type": "code",
      "source": [
        "cities_new.sort_values('eCPM').head(10)"
      ],
      "metadata": {
        "colab": {
          "base_uri": "https://localhost:8080/",
          "height": 359
        },
        "id": "GU_9RnqwAire",
        "outputId": "8a638dd6-d1ca-4569-f62c-163d7e00c273"
      },
      "execution_count": null,
      "outputs": [
        {
          "output_type": "execute_result",
          "data": {
            "text/plain": [
              "             city      eCPM   revenue  count\n",
              "114        Camden  0.069294  0.004158     60\n",
              "464         Lewes  0.174279  0.049147    282\n",
              "471  Lincoln City  0.197237  0.021104    107\n",
              "587     Newington  0.210398  0.122031    580\n",
              "308    Georgetown  0.215718  0.264686   1227\n",
              "861         Vista  0.244441  0.314595   1287\n",
              "529      Metairie  0.292391  0.070466    241\n",
              "757    Santa Cruz  0.296372  0.376095   1269\n",
              "492        Malden  0.297075  0.702879   2366\n",
              "427      Kingwood  0.320540  0.246175    768"
            ],
            "text/html": [
              "\n",
              "  <div id=\"df-83166177-a5b8-40eb-9db0-30c60227e256\">\n",
              "    <div class=\"colab-df-container\">\n",
              "      <div>\n",
              "<style scoped>\n",
              "    .dataframe tbody tr th:only-of-type {\n",
              "        vertical-align: middle;\n",
              "    }\n",
              "\n",
              "    .dataframe tbody tr th {\n",
              "        vertical-align: top;\n",
              "    }\n",
              "\n",
              "    .dataframe thead th {\n",
              "        text-align: right;\n",
              "    }\n",
              "</style>\n",
              "<table border=\"1\" class=\"dataframe\">\n",
              "  <thead>\n",
              "    <tr style=\"text-align: right;\">\n",
              "      <th></th>\n",
              "      <th>city</th>\n",
              "      <th>eCPM</th>\n",
              "      <th>revenue</th>\n",
              "      <th>count</th>\n",
              "    </tr>\n",
              "  </thead>\n",
              "  <tbody>\n",
              "    <tr>\n",
              "      <th>114</th>\n",
              "      <td>Camden</td>\n",
              "      <td>0.069294</td>\n",
              "      <td>0.004158</td>\n",
              "      <td>60</td>\n",
              "    </tr>\n",
              "    <tr>\n",
              "      <th>464</th>\n",
              "      <td>Lewes</td>\n",
              "      <td>0.174279</td>\n",
              "      <td>0.049147</td>\n",
              "      <td>282</td>\n",
              "    </tr>\n",
              "    <tr>\n",
              "      <th>471</th>\n",
              "      <td>Lincoln City</td>\n",
              "      <td>0.197237</td>\n",
              "      <td>0.021104</td>\n",
              "      <td>107</td>\n",
              "    </tr>\n",
              "    <tr>\n",
              "      <th>587</th>\n",
              "      <td>Newington</td>\n",
              "      <td>0.210398</td>\n",
              "      <td>0.122031</td>\n",
              "      <td>580</td>\n",
              "    </tr>\n",
              "    <tr>\n",
              "      <th>308</th>\n",
              "      <td>Georgetown</td>\n",
              "      <td>0.215718</td>\n",
              "      <td>0.264686</td>\n",
              "      <td>1227</td>\n",
              "    </tr>\n",
              "    <tr>\n",
              "      <th>861</th>\n",
              "      <td>Vista</td>\n",
              "      <td>0.244441</td>\n",
              "      <td>0.314595</td>\n",
              "      <td>1287</td>\n",
              "    </tr>\n",
              "    <tr>\n",
              "      <th>529</th>\n",
              "      <td>Metairie</td>\n",
              "      <td>0.292391</td>\n",
              "      <td>0.070466</td>\n",
              "      <td>241</td>\n",
              "    </tr>\n",
              "    <tr>\n",
              "      <th>757</th>\n",
              "      <td>Santa Cruz</td>\n",
              "      <td>0.296372</td>\n",
              "      <td>0.376095</td>\n",
              "      <td>1269</td>\n",
              "    </tr>\n",
              "    <tr>\n",
              "      <th>492</th>\n",
              "      <td>Malden</td>\n",
              "      <td>0.297075</td>\n",
              "      <td>0.702879</td>\n",
              "      <td>2366</td>\n",
              "    </tr>\n",
              "    <tr>\n",
              "      <th>427</th>\n",
              "      <td>Kingwood</td>\n",
              "      <td>0.320540</td>\n",
              "      <td>0.246175</td>\n",
              "      <td>768</td>\n",
              "    </tr>\n",
              "  </tbody>\n",
              "</table>\n",
              "</div>\n",
              "      <button class=\"colab-df-convert\" onclick=\"convertToInteractive('df-83166177-a5b8-40eb-9db0-30c60227e256')\"\n",
              "              title=\"Convert this dataframe to an interactive table.\"\n",
              "              style=\"display:none;\">\n",
              "        \n",
              "  <svg xmlns=\"http://www.w3.org/2000/svg\" height=\"24px\"viewBox=\"0 0 24 24\"\n",
              "       width=\"24px\">\n",
              "    <path d=\"M0 0h24v24H0V0z\" fill=\"none\"/>\n",
              "    <path d=\"M18.56 5.44l.94 2.06.94-2.06 2.06-.94-2.06-.94-.94-2.06-.94 2.06-2.06.94zm-11 1L8.5 8.5l.94-2.06 2.06-.94-2.06-.94L8.5 2.5l-.94 2.06-2.06.94zm10 10l.94 2.06.94-2.06 2.06-.94-2.06-.94-.94-2.06-.94 2.06-2.06.94z\"/><path d=\"M17.41 7.96l-1.37-1.37c-.4-.4-.92-.59-1.43-.59-.52 0-1.04.2-1.43.59L10.3 9.45l-7.72 7.72c-.78.78-.78 2.05 0 2.83L4 21.41c.39.39.9.59 1.41.59.51 0 1.02-.2 1.41-.59l7.78-7.78 2.81-2.81c.8-.78.8-2.07 0-2.86zM5.41 20L4 18.59l7.72-7.72 1.47 1.35L5.41 20z\"/>\n",
              "  </svg>\n",
              "      </button>\n",
              "      \n",
              "  <style>\n",
              "    .colab-df-container {\n",
              "      display:flex;\n",
              "      flex-wrap:wrap;\n",
              "      gap: 12px;\n",
              "    }\n",
              "\n",
              "    .colab-df-convert {\n",
              "      background-color: #E8F0FE;\n",
              "      border: none;\n",
              "      border-radius: 50%;\n",
              "      cursor: pointer;\n",
              "      display: none;\n",
              "      fill: #1967D2;\n",
              "      height: 32px;\n",
              "      padding: 0 0 0 0;\n",
              "      width: 32px;\n",
              "    }\n",
              "\n",
              "    .colab-df-convert:hover {\n",
              "      background-color: #E2EBFA;\n",
              "      box-shadow: 0px 1px 2px rgba(60, 64, 67, 0.3), 0px 1px 3px 1px rgba(60, 64, 67, 0.15);\n",
              "      fill: #174EA6;\n",
              "    }\n",
              "\n",
              "    [theme=dark] .colab-df-convert {\n",
              "      background-color: #3B4455;\n",
              "      fill: #D2E3FC;\n",
              "    }\n",
              "\n",
              "    [theme=dark] .colab-df-convert:hover {\n",
              "      background-color: #434B5C;\n",
              "      box-shadow: 0px 1px 3px 1px rgba(0, 0, 0, 0.15);\n",
              "      filter: drop-shadow(0px 1px 2px rgba(0, 0, 0, 0.3));\n",
              "      fill: #FFFFFF;\n",
              "    }\n",
              "  </style>\n",
              "\n",
              "      <script>\n",
              "        const buttonEl =\n",
              "          document.querySelector('#df-83166177-a5b8-40eb-9db0-30c60227e256 button.colab-df-convert');\n",
              "        buttonEl.style.display =\n",
              "          google.colab.kernel.accessAllowed ? 'block' : 'none';\n",
              "\n",
              "        async function convertToInteractive(key) {\n",
              "          const element = document.querySelector('#df-83166177-a5b8-40eb-9db0-30c60227e256');\n",
              "          const dataTable =\n",
              "            await google.colab.kernel.invokeFunction('convertToInteractive',\n",
              "                                                     [key], {});\n",
              "          if (!dataTable) return;\n",
              "\n",
              "          const docLinkHtml = 'Like what you see? Visit the ' +\n",
              "            '<a target=\"_blank\" href=https://colab.research.google.com/notebooks/data_table.ipynb>data table notebook</a>'\n",
              "            + ' to learn more about interactive tables.';\n",
              "          element.innerHTML = '';\n",
              "          dataTable['output_type'] = 'display_data';\n",
              "          await google.colab.output.renderOutput(dataTable, element);\n",
              "          const docLink = document.createElement('div');\n",
              "          docLink.innerHTML = docLinkHtml;\n",
              "          element.appendChild(docLink);\n",
              "        }\n",
              "      </script>\n",
              "    </div>\n",
              "  </div>\n",
              "  "
            ]
          },
          "metadata": {},
          "execution_count": 48
        }
      ]
    },
    {
      "cell_type": "markdown",
      "source": [
        "Распределение доходов по городам на новых данных"
      ],
      "metadata": {
        "id": "uGhyzuFhiEII"
      }
    },
    {
      "cell_type": "code",
      "source": [
        "sns.histplot(data=cities_new, x='revenue', bins=50)"
      ],
      "metadata": {
        "colab": {
          "base_uri": "https://localhost:8080/",
          "height": 467
        },
        "id": "zhShQcEEiD-P",
        "outputId": "6a13a8c9-26fa-4aa8-fbb0-1ac10e73b2d6"
      },
      "execution_count": null,
      "outputs": [
        {
          "output_type": "execute_result",
          "data": {
            "text/plain": [
              "<matplotlib.axes._subplots.AxesSubplot at 0x7f23236c6c50>"
            ]
          },
          "metadata": {},
          "execution_count": 49
        },
        {
          "output_type": "display_data",
          "data": {
            "text/plain": [
              "<Figure size 936x504 with 1 Axes>"
            ],
            "image/png": "[encoded data removed]"
          },
          "metadata": {}
        }
      ]
    },
    {
      "cell_type": "code",
      "source": [
        "cities_new['revenue'].describe()"
      ],
      "metadata": {
        "colab": {
          "base_uri": "https://localhost:8080/"
        },
        "id": "CYpubdUuiQ5_",
        "outputId": "d456b4e3-f25e-4600-a5fb-45bd49d9f2a1"
      },
      "execution_count": null,
      "outputs": [
        {
          "output_type": "execute_result",
          "data": {
            "text/plain": [
              "count    694.000000\n",
              "mean       2.156904\n",
              "std        4.340287\n",
              "min        0.004158\n",
              "25%        0.317856\n",
              "50%        0.837518\n",
              "75%        2.017460\n",
              "max       47.454397\n",
              "Name: revenue, dtype: float64"
            ]
          },
          "metadata": {},
          "execution_count": 50
        }
      ]
    },
    {
      "cell_type": "markdown",
      "source": [
        "Топ-10 городов по доходам"
      ],
      "metadata": {
        "id": "5I-nLT8ghjoZ"
      }
    },
    {
      "cell_type": "code",
      "source": [
        "cities_new.sort_values('revenue', ascending=False).head(10)"
      ],
      "metadata": {
        "colab": {
          "base_uri": "https://localhost:8080/",
          "height": 359
        },
        "id": "VbXbBFKPhngf",
        "outputId": "772efda6-5bb4-4c67-c33e-6eb5455c3d2b"
      },
      "execution_count": null,
      "outputs": [
        {
          "output_type": "execute_result",
          "data": {
            "text/plain": [
              "             city      eCPM    revenue  count\n",
              "585      New York  2.698726  47.454397  17584\n",
              "388  Indianapolis  5.147280  36.679515   7126\n",
              "377       Houston  3.408480  34.551763  10137\n",
              "540   Minneapolis  2.637542  34.235291  12980\n",
              "161     Cleveland  5.037303  32.475495   6447\n",
              "140     Charlotte  2.627792  25.620972   9750\n",
              "172      Columbus  3.551669  22.158861   6239\n",
              "483   Los Angeles  3.099929  19.740347   6368\n",
              "792       Spokane  3.171435  18.923951   5967\n",
              "197        Dallas  3.034538  18.747376   6178"
            ],
            "text/html": [
              "\n",
              "  <div id=\"df-2abd0381-6cda-4650-acb6-4eeaa00eaf51\">\n",
              "    <div class=\"colab-df-container\">\n",
              "      <div>\n",
              "<style scoped>\n",
              "    .dataframe tbody tr th:only-of-type {\n",
              "        vertical-align: middle;\n",
              "    }\n",
              "\n",
              "    .dataframe tbody tr th {\n",
              "        vertical-align: top;\n",
              "    }\n",
              "\n",
              "    .dataframe thead th {\n",
              "        text-align: right;\n",
              "    }\n",
              "</style>\n",
              "<table border=\"1\" class=\"dataframe\">\n",
              "  <thead>\n",
              "    <tr style=\"text-align: right;\">\n",
              "      <th></th>\n",
              "      <th>city</th>\n",
              "      <th>eCPM</th>\n",
              "      <th>revenue</th>\n",
              "      <th>count</th>\n",
              "    </tr>\n",
              "  </thead>\n",
              "  <tbody>\n",
              "    <tr>\n",
              "      <th>585</th>\n",
              "      <td>New York</td>\n",
              "      <td>2.698726</td>\n",
              "      <td>47.454397</td>\n",
              "      <td>17584</td>\n",
              "    </tr>\n",
              "    <tr>\n",
              "      <th>388</th>\n",
              "      <td>Indianapolis</td>\n",
              "      <td>5.147280</td>\n",
              "      <td>36.679515</td>\n",
              "      <td>7126</td>\n",
              "    </tr>\n",
              "    <tr>\n",
              "      <th>377</th>\n",
              "      <td>Houston</td>\n",
              "      <td>3.408480</td>\n",
              "      <td>34.551763</td>\n",
              "      <td>10137</td>\n",
              "    </tr>\n",
              "    <tr>\n",
              "      <th>540</th>\n",
              "      <td>Minneapolis</td>\n",
              "      <td>2.637542</td>\n",
              "      <td>34.235291</td>\n",
              "      <td>12980</td>\n",
              "    </tr>\n",
              "    <tr>\n",
              "      <th>161</th>\n",
              "      <td>Cleveland</td>\n",
              "      <td>5.037303</td>\n",
              "      <td>32.475495</td>\n",
              "      <td>6447</td>\n",
              "    </tr>\n",
              "    <tr>\n",
              "      <th>140</th>\n",
              "      <td>Charlotte</td>\n",
              "      <td>2.627792</td>\n",
              "      <td>25.620972</td>\n",
              "      <td>9750</td>\n",
              "    </tr>\n",
              "    <tr>\n",
              "      <th>172</th>\n",
              "      <td>Columbus</td>\n",
              "      <td>3.551669</td>\n",
              "      <td>22.158861</td>\n",
              "      <td>6239</td>\n",
              "    </tr>\n",
              "    <tr>\n",
              "      <th>483</th>\n",
              "      <td>Los Angeles</td>\n",
              "      <td>3.099929</td>\n",
              "      <td>19.740347</td>\n",
              "      <td>6368</td>\n",
              "    </tr>\n",
              "    <tr>\n",
              "      <th>792</th>\n",
              "      <td>Spokane</td>\n",
              "      <td>3.171435</td>\n",
              "      <td>18.923951</td>\n",
              "      <td>5967</td>\n",
              "    </tr>\n",
              "    <tr>\n",
              "      <th>197</th>\n",
              "      <td>Dallas</td>\n",
              "      <td>3.034538</td>\n",
              "      <td>18.747376</td>\n",
              "      <td>6178</td>\n",
              "    </tr>\n",
              "  </tbody>\n",
              "</table>\n",
              "</div>\n",
              "      <button class=\"colab-df-convert\" onclick=\"convertToInteractive('df-2abd0381-6cda-4650-acb6-4eeaa00eaf51')\"\n",
              "              title=\"Convert this dataframe to an interactive table.\"\n",
              "              style=\"display:none;\">\n",
              "        \n",
              "  <svg xmlns=\"http://www.w3.org/2000/svg\" height=\"24px\"viewBox=\"0 0 24 24\"\n",
              "       width=\"24px\">\n",
              "    <path d=\"M0 0h24v24H0V0z\" fill=\"none\"/>\n",
              "    <path d=\"M18.56 5.44l.94 2.06.94-2.06 2.06-.94-2.06-.94-.94-2.06-.94 2.06-2.06.94zm-11 1L8.5 8.5l.94-2.06 2.06-.94-2.06-.94L8.5 2.5l-.94 2.06-2.06.94zm10 10l.94 2.06.94-2.06 2.06-.94-2.06-.94-.94-2.06-.94 2.06-2.06.94z\"/><path d=\"M17.41 7.96l-1.37-1.37c-.4-.4-.92-.59-1.43-.59-.52 0-1.04.2-1.43.59L10.3 9.45l-7.72 7.72c-.78.78-.78 2.05 0 2.83L4 21.41c.39.39.9.59 1.41.59.51 0 1.02-.2 1.41-.59l7.78-7.78 2.81-2.81c.8-.78.8-2.07 0-2.86zM5.41 20L4 18.59l7.72-7.72 1.47 1.35L5.41 20z\"/>\n",
              "  </svg>\n",
              "      </button>\n",
              "      \n",
              "  <style>\n",
              "    .colab-df-container {\n",
              "      display:flex;\n",
              "      flex-wrap:wrap;\n",
              "      gap: 12px;\n",
              "    }\n",
              "\n",
              "    .colab-df-convert {\n",
              "      background-color: #E8F0FE;\n",
              "      border: none;\n",
              "      border-radius: 50%;\n",
              "      cursor: pointer;\n",
              "      display: none;\n",
              "      fill: #1967D2;\n",
              "      height: 32px;\n",
              "      padding: 0 0 0 0;\n",
              "      width: 32px;\n",
              "    }\n",
              "\n",
              "    .colab-df-convert:hover {\n",
              "      background-color: #E2EBFA;\n",
              "      box-shadow: 0px 1px 2px rgba(60, 64, 67, 0.3), 0px 1px 3px 1px rgba(60, 64, 67, 0.15);\n",
              "      fill: #174EA6;\n",
              "    }\n",
              "\n",
              "    [theme=dark] .colab-df-convert {\n",
              "      background-color: #3B4455;\n",
              "      fill: #D2E3FC;\n",
              "    }\n",
              "\n",
              "    [theme=dark] .colab-df-convert:hover {\n",
              "      background-color: #434B5C;\n",
              "      box-shadow: 0px 1px 3px 1px rgba(0, 0, 0, 0.15);\n",
              "      filter: drop-shadow(0px 1px 2px rgba(0, 0, 0, 0.3));\n",
              "      fill: #FFFFFF;\n",
              "    }\n",
              "  </style>\n",
              "\n",
              "      <script>\n",
              "        const buttonEl =\n",
              "          document.querySelector('#df-2abd0381-6cda-4650-acb6-4eeaa00eaf51 button.colab-df-convert');\n",
              "        buttonEl.style.display =\n",
              "          google.colab.kernel.accessAllowed ? 'block' : 'none';\n",
              "\n",
              "        async function convertToInteractive(key) {\n",
              "          const element = document.querySelector('#df-2abd0381-6cda-4650-acb6-4eeaa00eaf51');\n",
              "          const dataTable =\n",
              "            await google.colab.kernel.invokeFunction('convertToInteractive',\n",
              "                                                     [key], {});\n",
              "          if (!dataTable) return;\n",
              "\n",
              "          const docLinkHtml = 'Like what you see? Visit the ' +\n",
              "            '<a target=\"_blank\" href=https://colab.research.google.com/notebooks/data_table.ipynb>data table notebook</a>'\n",
              "            + ' to learn more about interactive tables.';\n",
              "          element.innerHTML = '';\n",
              "          dataTable['output_type'] = 'display_data';\n",
              "          await google.colab.output.renderOutput(dataTable, element);\n",
              "          const docLink = document.createElement('div');\n",
              "          docLink.innerHTML = docLinkHtml;\n",
              "          element.appendChild(docLink);\n",
              "        }\n",
              "      </script>\n",
              "    </div>\n",
              "  </div>\n",
              "  "
            ]
          },
          "metadata": {},
          "execution_count": 51
        }
      ]
    },
    {
      "cell_type": "markdown",
      "source": [
        "Создадим новую сводную таблицу по городам и формату показов.\n",
        "\n",
        "Выберем только те города, которые есть в таблице cities_new"
      ],
      "metadata": {
        "id": "gN3zbYXqi-C2"
      }
    },
    {
      "cell_type": "code",
      "source": [
        "cities_ad = df.groupby(['city', 'ad_type'])['revenue'].agg(['mean', 'sum','count']).reset_index()\n",
        "\n",
        "cities_ad.columns = ['city', 'ad_type', 'eCPM', 'revenue', 'count']\n",
        "cities_ad = cities_ad[cities_ad['city'].isin(cities_new['city'])]\n",
        "cities_ad['eCPM'] = cities_ad['eCPM'] * 1000\n",
        "\n",
        "cities_ad"
      ],
      "metadata": {
        "colab": {
          "base_uri": "https://localhost:8080/",
          "height": 419
        },
        "id": "4KQPU0kfpn7L",
        "outputId": "bf8a2060-e0ce-4b49-dcd4-1a3f12361bc0"
      },
      "execution_count": null,
      "outputs": [
        {
          "output_type": "execute_result",
          "data": {
            "text/plain": [
              "            city ad_type       eCPM   revenue  count\n",
              "0       Aberdeen  banner   0.321518  0.030866     96\n",
              "1       Aberdeen     int  13.583285  0.081500      6\n",
              "2       Aberdeen      rv  21.516378  0.021516      1\n",
              "3        Abilene  banner   0.941283  0.043299     46\n",
              "4        Abilene     int  50.301282  0.402410      8\n",
              "...          ...     ...        ...       ...    ...\n",
              "2174        Yuma  banner   0.163029  0.018585    114\n",
              "2175        Yuma     int  13.281538  0.053126      4\n",
              "2176  Zanesville  banner   0.150360  0.167651   1115\n",
              "2177  Zanesville     int  19.668018  1.081741     55\n",
              "2178  Zanesville      rv  45.416136  0.363329      8\n",
              "\n",
              "[1809 rows x 5 columns]"
            ],
            "text/html": [
              "\n",
              "  <div id=\"df-ca6721af-e2f9-41a6-bb2e-eec1b1ebdde3\">\n",
              "    <div class=\"colab-df-container\">\n",
              "      <div>\n",
              "<style scoped>\n",
              "    .dataframe tbody tr th:only-of-type {\n",
              "        vertical-align: middle;\n",
              "    }\n",
              "\n",
              "    .dataframe tbody tr th {\n",
              "        vertical-align: top;\n",
              "    }\n",
              "\n",
              "    .dataframe thead th {\n",
              "        text-align: right;\n",
              "    }\n",
              "</style>\n",
              "<table border=\"1\" class=\"dataframe\">\n",
              "  <thead>\n",
              "    <tr style=\"text-align: right;\">\n",
              "      <th></th>\n",
              "      <th>city</th>\n",
              "      <th>ad_type</th>\n",
              "      <th>eCPM</th>\n",
              "      <th>revenue</th>\n",
              "      <th>count</th>\n",
              "    </tr>\n",
              "  </thead>\n",
              "  <tbody>\n",
              "    <tr>\n",
              "      <th>0</th>\n",
              "      <td>Aberdeen</td>\n",
              "      <td>banner</td>\n",
              "      <td>0.321518</td>\n",
              "      <td>0.030866</td>\n",
              "      <td>96</td>\n",
              "    </tr>\n",
              "    <tr>\n",
              "      <th>1</th>\n",
              "      <td>Aberdeen</td>\n",
              "      <td>int</td>\n",
              "      <td>13.583285</td>\n",
              "      <td>0.081500</td>\n",
              "      <td>6</td>\n",
              "    </tr>\n",
              "    <tr>\n",
              "      <th>2</th>\n",
              "      <td>Aberdeen</td>\n",
              "      <td>rv</td>\n",
              "      <td>21.516378</td>\n",
              "      <td>0.021516</td>\n",
              "      <td>1</td>\n",
              "    </tr>\n",
              "    <tr>\n",
              "      <th>3</th>\n",
              "      <td>Abilene</td>\n",
              "      <td>banner</td>\n",
              "      <td>0.941283</td>\n",
              "      <td>0.043299</td>\n",
              "      <td>46</td>\n",
              "    </tr>\n",
              "    <tr>\n",
              "      <th>4</th>\n",
              "      <td>Abilene</td>\n",
              "      <td>int</td>\n",
              "      <td>50.301282</td>\n",
              "      <td>0.402410</td>\n",
              "      <td>8</td>\n",
              "    </tr>\n",
              "    <tr>\n",
              "      <th>...</th>\n",
              "      <td>...</td>\n",
              "      <td>...</td>\n",
              "      <td>...</td>\n",
              "      <td>...</td>\n",
              "      <td>...</td>\n",
              "    </tr>\n",
              "    <tr>\n",
              "      <th>2174</th>\n",
              "      <td>Yuma</td>\n",
              "      <td>banner</td>\n",
              "      <td>0.163029</td>\n",
              "      <td>0.018585</td>\n",
              "      <td>114</td>\n",
              "    </tr>\n",
              "    <tr>\n",
              "      <th>2175</th>\n",
              "      <td>Yuma</td>\n",
              "      <td>int</td>\n",
              "      <td>13.281538</td>\n",
              "      <td>0.053126</td>\n",
              "      <td>4</td>\n",
              "    </tr>\n",
              "    <tr>\n",
              "      <th>2176</th>\n",
              "      <td>Zanesville</td>\n",
              "      <td>banner</td>\n",
              "      <td>0.150360</td>\n",
              "      <td>0.167651</td>\n",
              "      <td>1115</td>\n",
              "    </tr>\n",
              "    <tr>\n",
              "      <th>2177</th>\n",
              "      <td>Zanesville</td>\n",
              "      <td>int</td>\n",
              "      <td>19.668018</td>\n",
              "      <td>1.081741</td>\n",
              "      <td>55</td>\n",
              "    </tr>\n",
              "    <tr>\n",
              "      <th>2178</th>\n",
              "      <td>Zanesville</td>\n",
              "      <td>rv</td>\n",
              "      <td>45.416136</td>\n",
              "      <td>0.363329</td>\n",
              "      <td>8</td>\n",
              "    </tr>\n",
              "  </tbody>\n",
              "</table>\n",
              "<p>1809 rows × 5 columns</p>\n",
              "</div>\n",
              "      <button class=\"colab-df-convert\" onclick=\"convertToInteractive('df-ca6721af-e2f9-41a6-bb2e-eec1b1ebdde3')\"\n",
              "              title=\"Convert this dataframe to an interactive table.\"\n",
              "              style=\"display:none;\">\n",
              "        \n",
              "  <svg xmlns=\"http://www.w3.org/2000/svg\" height=\"24px\"viewBox=\"0 0 24 24\"\n",
              "       width=\"24px\">\n",
              "    <path d=\"M0 0h24v24H0V0z\" fill=\"none\"/>\n",
              "    <path d=\"M18.56 5.44l.94 2.06.94-2.06 2.06-.94-2.06-.94-.94-2.06-.94 2.06-2.06.94zm-11 1L8.5 8.5l.94-2.06 2.06-.94-2.06-.94L8.5 2.5l-.94 2.06-2.06.94zm10 10l.94 2.06.94-2.06 2.06-.94-2.06-.94-.94-2.06-.94 2.06-2.06.94z\"/><path d=\"M17.41 7.96l-1.37-1.37c-.4-.4-.92-.59-1.43-.59-.52 0-1.04.2-1.43.59L10.3 9.45l-7.72 7.72c-.78.78-.78 2.05 0 2.83L4 21.41c.39.39.9.59 1.41.59.51 0 1.02-.2 1.41-.59l7.78-7.78 2.81-2.81c.8-.78.8-2.07 0-2.86zM5.41 20L4 18.59l7.72-7.72 1.47 1.35L5.41 20z\"/>\n",
              "  </svg>\n",
              "      </button>\n",
              "      \n",
              "  <style>\n",
              "    .colab-df-container {\n",
              "      display:flex;\n",
              "      flex-wrap:wrap;\n",
              "      gap: 12px;\n",
              "    }\n",
              "\n",
              "    .colab-df-convert {\n",
              "      background-color: #E8F0FE;\n",
              "      border: none;\n",
              "      border-radius: 50%;\n",
              "      cursor: pointer;\n",
              "      display: none;\n",
              "      fill: #1967D2;\n",
              "      height: 32px;\n",
              "      padding: 0 0 0 0;\n",
              "      width: 32px;\n",
              "    }\n",
              "\n",
              "    .colab-df-convert:hover {\n",
              "      background-color: #E2EBFA;\n",
              "      box-shadow: 0px 1px 2px rgba(60, 64, 67, 0.3), 0px 1px 3px 1px rgba(60, 64, 67, 0.15);\n",
              "      fill: #174EA6;\n",
              "    }\n",
              "\n",
              "    [theme=dark] .colab-df-convert {\n",
              "      background-color: #3B4455;\n",
              "      fill: #D2E3FC;\n",
              "    }\n",
              "\n",
              "    [theme=dark] .colab-df-convert:hover {\n",
              "      background-color: #434B5C;\n",
              "      box-shadow: 0px 1px 3px 1px rgba(0, 0, 0, 0.15);\n",
              "      filter: drop-shadow(0px 1px 2px rgba(0, 0, 0, 0.3));\n",
              "      fill: #FFFFFF;\n",
              "    }\n",
              "  </style>\n",
              "\n",
              "      <script>\n",
              "        const buttonEl =\n",
              "          document.querySelector('#df-ca6721af-e2f9-41a6-bb2e-eec1b1ebdde3 button.colab-df-convert');\n",
              "        buttonEl.style.display =\n",
              "          google.colab.kernel.accessAllowed ? 'block' : 'none';\n",
              "\n",
              "        async function convertToInteractive(key) {\n",
              "          const element = document.querySelector('#df-ca6721af-e2f9-41a6-bb2e-eec1b1ebdde3');\n",
              "          const dataTable =\n",
              "            await google.colab.kernel.invokeFunction('convertToInteractive',\n",
              "                                                     [key], {});\n",
              "          if (!dataTable) return;\n",
              "\n",
              "          const docLinkHtml = 'Like what you see? Visit the ' +\n",
              "            '<a target=\"_blank\" href=https://colab.research.google.com/notebooks/data_table.ipynb>data table notebook</a>'\n",
              "            + ' to learn more about interactive tables.';\n",
              "          element.innerHTML = '';\n",
              "          dataTable['output_type'] = 'display_data';\n",
              "          await google.colab.output.renderOutput(dataTable, element);\n",
              "          const docLink = document.createElement('div');\n",
              "          docLink.innerHTML = docLinkHtml;\n",
              "          element.appendChild(docLink);\n",
              "        }\n",
              "      </script>\n",
              "    </div>\n",
              "  </div>\n",
              "  "
            ]
          },
          "metadata": {},
          "execution_count": 52
        }
      ]
    },
    {
      "cell_type": "markdown",
      "source": [
        "Распределение городских eCMP по формату показов"
      ],
      "metadata": {
        "id": "31Rb2ZTGm6PY"
      }
    },
    {
      "cell_type": "code",
      "source": [
        "cities_ad.groupby('ad_type')['eCPM'].agg(['mean','median', 'count'])"
      ],
      "metadata": {
        "colab": {
          "base_uri": "https://localhost:8080/",
          "height": 173
        },
        "id": "JORmcdi0hwig",
        "outputId": "52373df6-685e-4036-ede4-9643161db2ac"
      },
      "execution_count": null,
      "outputs": [
        {
          "output_type": "execute_result",
          "data": {
            "text/plain": [
              "              mean     median  count\n",
              "ad_type                             \n",
              "banner    0.927916   0.558833    694\n",
              "int      42.455645  30.423341    690\n",
              "rv       80.670181  55.817763    425"
            ],
            "text/html": [
              "\n",
              "  <div id=\"df-95737d4c-d0ce-4edf-853e-d0fd734244e2\">\n",
              "    <div class=\"colab-df-container\">\n",
              "      <div>\n",
              "<style scoped>\n",
              "    .dataframe tbody tr th:only-of-type {\n",
              "        vertical-align: middle;\n",
              "    }\n",
              "\n",
              "    .dataframe tbody tr th {\n",
              "        vertical-align: top;\n",
              "    }\n",
              "\n",
              "    .dataframe thead th {\n",
              "        text-align: right;\n",
              "    }\n",
              "</style>\n",
              "<table border=\"1\" class=\"dataframe\">\n",
              "  <thead>\n",
              "    <tr style=\"text-align: right;\">\n",
              "      <th></th>\n",
              "      <th>mean</th>\n",
              "      <th>median</th>\n",
              "      <th>count</th>\n",
              "    </tr>\n",
              "    <tr>\n",
              "      <th>ad_type</th>\n",
              "      <th></th>\n",
              "      <th></th>\n",
              "      <th></th>\n",
              "    </tr>\n",
              "  </thead>\n",
              "  <tbody>\n",
              "    <tr>\n",
              "      <th>banner</th>\n",
              "      <td>0.927916</td>\n",
              "      <td>0.558833</td>\n",
              "      <td>694</td>\n",
              "    </tr>\n",
              "    <tr>\n",
              "      <th>int</th>\n",
              "      <td>42.455645</td>\n",
              "      <td>30.423341</td>\n",
              "      <td>690</td>\n",
              "    </tr>\n",
              "    <tr>\n",
              "      <th>rv</th>\n",
              "      <td>80.670181</td>\n",
              "      <td>55.817763</td>\n",
              "      <td>425</td>\n",
              "    </tr>\n",
              "  </tbody>\n",
              "</table>\n",
              "</div>\n",
              "      <button class=\"colab-df-convert\" onclick=\"convertToInteractive('df-95737d4c-d0ce-4edf-853e-d0fd734244e2')\"\n",
              "              title=\"Convert this dataframe to an interactive table.\"\n",
              "              style=\"display:none;\">\n",
              "        \n",
              "  <svg xmlns=\"http://www.w3.org/2000/svg\" height=\"24px\"viewBox=\"0 0 24 24\"\n",
              "       width=\"24px\">\n",
              "    <path d=\"M0 0h24v24H0V0z\" fill=\"none\"/>\n",
              "    <path d=\"M18.56 5.44l.94 2.06.94-2.06 2.06-.94-2.06-.94-.94-2.06-.94 2.06-2.06.94zm-11 1L8.5 8.5l.94-2.06 2.06-.94-2.06-.94L8.5 2.5l-.94 2.06-2.06.94zm10 10l.94 2.06.94-2.06 2.06-.94-2.06-.94-.94-2.06-.94 2.06-2.06.94z\"/><path d=\"M17.41 7.96l-1.37-1.37c-.4-.4-.92-.59-1.43-.59-.52 0-1.04.2-1.43.59L10.3 9.45l-7.72 7.72c-.78.78-.78 2.05 0 2.83L4 21.41c.39.39.9.59 1.41.59.51 0 1.02-.2 1.41-.59l7.78-7.78 2.81-2.81c.8-.78.8-2.07 0-2.86zM5.41 20L4 18.59l7.72-7.72 1.47 1.35L5.41 20z\"/>\n",
              "  </svg>\n",
              "      </button>\n",
              "      \n",
              "  <style>\n",
              "    .colab-df-container {\n",
              "      display:flex;\n",
              "      flex-wrap:wrap;\n",
              "      gap: 12px;\n",
              "    }\n",
              "\n",
              "    .colab-df-convert {\n",
              "      background-color: #E8F0FE;\n",
              "      border: none;\n",
              "      border-radius: 50%;\n",
              "      cursor: pointer;\n",
              "      display: none;\n",
              "      fill: #1967D2;\n",
              "      height: 32px;\n",
              "      padding: 0 0 0 0;\n",
              "      width: 32px;\n",
              "    }\n",
              "\n",
              "    .colab-df-convert:hover {\n",
              "      background-color: #E2EBFA;\n",
              "      box-shadow: 0px 1px 2px rgba(60, 64, 67, 0.3), 0px 1px 3px 1px rgba(60, 64, 67, 0.15);\n",
              "      fill: #174EA6;\n",
              "    }\n",
              "\n",
              "    [theme=dark] .colab-df-convert {\n",
              "      background-color: #3B4455;\n",
              "      fill: #D2E3FC;\n",
              "    }\n",
              "\n",
              "    [theme=dark] .colab-df-convert:hover {\n",
              "      background-color: #434B5C;\n",
              "      box-shadow: 0px 1px 3px 1px rgba(0, 0, 0, 0.15);\n",
              "      filter: drop-shadow(0px 1px 2px rgba(0, 0, 0, 0.3));\n",
              "      fill: #FFFFFF;\n",
              "    }\n",
              "  </style>\n",
              "\n",
              "      <script>\n",
              "        const buttonEl =\n",
              "          document.querySelector('#df-95737d4c-d0ce-4edf-853e-d0fd734244e2 button.colab-df-convert');\n",
              "        buttonEl.style.display =\n",
              "          google.colab.kernel.accessAllowed ? 'block' : 'none';\n",
              "\n",
              "        async function convertToInteractive(key) {\n",
              "          const element = document.querySelector('#df-95737d4c-d0ce-4edf-853e-d0fd734244e2');\n",
              "          const dataTable =\n",
              "            await google.colab.kernel.invokeFunction('convertToInteractive',\n",
              "                                                     [key], {});\n",
              "          if (!dataTable) return;\n",
              "\n",
              "          const docLinkHtml = 'Like what you see? Visit the ' +\n",
              "            '<a target=\"_blank\" href=https://colab.research.google.com/notebooks/data_table.ipynb>data table notebook</a>'\n",
              "            + ' to learn more about interactive tables.';\n",
              "          element.innerHTML = '';\n",
              "          dataTable['output_type'] = 'display_data';\n",
              "          await google.colab.output.renderOutput(dataTable, element);\n",
              "          const docLink = document.createElement('div');\n",
              "          docLink.innerHTML = docLinkHtml;\n",
              "          element.appendChild(docLink);\n",
              "        }\n",
              "      </script>\n",
              "    </div>\n",
              "  </div>\n",
              "  "
            ]
          },
          "metadata": {},
          "execution_count": 53
        }
      ]
    },
    {
      "cell_type": "code",
      "source": [
        "sns.boxplot(data=cities_ad, x='ad_type', y='eCPM')"
      ],
      "metadata": {
        "colab": {
          "base_uri": "https://localhost:8080/",
          "height": 467
        },
        "id": "J6sM2363hwRg",
        "outputId": "926eb1f3-22b1-438e-d8cb-ef9a3435508d"
      },
      "execution_count": null,
      "outputs": [
        {
          "output_type": "execute_result",
          "data": {
            "text/plain": [
              "<matplotlib.axes._subplots.AxesSubplot at 0x7f2323427410>"
            ]
          },
          "metadata": {},
          "execution_count": 54
        },
        {
          "output_type": "display_data",
          "data": {
            "text/plain": [
              "<Figure size 936x504 with 1 Axes>"
            ],
            "image/png": "[encoded data removed]"
          },
          "metadata": {}
        }
      ]
    },
    {
      "cell_type": "code",
      "source": [
        "fig, ax = plt.subplots(nrows=3, ncols=1, figsize=(12,12))\n",
        "\n",
        "sns.histplot(data=cities_ad[cities_ad['ad_type'] == 'banner'], x='eCPM', bins=50, ax=ax[0])\n",
        "ax[0].set_ylabel('banner')\n",
        "\n",
        "sns.histplot(data=cities_ad[cities_ad['ad_type'] == 'int'], x='eCPM', bins=50, ax=ax[1])\n",
        "ax[1].set_ylabel('int')\n",
        "\n",
        "sns.histplot(data=cities_ad[cities_ad['ad_type'] == 'rv'], x='eCPM', bins=50, ax=ax[2])\n",
        "ax[2].set_ylabel('rv')"
      ],
      "metadata": {
        "colab": {
          "base_uri": "https://localhost:8080/",
          "height": 739
        },
        "id": "wElHYKtxhvhd",
        "outputId": "8c6da468-801e-4796-c837-f170ca7c7c36"
      },
      "execution_count": null,
      "outputs": [
        {
          "output_type": "execute_result",
          "data": {
            "text/plain": [
              "Text(0, 0.5, 'rv')"
            ]
          },
          "metadata": {},
          "execution_count": 55
        },
        {
          "output_type": "display_data",
          "data": {
            "text/plain": [
              "<Figure size 864x864 with 3 Axes>"
            ],
            "image/png": "[encoded data removed]"
          },
          "metadata": {}
        }
      ]
    },
    {
      "cell_type": "markdown",
      "source": [
        "В среднем eCPM по городам для баннеров самая низкая, около 1, самая высокая у видео - 81, у полноэкранной в два раза ниже - 42."
      ],
      "metadata": {
        "id": "RkTMZm24oHeZ"
      }
    },
    {
      "cell_type": "markdown",
      "source": [
        "Распределение суммарного дохода городов по формату показов"
      ],
      "metadata": {
        "id": "uEBrhO_epMzL"
      }
    },
    {
      "cell_type": "code",
      "source": [
        "cities_ad.groupby('ad_type')['revenue'].agg(['mean','sum', 'count']).reset_index()"
      ],
      "metadata": {
        "colab": {
          "base_uri": "https://localhost:8080/",
          "height": 142
        },
        "outputId": "f4d6bfeb-73d0-4723-9b5f-a6e1fba27ecf",
        "id": "nWu6jNL4wE_L"
      },
      "execution_count": null,
      "outputs": [
        {
          "output_type": "execute_result",
          "data": {
            "text/plain": [
              "  ad_type      mean         sum  count\n",
              "0  banner  0.533809  370.463665    694\n",
              "1     int  1.223166  843.984617    690\n",
              "2      rv  0.664571  282.442756    425"
            ],
            "text/html": [
              "\n",
              "  <div id=\"df-4dc6fe32-f039-4eec-9f61-0df8cb87390d\">\n",
              "    <div class=\"colab-df-container\">\n",
              "      <div>\n",
              "<style scoped>\n",
              "    .dataframe tbody tr th:only-of-type {\n",
              "        vertical-align: middle;\n",
              "    }\n",
              "\n",
              "    .dataframe tbody tr th {\n",
              "        vertical-align: top;\n",
              "    }\n",
              "\n",
              "    .dataframe thead th {\n",
              "        text-align: right;\n",
              "    }\n",
              "</style>\n",
              "<table border=\"1\" class=\"dataframe\">\n",
              "  <thead>\n",
              "    <tr style=\"text-align: right;\">\n",
              "      <th></th>\n",
              "      <th>ad_type</th>\n",
              "      <th>mean</th>\n",
              "      <th>sum</th>\n",
              "      <th>count</th>\n",
              "    </tr>\n",
              "  </thead>\n",
              "  <tbody>\n",
              "    <tr>\n",
              "      <th>0</th>\n",
              "      <td>banner</td>\n",
              "      <td>0.533809</td>\n",
              "      <td>370.463665</td>\n",
              "      <td>694</td>\n",
              "    </tr>\n",
              "    <tr>\n",
              "      <th>1</th>\n",
              "      <td>int</td>\n",
              "      <td>1.223166</td>\n",
              "      <td>843.984617</td>\n",
              "      <td>690</td>\n",
              "    </tr>\n",
              "    <tr>\n",
              "      <th>2</th>\n",
              "      <td>rv</td>\n",
              "      <td>0.664571</td>\n",
              "      <td>282.442756</td>\n",
              "      <td>425</td>\n",
              "    </tr>\n",
              "  </tbody>\n",
              "</table>\n",
              "</div>\n",
              "      <button class=\"colab-df-convert\" onclick=\"convertToInteractive('df-4dc6fe32-f039-4eec-9f61-0df8cb87390d')\"\n",
              "              title=\"Convert this dataframe to an interactive table.\"\n",
              "              style=\"display:none;\">\n",
              "        \n",
              "  <svg xmlns=\"http://www.w3.org/2000/svg\" height=\"24px\"viewBox=\"0 0 24 24\"\n",
              "       width=\"24px\">\n",
              "    <path d=\"M0 0h24v24H0V0z\" fill=\"none\"/>\n",
              "    <path d=\"M18.56 5.44l.94 2.06.94-2.06 2.06-.94-2.06-.94-.94-2.06-.94 2.06-2.06.94zm-11 1L8.5 8.5l.94-2.06 2.06-.94-2.06-.94L8.5 2.5l-.94 2.06-2.06.94zm10 10l.94 2.06.94-2.06 2.06-.94-2.06-.94-.94-2.06-.94 2.06-2.06.94z\"/><path d=\"M17.41 7.96l-1.37-1.37c-.4-.4-.92-.59-1.43-.59-.52 0-1.04.2-1.43.59L10.3 9.45l-7.72 7.72c-.78.78-.78 2.05 0 2.83L4 21.41c.39.39.9.59 1.41.59.51 0 1.02-.2 1.41-.59l7.78-7.78 2.81-2.81c.8-.78.8-2.07 0-2.86zM5.41 20L4 18.59l7.72-7.72 1.47 1.35L5.41 20z\"/>\n",
              "  </svg>\n",
              "      </button>\n",
              "      \n",
              "  <style>\n",
              "    .colab-df-container {\n",
              "      display:flex;\n",
              "      flex-wrap:wrap;\n",
              "      gap: 12px;\n",
              "    }\n",
              "\n",
              "    .colab-df-convert {\n",
              "      background-color: #E8F0FE;\n",
              "      border: none;\n",
              "      border-radius: 50%;\n",
              "      cursor: pointer;\n",
              "      display: none;\n",
              "      fill: #1967D2;\n",
              "      height: 32px;\n",
              "      padding: 0 0 0 0;\n",
              "      width: 32px;\n",
              "    }\n",
              "\n",
              "    .colab-df-convert:hover {\n",
              "      background-color: #E2EBFA;\n",
              "      box-shadow: 0px 1px 2px rgba(60, 64, 67, 0.3), 0px 1px 3px 1px rgba(60, 64, 67, 0.15);\n",
              "      fill: #174EA6;\n",
              "    }\n",
              "\n",
              "    [theme=dark] .colab-df-convert {\n",
              "      background-color: #3B4455;\n",
              "      fill: #D2E3FC;\n",
              "    }\n",
              "\n",
              "    [theme=dark] .colab-df-convert:hover {\n",
              "      background-color: #434B5C;\n",
              "      box-shadow: 0px 1px 3px 1px rgba(0, 0, 0, 0.15);\n",
              "      filter: drop-shadow(0px 1px 2px rgba(0, 0, 0, 0.3));\n",
              "      fill: #FFFFFF;\n",
              "    }\n",
              "  </style>\n",
              "\n",
              "      <script>\n",
              "        const buttonEl =\n",
              "          document.querySelector('#df-4dc6fe32-f039-4eec-9f61-0df8cb87390d button.colab-df-convert');\n",
              "        buttonEl.style.display =\n",
              "          google.colab.kernel.accessAllowed ? 'block' : 'none';\n",
              "\n",
              "        async function convertToInteractive(key) {\n",
              "          const element = document.querySelector('#df-4dc6fe32-f039-4eec-9f61-0df8cb87390d');\n",
              "          const dataTable =\n",
              "            await google.colab.kernel.invokeFunction('convertToInteractive',\n",
              "                                                     [key], {});\n",
              "          if (!dataTable) return;\n",
              "\n",
              "          const docLinkHtml = 'Like what you see? Visit the ' +\n",
              "            '<a target=\"_blank\" href=https://colab.research.google.com/notebooks/data_table.ipynb>data table notebook</a>'\n",
              "            + ' to learn more about interactive tables.';\n",
              "          element.innerHTML = '';\n",
              "          dataTable['output_type'] = 'display_data';\n",
              "          await google.colab.output.renderOutput(dataTable, element);\n",
              "          const docLink = document.createElement('div');\n",
              "          docLink.innerHTML = docLinkHtml;\n",
              "          element.appendChild(docLink);\n",
              "        }\n",
              "      </script>\n",
              "    </div>\n",
              "  </div>\n",
              "  "
            ]
          },
          "metadata": {},
          "execution_count": 56
        }
      ]
    },
    {
      "cell_type": "code",
      "source": [
        "sns.boxplot(data=cities_ad, x='ad_type', y='revenue')"
      ],
      "metadata": {
        "id": "9L2-SkHBwE_X",
        "colab": {
          "base_uri": "https://localhost:8080/",
          "height": 467
        },
        "outputId": "a6de3f4d-e5dc-423a-e4ee-56bae5bd71a0"
      },
      "execution_count": null,
      "outputs": [
        {
          "output_type": "execute_result",
          "data": {
            "text/plain": [
              "<matplotlib.axes._subplots.AxesSubplot at 0x7f23236d5fd0>"
            ]
          },
          "metadata": {},
          "execution_count": 57
        },
        {
          "output_type": "display_data",
          "data": {
            "text/plain": [
              "<Figure size 936x504 with 1 Axes>"
            ],
            "image/png": "[encoded data removed]"
          },
          "metadata": {}
        }
      ]
    },
    {
      "cell_type": "code",
      "source": [
        "fig, ax = plt.subplots(nrows=3, ncols=1, figsize=(15,12), sharex=True)\n",
        "\n",
        "sns.histplot(data=cities_ad[cities_ad['ad_type'] == 'banner'], x='revenue', bins=20, ax=ax[0])\n",
        "ax[0].set_ylabel('banner')\n",
        "\n",
        "sns.histplot(data=cities_ad[cities_ad['ad_type'] == 'int'], x='revenue', bins=40, ax=ax[1])\n",
        "ax[1].set_ylabel('int')\n",
        "\n",
        "sns.histplot(data=cities_ad[cities_ad['ad_type'] == 'rv'], x='revenue', bins=20, ax=ax[2])\n",
        "ax[2].set_ylabel('rv')"
      ],
      "metadata": {
        "id": "jA8NYNTCwE_Y",
        "colab": {
          "base_uri": "https://localhost:8080/",
          "height": 739
        },
        "outputId": "f10852b1-7223-4c3c-e4e3-b24ac103bfb1"
      },
      "execution_count": null,
      "outputs": [
        {
          "output_type": "execute_result",
          "data": {
            "text/plain": [
              "Text(0, 0.5, 'rv')"
            ]
          },
          "metadata": {},
          "execution_count": 58
        },
        {
          "output_type": "display_data",
          "data": {
            "text/plain": [
              "<Figure size 1080x864 with 3 Axes>"
            ],
            "image/png": "[encoded data removed]"
          },
          "metadata": {}
        }
      ]
    },
    {
      "cell_type": "markdown",
      "source": [
        "В отличии от eCPM доходы имееют примерно одинаковый масштаб, лидером по доходу является полноэкранная реклама - 844, следующая - баннеры - 370, последнии - видео - 282"
      ],
      "metadata": {
        "id": "poGrbP2gpvxJ"
      }
    },
    {
      "cell_type": "markdown",
      "source": [
        "### Распределение средних значений eCPM и суммарного дохода по версиям ОС"
      ],
      "metadata": {
        "id": "YyBSP_VXqcP9"
      }
    },
    {
      "cell_type": "markdown",
      "source": [
        "Посмотрим какие версии ОС есть в датасете"
      ],
      "metadata": {
        "id": "Z04SSsF7J5Y2"
      }
    },
    {
      "cell_type": "code",
      "source": [
        "df['os_version'].value_counts(dropna=False)"
      ],
      "metadata": {
        "colab": {
          "base_uri": "https://localhost:8080/"
        },
        "id": "Jo_9iO1u9cz6",
        "outputId": "9d82ab10-de13-478d-8d4d-aed3d1c82798"
      },
      "execution_count": null,
      "outputs": [
        {
          "output_type": "execute_result",
          "data": {
            "text/plain": [
              "12       407587\n",
              "11       209071\n",
              "10       150871\n",
              "9         66662\n",
              "8.1.0      9249\n",
              "8.0.0      8016\n",
              "7.0        4057\n",
              "7.1.2      1811\n",
              "7.1.1      1342\n",
              "5.0.2       709\n",
              "6.0.1       704\n",
              "Name: os_version, dtype: int64"
            ]
          },
          "metadata": {},
          "execution_count": 59
        }
      ]
    },
    {
      "cell_type": "markdown",
      "source": [
        "Создадим сводную таблицу по версиям ОС"
      ],
      "metadata": {
        "id": "kHaHFdtTKFnf"
      }
    },
    {
      "cell_type": "code",
      "source": [
        "version = df.groupby('os_version')['revenue'].agg(['mean', 'sum', 'count']).reset_index()\n",
        "version.columns = ['os_version', 'eCPM', 'revenue', 'count']\n",
        "version['eCPM'] = version['eCPM'] * 1000"
      ],
      "metadata": {
        "id": "sfCa1MzU9coK"
      },
      "execution_count": null,
      "outputs": []
    },
    {
      "cell_type": "markdown",
      "source": [
        "Отсортируем таблицу по номеру версии. Для этого переведем строку номера в версии в целочисленному значению"
      ],
      "metadata": {
        "id": "QaYtVZzoL09P"
      }
    },
    {
      "cell_type": "code",
      "source": [
        "# функция преобразования версии ОС к числу \n",
        "def vers_to_int(x):\n",
        "    if x.count('.') == 0:\n",
        "        x += '.0.0'\n",
        "    elif x.count('.') == 1:\n",
        "        x += '.0'  \n",
        "    return int(''.join(x.split('.')))"
      ],
      "metadata": {
        "id": "pBkQXPFo9cde"
      },
      "execution_count": null,
      "outputs": []
    },
    {
      "cell_type": "code",
      "source": [
        "# применим функцию vers_to_int к колонке os_version\n",
        "version['int_vers'] = version['os_version'].apply(vers_to_int) \n",
        "\n",
        "# отсортируем таблицу и удалим ненужную колонку\n",
        "version = version.sort_values('int_vers').reset_index()\n",
        "version = version.drop(['int_vers', 'index'], axis=1)"
      ],
      "metadata": {
        "id": "2FyOnQoGFYhC"
      },
      "execution_count": null,
      "outputs": []
    },
    {
      "cell_type": "code",
      "source": [
        "version"
      ],
      "metadata": {
        "colab": {
          "base_uri": "https://localhost:8080/",
          "height": 390
        },
        "id": "8aVH2l5lLJF5",
        "outputId": "299d31f3-6019-4e9a-b1fa-61fcaa7daeb2"
      },
      "execution_count": null,
      "outputs": [
        {
          "output_type": "execute_result",
          "data": {
            "text/plain": [
              "   os_version      eCPM      revenue   count\n",
              "0       5.0.2  0.696093     0.493530     709\n",
              "1       6.0.1  1.112602     0.783272     704\n",
              "2         7.0  2.699284    10.950994    4057\n",
              "3       7.1.1  1.210562     1.624575    1342\n",
              "4       7.1.2  0.601710     1.089698    1811\n",
              "5       8.0.0  1.483535    11.892016    8016\n",
              "6       8.1.0  1.058170     9.787017    9249\n",
              "7           9  1.996728   133.105867   66662\n",
              "8          10  2.175819   328.267931  150871\n",
              "9          11  2.808734   587.224814  209071\n",
              "10         12  3.203191  1305.578948  407587"
            ],
            "text/html": [
              "\n",
              "  <div id=\"df-46af6872-de54-4030-8ce4-5067765479ab\">\n",
              "    <div class=\"colab-df-container\">\n",
              "      <div>\n",
              "<style scoped>\n",
              "    .dataframe tbody tr th:only-of-type {\n",
              "        vertical-align: middle;\n",
              "    }\n",
              "\n",
              "    .dataframe tbody tr th {\n",
              "        vertical-align: top;\n",
              "    }\n",
              "\n",
              "    .dataframe thead th {\n",
              "        text-align: right;\n",
              "    }\n",
              "</style>\n",
              "<table border=\"1\" class=\"dataframe\">\n",
              "  <thead>\n",
              "    <tr style=\"text-align: right;\">\n",
              "      <th></th>\n",
              "      <th>os_version</th>\n",
              "      <th>eCPM</th>\n",
              "      <th>revenue</th>\n",
              "      <th>count</th>\n",
              "    </tr>\n",
              "  </thead>\n",
              "  <tbody>\n",
              "    <tr>\n",
              "      <th>0</th>\n",
              "      <td>5.0.2</td>\n",
              "      <td>0.696093</td>\n",
              "      <td>0.493530</td>\n",
              "      <td>709</td>\n",
              "    </tr>\n",
              "    <tr>\n",
              "      <th>1</th>\n",
              "      <td>6.0.1</td>\n",
              "      <td>1.112602</td>\n",
              "      <td>0.783272</td>\n",
              "      <td>704</td>\n",
              "    </tr>\n",
              "    <tr>\n",
              "      <th>2</th>\n",
              "      <td>7.0</td>\n",
              "      <td>2.699284</td>\n",
              "      <td>10.950994</td>\n",
              "      <td>4057</td>\n",
              "    </tr>\n",
              "    <tr>\n",
              "      <th>3</th>\n",
              "      <td>7.1.1</td>\n",
              "      <td>1.210562</td>\n",
              "      <td>1.624575</td>\n",
              "      <td>1342</td>\n",
              "    </tr>\n",
              "    <tr>\n",
              "      <th>4</th>\n",
              "      <td>7.1.2</td>\n",
              "      <td>0.601710</td>\n",
              "      <td>1.089698</td>\n",
              "      <td>1811</td>\n",
              "    </tr>\n",
              "    <tr>\n",
              "      <th>5</th>\n",
              "      <td>8.0.0</td>\n",
              "      <td>1.483535</td>\n",
              "      <td>11.892016</td>\n",
              "      <td>8016</td>\n",
              "    </tr>\n",
              "    <tr>\n",
              "      <th>6</th>\n",
              "      <td>8.1.0</td>\n",
              "      <td>1.058170</td>\n",
              "      <td>9.787017</td>\n",
              "      <td>9249</td>\n",
              "    </tr>\n",
              "    <tr>\n",
              "      <th>7</th>\n",
              "      <td>9</td>\n",
              "      <td>1.996728</td>\n",
              "      <td>133.105867</td>\n",
              "      <td>66662</td>\n",
              "    </tr>\n",
              "    <tr>\n",
              "      <th>8</th>\n",
              "      <td>10</td>\n",
              "      <td>2.175819</td>\n",
              "      <td>328.267931</td>\n",
              "      <td>150871</td>\n",
              "    </tr>\n",
              "    <tr>\n",
              "      <th>9</th>\n",
              "      <td>11</td>\n",
              "      <td>2.808734</td>\n",
              "      <td>587.224814</td>\n",
              "      <td>209071</td>\n",
              "    </tr>\n",
              "    <tr>\n",
              "      <th>10</th>\n",
              "      <td>12</td>\n",
              "      <td>3.203191</td>\n",
              "      <td>1305.578948</td>\n",
              "      <td>407587</td>\n",
              "    </tr>\n",
              "  </tbody>\n",
              "</table>\n",
              "</div>\n",
              "      <button class=\"colab-df-convert\" onclick=\"convertToInteractive('df-46af6872-de54-4030-8ce4-5067765479ab')\"\n",
              "              title=\"Convert this dataframe to an interactive table.\"\n",
              "              style=\"display:none;\">\n",
              "        \n",
              "  <svg xmlns=\"http://www.w3.org/2000/svg\" height=\"24px\"viewBox=\"0 0 24 24\"\n",
              "       width=\"24px\">\n",
              "    <path d=\"M0 0h24v24H0V0z\" fill=\"none\"/>\n",
              "    <path d=\"M18.56 5.44l.94 2.06.94-2.06 2.06-.94-2.06-.94-.94-2.06-.94 2.06-2.06.94zm-11 1L8.5 8.5l.94-2.06 2.06-.94-2.06-.94L8.5 2.5l-.94 2.06-2.06.94zm10 10l.94 2.06.94-2.06 2.06-.94-2.06-.94-.94-2.06-.94 2.06-2.06.94z\"/><path d=\"M17.41 7.96l-1.37-1.37c-.4-.4-.92-.59-1.43-.59-.52 0-1.04.2-1.43.59L10.3 9.45l-7.72 7.72c-.78.78-.78 2.05 0 2.83L4 21.41c.39.39.9.59 1.41.59.51 0 1.02-.2 1.41-.59l7.78-7.78 2.81-2.81c.8-.78.8-2.07 0-2.86zM5.41 20L4 18.59l7.72-7.72 1.47 1.35L5.41 20z\"/>\n",
              "  </svg>\n",
              "      </button>\n",
              "      \n",
              "  <style>\n",
              "    .colab-df-container {\n",
              "      display:flex;\n",
              "      flex-wrap:wrap;\n",
              "      gap: 12px;\n",
              "    }\n",
              "\n",
              "    .colab-df-convert {\n",
              "      background-color: #E8F0FE;\n",
              "      border: none;\n",
              "      border-radius: 50%;\n",
              "      cursor: pointer;\n",
              "      display: none;\n",
              "      fill: #1967D2;\n",
              "      height: 32px;\n",
              "      padding: 0 0 0 0;\n",
              "      width: 32px;\n",
              "    }\n",
              "\n",
              "    .colab-df-convert:hover {\n",
              "      background-color: #E2EBFA;\n",
              "      box-shadow: 0px 1px 2px rgba(60, 64, 67, 0.3), 0px 1px 3px 1px rgba(60, 64, 67, 0.15);\n",
              "      fill: #174EA6;\n",
              "    }\n",
              "\n",
              "    [theme=dark] .colab-df-convert {\n",
              "      background-color: #3B4455;\n",
              "      fill: #D2E3FC;\n",
              "    }\n",
              "\n",
              "    [theme=dark] .colab-df-convert:hover {\n",
              "      background-color: #434B5C;\n",
              "      box-shadow: 0px 1px 3px 1px rgba(0, 0, 0, 0.15);\n",
              "      filter: drop-shadow(0px 1px 2px rgba(0, 0, 0, 0.3));\n",
              "      fill: #FFFFFF;\n",
              "    }\n",
              "  </style>\n",
              "\n",
              "      <script>\n",
              "        const buttonEl =\n",
              "          document.querySelector('#df-46af6872-de54-4030-8ce4-5067765479ab button.colab-df-convert');\n",
              "        buttonEl.style.display =\n",
              "          google.colab.kernel.accessAllowed ? 'block' : 'none';\n",
              "\n",
              "        async function convertToInteractive(key) {\n",
              "          const element = document.querySelector('#df-46af6872-de54-4030-8ce4-5067765479ab');\n",
              "          const dataTable =\n",
              "            await google.colab.kernel.invokeFunction('convertToInteractive',\n",
              "                                                     [key], {});\n",
              "          if (!dataTable) return;\n",
              "\n",
              "          const docLinkHtml = 'Like what you see? Visit the ' +\n",
              "            '<a target=\"_blank\" href=https://colab.research.google.com/notebooks/data_table.ipynb>data table notebook</a>'\n",
              "            + ' to learn more about interactive tables.';\n",
              "          element.innerHTML = '';\n",
              "          dataTable['output_type'] = 'display_data';\n",
              "          await google.colab.output.renderOutput(dataTable, element);\n",
              "          const docLink = document.createElement('div');\n",
              "          docLink.innerHTML = docLinkHtml;\n",
              "          element.appendChild(docLink);\n",
              "        }\n",
              "      </script>\n",
              "    </div>\n",
              "  </div>\n",
              "  "
            ]
          },
          "metadata": {},
          "execution_count": 63
        }
      ]
    },
    {
      "cell_type": "markdown",
      "source": [
        "Распределение eCPM по версиям ОС"
      ],
      "metadata": {
        "id": "LTETIPJqMqvu"
      }
    },
    {
      "cell_type": "code",
      "source": [
        "sns.barplot(data=version, x='os_version', y='eCPM')"
      ],
      "metadata": {
        "colab": {
          "base_uri": "https://localhost:8080/",
          "height": 467
        },
        "id": "KbJJtUqeFCuY",
        "outputId": "93f6d5f7-ca6e-4c5f-8ad9-75c7df3a7923"
      },
      "execution_count": null,
      "outputs": [
        {
          "output_type": "execute_result",
          "data": {
            "text/plain": [
              "<matplotlib.axes._subplots.AxesSubplot at 0x7f2323853650>"
            ]
          },
          "metadata": {},
          "execution_count": 64
        },
        {
          "output_type": "display_data",
          "data": {
            "text/plain": [
              "<Figure size 936x504 with 1 Axes>"
            ],
            "image/png": "[encoded data removed]"
          },
          "metadata": {}
        }
      ]
    },
    {
      "cell_type": "markdown",
      "source": [
        "Заметен общий тренд увелечения eCPM от старых версии к новым. Исключением является 7-ая версия андроида, которая имеет сравнительно высокое значение eCPM.\n",
        "\n",
        "Также выбиваются из тренда минорные обновления 7.1.2 и 8.1.0, значения которых ниже предыдущих."
      ],
      "metadata": {
        "id": "MM2BoFmFNDvN"
      }
    },
    {
      "cell_type": "markdown",
      "source": [
        "Распределение дохода по версиям ОС"
      ],
      "metadata": {
        "id": "cSzST8PsN7cN"
      }
    },
    {
      "cell_type": "code",
      "source": [
        "sns.barplot(data=version, x='os_version', y='revenue')"
      ],
      "metadata": {
        "colab": {
          "base_uri": "https://localhost:8080/",
          "height": 467
        },
        "id": "FFCOmCjgQFjD",
        "outputId": "117914aa-b67e-48c9-c8ef-462a274bdfb3"
      },
      "execution_count": null,
      "outputs": [
        {
          "output_type": "execute_result",
          "data": {
            "text/plain": [
              "<matplotlib.axes._subplots.AxesSubplot at 0x7f23237b8c10>"
            ]
          },
          "metadata": {},
          "execution_count": 65
        },
        {
          "output_type": "display_data",
          "data": {
            "text/plain": [
              "<Figure size 936x504 with 1 Axes>"
            ],
            "image/png": "[encoded data removed]"
          },
          "metadata": {}
        }
      ]
    },
    {
      "cell_type": "markdown",
      "source": [
        "Уровень дохода растет от старых версий к новым, что просто связанно с большим количеством новых версий ОС."
      ],
      "metadata": {
        "id": "A_Q4S5RHOJ10"
      }
    },
    {
      "cell_type": "markdown",
      "source": [
        "Создадим сводную таблицу по версии ОС и формату показа"
      ],
      "metadata": {
        "id": "tKuxtFPPPJ2O"
      }
    },
    {
      "cell_type": "code",
      "source": [
        "version_ad = df.groupby(['os_version', 'ad_type'])['revenue'].agg(['mean', 'sum', 'count']).reset_index()\n",
        "version_ad.columns = ['os_version', 'ad_type', 'eCPM', 'revenue', 'count']\n",
        "version_ad['eCPM'] = version_ad['eCPM'] * 1000"
      ],
      "metadata": {
        "id": "g0ZzwCIN9cSq"
      },
      "execution_count": null,
      "outputs": []
    },
    {
      "cell_type": "markdown",
      "source": [
        "Таким же образом отсортируем таблицу по версии"
      ],
      "metadata": {
        "id": "JpStzvbsQTUF"
      }
    },
    {
      "cell_type": "code",
      "source": [
        "version_ad['int_vers'] = version_ad['os_version'].apply(vers_to_int)\n",
        "version_ad = version_ad.sort_values(['ad_type', 'int_vers']).reset_index()\n",
        "version_ad = version_ad.drop(['int_vers', 'index'], axis=1)"
      ],
      "metadata": {
        "id": "y4q45jQ09cI1"
      },
      "execution_count": null,
      "outputs": []
    },
    {
      "cell_type": "code",
      "source": [
        "version_ad"
      ],
      "metadata": {
        "colab": {
          "base_uri": "https://localhost:8080/",
          "height": 1000
        },
        "id": "KI_rDDwpQxaM",
        "outputId": "1e9fc8bf-e3c5-4d27-b2f6-c80100e9dccc"
      },
      "execution_count": null,
      "outputs": [
        {
          "output_type": "execute_result",
          "data": {
            "text/plain": [
              "   os_version ad_type       eCPM     revenue   count\n",
              "0       5.0.2  banner   0.198288    0.135827     685\n",
              "1       6.0.1  banner   0.254481    0.166939     656\n",
              "2         7.0  banner   0.278132    1.065803    3832\n",
              "3       7.1.1  banner   0.236141    0.300135    1271\n",
              "4       7.1.2  banner   0.144868    0.252216    1741\n",
              "5       8.0.0  banner   0.368201    2.804952    7618\n",
              "6       8.1.0  banner   0.320697    2.847789    8880\n",
              "7           9  banner   0.549553   34.820249   63361\n",
              "8          10  banner   0.591274   85.002788  143762\n",
              "9          11  banner   0.592766  116.298348  196196\n",
              "10         12  banner   0.936871  363.488994  387982\n",
              "11      5.0.2     int  14.969333    0.329325      22\n",
              "12      6.0.1     int  13.172003    0.579568      44\n",
              "13        7.0     int  39.266162    7.813966     199\n",
              "14      7.1.1     int  18.232767    1.203363      66\n",
              "15      7.1.2     int  11.964031    0.837482      70\n",
              "16      8.0.0     int  20.030134    6.770185     338\n",
              "17      8.1.0     int  17.694561    6.016151     340\n",
              "18          9     int  27.004733   78.475755    2906\n",
              "19         10     int  31.216643  191.795052    6144\n",
              "20         11     int  33.468471  363.634932   10865\n",
              "21         12     int  42.391070  704.497187   16619\n",
              "22      5.0.2      rv  14.188713    0.028377       2\n",
              "23      6.0.1      rv   9.191038    0.036764       4\n",
              "24        7.0      rv  79.662468    2.071224      26\n",
              "25      7.1.1      rv  24.215299    0.121076       5\n",
              "26      8.0.0      rv  38.614653    2.316879      60\n",
              "27      8.1.0      rv  31.830249    0.923077      29\n",
              "28          9      rv  50.151552   19.809863     395\n",
              "29         10      rv  53.336882   51.470091     965\n",
              "30         11      rv  53.378872  107.291533    2010\n",
              "31         12      rv  79.568911  237.592767    2986"
            ],
            "text/html": [
              "\n",
              "  <div id=\"df-ed25136a-db49-4c92-aa2a-1286f9b1b47c\">\n",
              "    <div class=\"colab-df-container\">\n",
              "      <div>\n",
              "<style scoped>\n",
              "    .dataframe tbody tr th:only-of-type {\n",
              "        vertical-align: middle;\n",
              "    }\n",
              "\n",
              "    .dataframe tbody tr th {\n",
              "        vertical-align: top;\n",
              "    }\n",
              "\n",
              "    .dataframe thead th {\n",
              "        text-align: right;\n",
              "    }\n",
              "</style>\n",
              "<table border=\"1\" class=\"dataframe\">\n",
              "  <thead>\n",
              "    <tr style=\"text-align: right;\">\n",
              "      <th></th>\n",
              "      <th>os_version</th>\n",
              "      <th>ad_type</th>\n",
              "      <th>eCPM</th>\n",
              "      <th>revenue</th>\n",
              "      <th>count</th>\n",
              "    </tr>\n",
              "  </thead>\n",
              "  <tbody>\n",
              "    <tr>\n",
              "      <th>0</th>\n",
              "      <td>5.0.2</td>\n",
              "      <td>banner</td>\n",
              "      <td>0.198288</td>\n",
              "      <td>0.135827</td>\n",
              "      <td>685</td>\n",
              "    </tr>\n",
              "    <tr>\n",
              "      <th>1</th>\n",
              "      <td>6.0.1</td>\n",
              "      <td>banner</td>\n",
              "      <td>0.254481</td>\n",
              "      <td>0.166939</td>\n",
              "      <td>656</td>\n",
              "    </tr>\n",
              "    <tr>\n",
              "      <th>2</th>\n",
              "      <td>7.0</td>\n",
              "      <td>banner</td>\n",
              "      <td>0.278132</td>\n",
              "      <td>1.065803</td>\n",
              "      <td>3832</td>\n",
              "    </tr>\n",
              "    <tr>\n",
              "      <th>3</th>\n",
              "      <td>7.1.1</td>\n",
              "      <td>banner</td>\n",
              "      <td>0.236141</td>\n",
              "      <td>0.300135</td>\n",
              "      <td>1271</td>\n",
              "    </tr>\n",
              "    <tr>\n",
              "      <th>4</th>\n",
              "      <td>7.1.2</td>\n",
              "      <td>banner</td>\n",
              "      <td>0.144868</td>\n",
              "      <td>0.252216</td>\n",
              "      <td>1741</td>\n",
              "    </tr>\n",
              "    <tr>\n",
              "      <th>5</th>\n",
              "      <td>8.0.0</td>\n",
              "      <td>banner</td>\n",
              "      <td>0.368201</td>\n",
              "      <td>2.804952</td>\n",
              "      <td>7618</td>\n",
              "    </tr>\n",
              "    <tr>\n",
              "      <th>6</th>\n",
              "      <td>8.1.0</td>\n",
              "      <td>banner</td>\n",
              "      <td>0.320697</td>\n",
              "      <td>2.847789</td>\n",
              "      <td>8880</td>\n",
              "    </tr>\n",
              "    <tr>\n",
              "      <th>7</th>\n",
              "      <td>9</td>\n",
              "      <td>banner</td>\n",
              "      <td>0.549553</td>\n",
              "      <td>34.820249</td>\n",
              "      <td>63361</td>\n",
              "    </tr>\n",
              "    <tr>\n",
              "      <th>8</th>\n",
              "      <td>10</td>\n",
              "      <td>banner</td>\n",
              "      <td>0.591274</td>\n",
              "      <td>85.002788</td>\n",
              "      <td>143762</td>\n",
              "    </tr>\n",
              "    <tr>\n",
              "      <th>9</th>\n",
              "      <td>11</td>\n",
              "      <td>banner</td>\n",
              "      <td>0.592766</td>\n",
              "      <td>116.298348</td>\n",
              "      <td>196196</td>\n",
              "    </tr>\n",
              "    <tr>\n",
              "      <th>10</th>\n",
              "      <td>12</td>\n",
              "      <td>banner</td>\n",
              "      <td>0.936871</td>\n",
              "      <td>363.488994</td>\n",
              "      <td>387982</td>\n",
              "    </tr>\n",
              "    <tr>\n",
              "      <th>11</th>\n",
              "      <td>5.0.2</td>\n",
              "      <td>int</td>\n",
              "      <td>14.969333</td>\n",
              "      <td>0.329325</td>\n",
              "      <td>22</td>\n",
              "    </tr>\n",
              "    <tr>\n",
              "      <th>12</th>\n",
              "      <td>6.0.1</td>\n",
              "      <td>int</td>\n",
              "      <td>13.172003</td>\n",
              "      <td>0.579568</td>\n",
              "      <td>44</td>\n",
              "    </tr>\n",
              "    <tr>\n",
              "      <th>13</th>\n",
              "      <td>7.0</td>\n",
              "      <td>int</td>\n",
              "      <td>39.266162</td>\n",
              "      <td>7.813966</td>\n",
              "      <td>199</td>\n",
              "    </tr>\n",
              "    <tr>\n",
              "      <th>14</th>\n",
              "      <td>7.1.1</td>\n",
              "      <td>int</td>\n",
              "      <td>18.232767</td>\n",
              "      <td>1.203363</td>\n",
              "      <td>66</td>\n",
              "    </tr>\n",
              "    <tr>\n",
              "      <th>15</th>\n",
              "      <td>7.1.2</td>\n",
              "      <td>int</td>\n",
              "      <td>11.964031</td>\n",
              "      <td>0.837482</td>\n",
              "      <td>70</td>\n",
              "    </tr>\n",
              "    <tr>\n",
              "      <th>16</th>\n",
              "      <td>8.0.0</td>\n",
              "      <td>int</td>\n",
              "      <td>20.030134</td>\n",
              "      <td>6.770185</td>\n",
              "      <td>338</td>\n",
              "    </tr>\n",
              "    <tr>\n",
              "      <th>17</th>\n",
              "      <td>8.1.0</td>\n",
              "      <td>int</td>\n",
              "      <td>17.694561</td>\n",
              "      <td>6.016151</td>\n",
              "      <td>340</td>\n",
              "    </tr>\n",
              "    <tr>\n",
              "      <th>18</th>\n",
              "      <td>9</td>\n",
              "      <td>int</td>\n",
              "      <td>27.004733</td>\n",
              "      <td>78.475755</td>\n",
              "      <td>2906</td>\n",
              "    </tr>\n",
              "    <tr>\n",
              "      <th>19</th>\n",
              "      <td>10</td>\n",
              "      <td>int</td>\n",
              "      <td>31.216643</td>\n",
              "      <td>191.795052</td>\n",
              "      <td>6144</td>\n",
              "    </tr>\n",
              "    <tr>\n",
              "      <th>20</th>\n",
              "      <td>11</td>\n",
              "      <td>int</td>\n",
              "      <td>33.468471</td>\n",
              "      <td>363.634932</td>\n",
              "      <td>10865</td>\n",
              "    </tr>\n",
              "    <tr>\n",
              "      <th>21</th>\n",
              "      <td>12</td>\n",
              "      <td>int</td>\n",
              "      <td>42.391070</td>\n",
              "      <td>704.497187</td>\n",
              "      <td>16619</td>\n",
              "    </tr>\n",
              "    <tr>\n",
              "      <th>22</th>\n",
              "      <td>5.0.2</td>\n",
              "      <td>rv</td>\n",
              "      <td>14.188713</td>\n",
              "      <td>0.028377</td>\n",
              "      <td>2</td>\n",
              "    </tr>\n",
              "    <tr>\n",
              "      <th>23</th>\n",
              "      <td>6.0.1</td>\n",
              "      <td>rv</td>\n",
              "      <td>9.191038</td>\n",
              "      <td>0.036764</td>\n",
              "      <td>4</td>\n",
              "    </tr>\n",
              "    <tr>\n",
              "      <th>24</th>\n",
              "      <td>7.0</td>\n",
              "      <td>rv</td>\n",
              "      <td>79.662468</td>\n",
              "      <td>2.071224</td>\n",
              "      <td>26</td>\n",
              "    </tr>\n",
              "    <tr>\n",
              "      <th>25</th>\n",
              "      <td>7.1.1</td>\n",
              "      <td>rv</td>\n",
              "      <td>24.215299</td>\n",
              "      <td>0.121076</td>\n",
              "      <td>5</td>\n",
              "    </tr>\n",
              "    <tr>\n",
              "      <th>26</th>\n",
              "      <td>8.0.0</td>\n",
              "      <td>rv</td>\n",
              "      <td>38.614653</td>\n",
              "      <td>2.316879</td>\n",
              "      <td>60</td>\n",
              "    </tr>\n",
              "    <tr>\n",
              "      <th>27</th>\n",
              "      <td>8.1.0</td>\n",
              "      <td>rv</td>\n",
              "      <td>31.830249</td>\n",
              "      <td>0.923077</td>\n",
              "      <td>29</td>\n",
              "    </tr>\n",
              "    <tr>\n",
              "      <th>28</th>\n",
              "      <td>9</td>\n",
              "      <td>rv</td>\n",
              "      <td>50.151552</td>\n",
              "      <td>19.809863</td>\n",
              "      <td>395</td>\n",
              "    </tr>\n",
              "    <tr>\n",
              "      <th>29</th>\n",
              "      <td>10</td>\n",
              "      <td>rv</td>\n",
              "      <td>53.336882</td>\n",
              "      <td>51.470091</td>\n",
              "      <td>965</td>\n",
              "    </tr>\n",
              "    <tr>\n",
              "      <th>30</th>\n",
              "      <td>11</td>\n",
              "      <td>rv</td>\n",
              "      <td>53.378872</td>\n",
              "      <td>107.291533</td>\n",
              "      <td>2010</td>\n",
              "    </tr>\n",
              "    <tr>\n",
              "      <th>31</th>\n",
              "      <td>12</td>\n",
              "      <td>rv</td>\n",
              "      <td>79.568911</td>\n",
              "      <td>237.592767</td>\n",
              "      <td>2986</td>\n",
              "    </tr>\n",
              "  </tbody>\n",
              "</table>\n",
              "</div>\n",
              "      <button class=\"colab-df-convert\" onclick=\"convertToInteractive('df-ed25136a-db49-4c92-aa2a-1286f9b1b47c')\"\n",
              "              title=\"Convert this dataframe to an interactive table.\"\n",
              "              style=\"display:none;\">\n",
              "        \n",
              "  <svg xmlns=\"http://www.w3.org/2000/svg\" height=\"24px\"viewBox=\"0 0 24 24\"\n",
              "       width=\"24px\">\n",
              "    <path d=\"M0 0h24v24H0V0z\" fill=\"none\"/>\n",
              "    <path d=\"M18.56 5.44l.94 2.06.94-2.06 2.06-.94-2.06-.94-.94-2.06-.94 2.06-2.06.94zm-11 1L8.5 8.5l.94-2.06 2.06-.94-2.06-.94L8.5 2.5l-.94 2.06-2.06.94zm10 10l.94 2.06.94-2.06 2.06-.94-2.06-.94-.94-2.06-.94 2.06-2.06.94z\"/><path d=\"M17.41 7.96l-1.37-1.37c-.4-.4-.92-.59-1.43-.59-.52 0-1.04.2-1.43.59L10.3 9.45l-7.72 7.72c-.78.78-.78 2.05 0 2.83L4 21.41c.39.39.9.59 1.41.59.51 0 1.02-.2 1.41-.59l7.78-7.78 2.81-2.81c.8-.78.8-2.07 0-2.86zM5.41 20L4 18.59l7.72-7.72 1.47 1.35L5.41 20z\"/>\n",
              "  </svg>\n",
              "      </button>\n",
              "      \n",
              "  <style>\n",
              "    .colab-df-container {\n",
              "      display:flex;\n",
              "      flex-wrap:wrap;\n",
              "      gap: 12px;\n",
              "    }\n",
              "\n",
              "    .colab-df-convert {\n",
              "      background-color: #E8F0FE;\n",
              "      border: none;\n",
              "      border-radius: 50%;\n",
              "      cursor: pointer;\n",
              "      display: none;\n",
              "      fill: #1967D2;\n",
              "      height: 32px;\n",
              "      padding: 0 0 0 0;\n",
              "      width: 32px;\n",
              "    }\n",
              "\n",
              "    .colab-df-convert:hover {\n",
              "      background-color: #E2EBFA;\n",
              "      box-shadow: 0px 1px 2px rgba(60, 64, 67, 0.3), 0px 1px 3px 1px rgba(60, 64, 67, 0.15);\n",
              "      fill: #174EA6;\n",
              "    }\n",
              "\n",
              "    [theme=dark] .colab-df-convert {\n",
              "      background-color: #3B4455;\n",
              "      fill: #D2E3FC;\n",
              "    }\n",
              "\n",
              "    [theme=dark] .colab-df-convert:hover {\n",
              "      background-color: #434B5C;\n",
              "      box-shadow: 0px 1px 3px 1px rgba(0, 0, 0, 0.15);\n",
              "      filter: drop-shadow(0px 1px 2px rgba(0, 0, 0, 0.3));\n",
              "      fill: #FFFFFF;\n",
              "    }\n",
              "  </style>\n",
              "\n",
              "      <script>\n",
              "        const buttonEl =\n",
              "          document.querySelector('#df-ed25136a-db49-4c92-aa2a-1286f9b1b47c button.colab-df-convert');\n",
              "        buttonEl.style.display =\n",
              "          google.colab.kernel.accessAllowed ? 'block' : 'none';\n",
              "\n",
              "        async function convertToInteractive(key) {\n",
              "          const element = document.querySelector('#df-ed25136a-db49-4c92-aa2a-1286f9b1b47c');\n",
              "          const dataTable =\n",
              "            await google.colab.kernel.invokeFunction('convertToInteractive',\n",
              "                                                     [key], {});\n",
              "          if (!dataTable) return;\n",
              "\n",
              "          const docLinkHtml = 'Like what you see? Visit the ' +\n",
              "            '<a target=\"_blank\" href=https://colab.research.google.com/notebooks/data_table.ipynb>data table notebook</a>'\n",
              "            + ' to learn more about interactive tables.';\n",
              "          element.innerHTML = '';\n",
              "          dataTable['output_type'] = 'display_data';\n",
              "          await google.colab.output.renderOutput(dataTable, element);\n",
              "          const docLink = document.createElement('div');\n",
              "          docLink.innerHTML = docLinkHtml;\n",
              "          element.appendChild(docLink);\n",
              "        }\n",
              "      </script>\n",
              "    </div>\n",
              "  </div>\n",
              "  "
            ]
          },
          "metadata": {},
          "execution_count": 68
        }
      ]
    },
    {
      "cell_type": "markdown",
      "source": [
        "Распределение eCPM версий ОС по формату показа"
      ],
      "metadata": {
        "id": "4kWWJKx7QfkT"
      }
    },
    {
      "cell_type": "code",
      "source": [
        "fig, ax = plt.subplots(nrows=3, ncols=1, figsize=(15,12))\n",
        "\n",
        "sns.barplot(data=version_ad[version_ad['ad_type']=='banner'], x='os_version', y='eCPM', ax=ax[0], color='r')\n",
        "ax[0].set_ylabel('banner')\n",
        "\n",
        "sns.barplot(data=version_ad[version_ad['ad_type']=='int'], x='os_version', y='eCPM', ax=ax[1], color='b')\n",
        "ax[1].set_ylabel('int')\n",
        "\n",
        "sns.barplot(data=version_ad[version_ad['ad_type']=='rv'], x='os_version', y='eCPM', ax=ax[2], color='g')\n",
        "ax[2].set_ylabel('rv')"
      ],
      "metadata": {
        "colab": {
          "base_uri": "https://localhost:8080/",
          "height": 739
        },
        "id": "WKLn7AF_MmGv",
        "outputId": "78f9105f-a058-441f-b1e5-bf2b174b9b40"
      },
      "execution_count": null,
      "outputs": [
        {
          "output_type": "execute_result",
          "data": {
            "text/plain": [
              "Text(0, 0.5, 'rv')"
            ]
          },
          "metadata": {},
          "execution_count": 69
        },
        {
          "output_type": "display_data",
          "data": {
            "text/plain": [
              "<Figure size 1080x864 with 3 Axes>"
            ],
            "image/png": "[encoded data removed]"
          },
          "metadata": {}
        }
      ]
    },
    {
      "cell_type": "markdown",
      "source": [
        "Для каждого формата характерен восходящий тренд, также заметно небольшое снижение для минорных версий 7.1.2 и 8.1.0.\n",
        "\n",
        "Для полноэкранной рекламы и видео 7 версия имеет высокие значения eCPM, сравнимые с последней версией."
      ],
      "metadata": {
        "id": "XS0X2oocR8nN"
      }
    },
    {
      "cell_type": "markdown",
      "source": [
        "Распределение дохода по версиям и форматам"
      ],
      "metadata": {
        "id": "dWi79Qm2WACs"
      }
    },
    {
      "cell_type": "code",
      "source": [
        "fig, ax = plt.subplots(nrows=3, ncols=1, figsize=(15,12))\n",
        "\n",
        "sns.barplot(data=version_ad[version_ad['ad_type']=='banner'], x='os_version', y='revenue', ax=ax[0], color='r')\n",
        "ax[0].set_ylabel('banner')\n",
        "\n",
        "sns.barplot(data=version_ad[version_ad['ad_type']=='int'], x='os_version', y='revenue', ax=ax[1], color='b')\n",
        "ax[1].set_ylabel('int')\n",
        "\n",
        "sns.barplot(data=version_ad[version_ad['ad_type']=='rv'], x='os_version', y='revenue', ax=ax[2], color='g')\n",
        "ax[2].set_ylabel('rv')"
      ],
      "metadata": {
        "colab": {
          "base_uri": "https://localhost:8080/",
          "height": 739
        },
        "id": "4hWgs100QWb2",
        "outputId": "638fa0e0-eb52-4d0a-fd94-746216690b5a"
      },
      "execution_count": null,
      "outputs": [
        {
          "output_type": "execute_result",
          "data": {
            "text/plain": [
              "Text(0, 0.5, 'rv')"
            ]
          },
          "metadata": {},
          "execution_count": 70
        },
        {
          "output_type": "display_data",
          "data": {
            "text/plain": [
              "<Figure size 1080x864 with 3 Axes>"
            ],
            "image/png": "[encoded data removed]"
          },
          "metadata": {}
        }
      ]
    },
    {
      "cell_type": "markdown",
      "source": [
        "Доход увеличивается с увеличением распространнености версии"
      ],
      "metadata": {
        "id": "hJW9aUIiWkTM"
      }
    },
    {
      "cell_type": "markdown",
      "source": [
        "### Процент доходов, содержащий информацию о городе пользователя"
      ],
      "metadata": {
        "id": "ohubiY9fZ8zy"
      }
    },
    {
      "cell_type": "markdown",
      "source": [
        "Отношение суммы доходов наблюдений, где значение в графе city не NA к сумме всех доходов"
      ],
      "metadata": {
        "id": "Vs2R_Turapt0"
      }
    },
    {
      "cell_type": "code",
      "source": [
        "df[df['city'].notna()]['revenue'].sum() / df['revenue'].sum() * 100"
      ],
      "metadata": {
        "colab": {
          "base_uri": "https://localhost:8080/"
        },
        "id": "Mm_NRYFJLqI3",
        "outputId": "24b92444-b3bd-498f-9057-4c81f6bf5707"
      },
      "execution_count": null,
      "outputs": [
        {
          "output_type": "execute_result",
          "data": {
            "text/plain": [
              "63.575098236945436"
            ]
          },
          "metadata": {},
          "execution_count": 71
        }
      ]
    },
    {
      "cell_type": "markdown",
      "source": [
        "63.58%"
      ],
      "metadata": {
        "id": "8VOz12AgbK_3"
      }
    },
    {
      "cell_type": "markdown",
      "source": [
        "### Зависимость eCPM от времени дня"
      ],
      "metadata": {
        "id": "nHDojEyVbjIU"
      }
    },
    {
      "cell_type": "markdown",
      "source": [
        "Экстрагируем время дня из даты"
      ],
      "metadata": {
        "id": "sDa1xSmPcdwi"
      }
    },
    {
      "cell_type": "code",
      "source": [
        "df['hour'] = pd.to_datetime(df['event_datetime'], format='%Y-%m-%d %H:%M:%S').dt.hour"
      ],
      "metadata": {
        "id": "6NMvpZWKz_zN"
      },
      "execution_count": null,
      "outputs": []
    },
    {
      "cell_type": "markdown",
      "source": [
        "Создадим сводную таблицу по времени дня"
      ],
      "metadata": {
        "id": "k1tnh410dCaG"
      }
    },
    {
      "cell_type": "code",
      "source": [
        "hours = df.groupby('hour')['revenue'].agg(['mean', 'count']).reset_index()\n",
        "hours.columns = ['hour', 'eCPM', 'count']\n",
        "hours['eCPM'] = hours['eCPM'] * 1000\n",
        "hours"
      ],
      "metadata": {
        "colab": {
          "base_uri": "https://localhost:8080/",
          "height": 793
        },
        "id": "ojV13yd50FuB",
        "outputId": "9d64a77d-6deb-44cc-ba15-b279473f0755"
      },
      "execution_count": null,
      "outputs": [
        {
          "output_type": "execute_result",
          "data": {
            "text/plain": [
              "    hour      eCPM  count\n",
              "0      0  2.675560  43993\n",
              "1      1  2.758656  46412\n",
              "2      2  2.708332  48694\n",
              "3      3  2.718954  55162\n",
              "4      4  2.648077  58064\n",
              "5      5  2.942329  61690\n",
              "6      6  2.930231  56951\n",
              "7      7  2.675508  53810\n",
              "8      8  3.048182  38959\n",
              "9      9  3.173506  29465\n",
              "10    10  2.431129  21785\n",
              "11    11  2.750190  14436\n",
              "12    12  2.759900  10904\n",
              "13    13  3.017668   8886\n",
              "14    14  2.764139   9996\n",
              "15    15  2.441121  13811\n",
              "16    16  2.966535  19504\n",
              "17    17  3.232273  29519\n",
              "18    18  3.088187  33097\n",
              "19    19  2.905579  37759\n",
              "20    20  2.496635  40772\n",
              "21    21  2.663852  39486\n",
              "22    22  2.529223  42111\n",
              "23    23  2.571077  44813"
            ],
            "text/html": [
              "\n",
              "  <div id=\"df-3daa298c-7b35-4d34-97a8-2f1e25a703b6\">\n",
              "    <div class=\"colab-df-container\">\n",
              "      <div>\n",
              "<style scoped>\n",
              "    .dataframe tbody tr th:only-of-type {\n",
              "        vertical-align: middle;\n",
              "    }\n",
              "\n",
              "    .dataframe tbody tr th {\n",
              "        vertical-align: top;\n",
              "    }\n",
              "\n",
              "    .dataframe thead th {\n",
              "        text-align: right;\n",
              "    }\n",
              "</style>\n",
              "<table border=\"1\" class=\"dataframe\">\n",
              "  <thead>\n",
              "    <tr style=\"text-align: right;\">\n",
              "      <th></th>\n",
              "      <th>hour</th>\n",
              "      <th>eCPM</th>\n",
              "      <th>count</th>\n",
              "    </tr>\n",
              "  </thead>\n",
              "  <tbody>\n",
              "    <tr>\n",
              "      <th>0</th>\n",
              "      <td>0</td>\n",
              "      <td>2.675560</td>\n",
              "      <td>43993</td>\n",
              "    </tr>\n",
              "    <tr>\n",
              "      <th>1</th>\n",
              "      <td>1</td>\n",
              "      <td>2.758656</td>\n",
              "      <td>46412</td>\n",
              "    </tr>\n",
              "    <tr>\n",
              "      <th>2</th>\n",
              "      <td>2</td>\n",
              "      <td>2.708332</td>\n",
              "      <td>48694</td>\n",
              "    </tr>\n",
              "    <tr>\n",
              "      <th>3</th>\n",
              "      <td>3</td>\n",
              "      <td>2.718954</td>\n",
              "      <td>55162</td>\n",
              "    </tr>\n",
              "    <tr>\n",
              "      <th>4</th>\n",
              "      <td>4</td>\n",
              "      <td>2.648077</td>\n",
              "      <td>58064</td>\n",
              "    </tr>\n",
              "    <tr>\n",
              "      <th>5</th>\n",
              "      <td>5</td>\n",
              "      <td>2.942329</td>\n",
              "      <td>61690</td>\n",
              "    </tr>\n",
              "    <tr>\n",
              "      <th>6</th>\n",
              "      <td>6</td>\n",
              "      <td>2.930231</td>\n",
              "      <td>56951</td>\n",
              "    </tr>\n",
              "    <tr>\n",
              "      <th>7</th>\n",
              "      <td>7</td>\n",
              "      <td>2.675508</td>\n",
              "      <td>53810</td>\n",
              "    </tr>\n",
              "    <tr>\n",
              "      <th>8</th>\n",
              "      <td>8</td>\n",
              "      <td>3.048182</td>\n",
              "      <td>38959</td>\n",
              "    </tr>\n",
              "    <tr>\n",
              "      <th>9</th>\n",
              "      <td>9</td>\n",
              "      <td>3.173506</td>\n",
              "      <td>29465</td>\n",
              "    </tr>\n",
              "    <tr>\n",
              "      <th>10</th>\n",
              "      <td>10</td>\n",
              "      <td>2.431129</td>\n",
              "      <td>21785</td>\n",
              "    </tr>\n",
              "    <tr>\n",
              "      <th>11</th>\n",
              "      <td>11</td>\n",
              "      <td>2.750190</td>\n",
              "      <td>14436</td>\n",
              "    </tr>\n",
              "    <tr>\n",
              "      <th>12</th>\n",
              "      <td>12</td>\n",
              "      <td>2.759900</td>\n",
              "      <td>10904</td>\n",
              "    </tr>\n",
              "    <tr>\n",
              "      <th>13</th>\n",
              "      <td>13</td>\n",
              "      <td>3.017668</td>\n",
              "      <td>8886</td>\n",
              "    </tr>\n",
              "    <tr>\n",
              "      <th>14</th>\n",
              "      <td>14</td>\n",
              "      <td>2.764139</td>\n",
              "      <td>9996</td>\n",
              "    </tr>\n",
              "    <tr>\n",
              "      <th>15</th>\n",
              "      <td>15</td>\n",
              "      <td>2.441121</td>\n",
              "      <td>13811</td>\n",
              "    </tr>\n",
              "    <tr>\n",
              "      <th>16</th>\n",
              "      <td>16</td>\n",
              "      <td>2.966535</td>\n",
              "      <td>19504</td>\n",
              "    </tr>\n",
              "    <tr>\n",
              "      <th>17</th>\n",
              "      <td>17</td>\n",
              "      <td>3.232273</td>\n",
              "      <td>29519</td>\n",
              "    </tr>\n",
              "    <tr>\n",
              "      <th>18</th>\n",
              "      <td>18</td>\n",
              "      <td>3.088187</td>\n",
              "      <td>33097</td>\n",
              "    </tr>\n",
              "    <tr>\n",
              "      <th>19</th>\n",
              "      <td>19</td>\n",
              "      <td>2.905579</td>\n",
              "      <td>37759</td>\n",
              "    </tr>\n",
              "    <tr>\n",
              "      <th>20</th>\n",
              "      <td>20</td>\n",
              "      <td>2.496635</td>\n",
              "      <td>40772</td>\n",
              "    </tr>\n",
              "    <tr>\n",
              "      <th>21</th>\n",
              "      <td>21</td>\n",
              "      <td>2.663852</td>\n",
              "      <td>39486</td>\n",
              "    </tr>\n",
              "    <tr>\n",
              "      <th>22</th>\n",
              "      <td>22</td>\n",
              "      <td>2.529223</td>\n",
              "      <td>42111</td>\n",
              "    </tr>\n",
              "    <tr>\n",
              "      <th>23</th>\n",
              "      <td>23</td>\n",
              "      <td>2.571077</td>\n",
              "      <td>44813</td>\n",
              "    </tr>\n",
              "  </tbody>\n",
              "</table>\n",
              "</div>\n",
              "      <button class=\"colab-df-convert\" onclick=\"convertToInteractive('df-3daa298c-7b35-4d34-97a8-2f1e25a703b6')\"\n",
              "              title=\"Convert this dataframe to an interactive table.\"\n",
              "              style=\"display:none;\">\n",
              "        \n",
              "  <svg xmlns=\"http://www.w3.org/2000/svg\" height=\"24px\"viewBox=\"0 0 24 24\"\n",
              "       width=\"24px\">\n",
              "    <path d=\"M0 0h24v24H0V0z\" fill=\"none\"/>\n",
              "    <path d=\"M18.56 5.44l.94 2.06.94-2.06 2.06-.94-2.06-.94-.94-2.06-.94 2.06-2.06.94zm-11 1L8.5 8.5l.94-2.06 2.06-.94-2.06-.94L8.5 2.5l-.94 2.06-2.06.94zm10 10l.94 2.06.94-2.06 2.06-.94-2.06-.94-.94-2.06-.94 2.06-2.06.94z\"/><path d=\"M17.41 7.96l-1.37-1.37c-.4-.4-.92-.59-1.43-.59-.52 0-1.04.2-1.43.59L10.3 9.45l-7.72 7.72c-.78.78-.78 2.05 0 2.83L4 21.41c.39.39.9.59 1.41.59.51 0 1.02-.2 1.41-.59l7.78-7.78 2.81-2.81c.8-.78.8-2.07 0-2.86zM5.41 20L4 18.59l7.72-7.72 1.47 1.35L5.41 20z\"/>\n",
              "  </svg>\n",
              "      </button>\n",
              "      \n",
              "  <style>\n",
              "    .colab-df-container {\n",
              "      display:flex;\n",
              "      flex-wrap:wrap;\n",
              "      gap: 12px;\n",
              "    }\n",
              "\n",
              "    .colab-df-convert {\n",
              "      background-color: #E8F0FE;\n",
              "      border: none;\n",
              "      border-radius: 50%;\n",
              "      cursor: pointer;\n",
              "      display: none;\n",
              "      fill: #1967D2;\n",
              "      height: 32px;\n",
              "      padding: 0 0 0 0;\n",
              "      width: 32px;\n",
              "    }\n",
              "\n",
              "    .colab-df-convert:hover {\n",
              "      background-color: #E2EBFA;\n",
              "      box-shadow: 0px 1px 2px rgba(60, 64, 67, 0.3), 0px 1px 3px 1px rgba(60, 64, 67, 0.15);\n",
              "      fill: #174EA6;\n",
              "    }\n",
              "\n",
              "    [theme=dark] .colab-df-convert {\n",
              "      background-color: #3B4455;\n",
              "      fill: #D2E3FC;\n",
              "    }\n",
              "\n",
              "    [theme=dark] .colab-df-convert:hover {\n",
              "      background-color: #434B5C;\n",
              "      box-shadow: 0px 1px 3px 1px rgba(0, 0, 0, 0.15);\n",
              "      filter: drop-shadow(0px 1px 2px rgba(0, 0, 0, 0.3));\n",
              "      fill: #FFFFFF;\n",
              "    }\n",
              "  </style>\n",
              "\n",
              "      <script>\n",
              "        const buttonEl =\n",
              "          document.querySelector('#df-3daa298c-7b35-4d34-97a8-2f1e25a703b6 button.colab-df-convert');\n",
              "        buttonEl.style.display =\n",
              "          google.colab.kernel.accessAllowed ? 'block' : 'none';\n",
              "\n",
              "        async function convertToInteractive(key) {\n",
              "          const element = document.querySelector('#df-3daa298c-7b35-4d34-97a8-2f1e25a703b6');\n",
              "          const dataTable =\n",
              "            await google.colab.kernel.invokeFunction('convertToInteractive',\n",
              "                                                     [key], {});\n",
              "          if (!dataTable) return;\n",
              "\n",
              "          const docLinkHtml = 'Like what you see? Visit the ' +\n",
              "            '<a target=\"_blank\" href=https://colab.research.google.com/notebooks/data_table.ipynb>data table notebook</a>'\n",
              "            + ' to learn more about interactive tables.';\n",
              "          element.innerHTML = '';\n",
              "          dataTable['output_type'] = 'display_data';\n",
              "          await google.colab.output.renderOutput(dataTable, element);\n",
              "          const docLink = document.createElement('div');\n",
              "          docLink.innerHTML = docLinkHtml;\n",
              "          element.appendChild(docLink);\n",
              "        }\n",
              "      </script>\n",
              "    </div>\n",
              "  </div>\n",
              "  "
            ]
          },
          "metadata": {},
          "execution_count": 73
        }
      ]
    },
    {
      "cell_type": "markdown",
      "source": [
        "Зависимость eCPM от времени дня"
      ],
      "metadata": {
        "id": "7XQCeD3BddHN"
      }
    },
    {
      "cell_type": "code",
      "source": [
        "sns.barplot(x=\"hour\", y=\"revenue\", data=df, estimator=np.mean, capsize=.2)"
      ],
      "metadata": {
        "colab": {
          "base_uri": "https://localhost:8080/",
          "height": 467
        },
        "id": "CPsmIq59dc8f",
        "outputId": "6c076f4e-06fa-4452-9c72-df2c8e860a29"
      },
      "execution_count": null,
      "outputs": [
        {
          "output_type": "execute_result",
          "data": {
            "text/plain": [
              "<matplotlib.axes._subplots.AxesSubplot at 0x7f2323932c10>"
            ]
          },
          "metadata": {},
          "execution_count": 74
        },
        {
          "output_type": "display_data",
          "data": {
            "text/plain": [
              "<Figure size 936x504 with 1 Axes>"
            ],
            "image/png": "[encoded data removed]"
          },
          "metadata": {}
        }
      ]
    },
    {
      "cell_type": "markdown",
      "source": [
        "Зависимость дохода от времени дня"
      ],
      "metadata": {
        "id": "SYPNmF5MdwdA"
      }
    },
    {
      "cell_type": "code",
      "source": [
        "sns.barplot(x=\"hour\", y=\"revenue\", data=df, estimator=np.sum, capsize=.2)"
      ],
      "metadata": {
        "colab": {
          "base_uri": "https://localhost:8080/",
          "height": 467
        },
        "id": "f6RQYmnjd3jK",
        "outputId": "7368bafa-ce73-4c3b-e2b9-9721f94b793d"
      },
      "execution_count": null,
      "outputs": [
        {
          "output_type": "execute_result",
          "data": {
            "text/plain": [
              "<matplotlib.axes._subplots.AxesSubplot at 0x7f232397ed10>"
            ]
          },
          "metadata": {},
          "execution_count": 75
        },
        {
          "output_type": "display_data",
          "data": {
            "text/plain": [
              "<Figure size 936x504 with 1 Axes>"
            ],
            "image/png": "[encoded data removed]"
          },
          "metadata": {}
        }
      ]
    },
    {
      "cell_type": "markdown",
      "source": [
        "Зависимость показов от времени дня"
      ],
      "metadata": {
        "id": "h10LfahGd0VP"
      }
    },
    {
      "cell_type": "code",
      "source": [
        "sns.barplot(x=\"hour\", y=\"revenue\", data=df, estimator=len)"
      ],
      "metadata": {
        "colab": {
          "base_uri": "https://localhost:8080/",
          "height": 467
        },
        "id": "sRPaCfIu2q34",
        "outputId": "cd1ca696-a074-4791-e0c9-0f5ab4e7c04c"
      },
      "execution_count": null,
      "outputs": [
        {
          "output_type": "execute_result",
          "data": {
            "text/plain": [
              "<matplotlib.axes._subplots.AxesSubplot at 0x7f23239a8510>"
            ]
          },
          "metadata": {},
          "execution_count": 76
        },
        {
          "output_type": "display_data",
          "data": {
            "text/plain": [
              "<Figure size 936x504 with 1 Axes>"
            ],
            "image/png": "[encoded data removed]"
          },
          "metadata": {}
        }
      ]
    },
    {
      "cell_type": "markdown",
      "source": [
        "На графике видно, что eCPM слабо зависит от времени дня.\n",
        "\n",
        "Доход и количество показов, наоборот, имеет дневной цикл.\n",
        "\n",
        "Также заметно, что время в датасете смещенно относительно реального времени."
      ],
      "metadata": {
        "id": "xXXO-mLLeNur"
      }
    },
    {
      "cell_type": "markdown",
      "source": [
        "### Зависимость eCPM от номера показа и номера сессии показа"
      ],
      "metadata": {
        "id": "nJ2WCC79fudv"
      }
    },
    {
      "cell_type": "markdown",
      "source": [
        "Номера показов и номера сессий есть только для полноэкранной и видео рекламы"
      ],
      "metadata": {
        "id": "eDBX_-vUsCVB"
      }
    },
    {
      "cell_type": "code",
      "source": [
        "view_index = df.groupby(['view_index', 'ad_type'])['revenue'].agg(['mean', 'count']).reset_index()\n",
        "view_index.columns = ['view_index', 'ad_type', 'eCPM', 'count']\n",
        "view_index['eCPM'] = view_index['eCPM'] * 1000\n",
        "\n",
        "view_index"
      ],
      "metadata": {
        "colab": {
          "base_uri": "https://localhost:8080/",
          "height": 419
        },
        "id": "XAApvAiRr6jm",
        "outputId": "2a8a5eb6-c6f0-4b4f-c632-8dcd0f20970a"
      },
      "execution_count": null,
      "outputs": [
        {
          "output_type": "execute_result",
          "data": {
            "text/plain": [
              "     view_index ad_type       eCPM   count\n",
              "0             1  banner   0.744113  815984\n",
              "1             1     int  54.696931    3755\n",
              "2             1      rv  88.630520    1233\n",
              "3             2     int  50.816001    2857\n",
              "4             2      rv  84.675208     740\n",
              "..          ...     ...        ...     ...\n",
              "606         413     int  23.706346       1\n",
              "607         414     int  23.706346       1\n",
              "608         415     int  23.706346       1\n",
              "609         416     int  23.706346       1\n",
              "610         417     int  23.706346       1\n",
              "\n",
              "[611 rows x 4 columns]"
            ],
            "text/html": [
              "\n",
              "  <div id=\"df-7afb86fa-85f2-456b-a6fd-89c66c4e94fd\">\n",
              "    <div class=\"colab-df-container\">\n",
              "      <div>\n",
              "<style scoped>\n",
              "    .dataframe tbody tr th:only-of-type {\n",
              "        vertical-align: middle;\n",
              "    }\n",
              "\n",
              "    .dataframe tbody tr th {\n",
              "        vertical-align: top;\n",
              "    }\n",
              "\n",
              "    .dataframe thead th {\n",
              "        text-align: right;\n",
              "    }\n",
              "</style>\n",
              "<table border=\"1\" class=\"dataframe\">\n",
              "  <thead>\n",
              "    <tr style=\"text-align: right;\">\n",
              "      <th></th>\n",
              "      <th>view_index</th>\n",
              "      <th>ad_type</th>\n",
              "      <th>eCPM</th>\n",
              "      <th>count</th>\n",
              "    </tr>\n",
              "  </thead>\n",
              "  <tbody>\n",
              "    <tr>\n",
              "      <th>0</th>\n",
              "      <td>1</td>\n",
              "      <td>banner</td>\n",
              "      <td>0.744113</td>\n",
              "      <td>815984</td>\n",
              "    </tr>\n",
              "    <tr>\n",
              "      <th>1</th>\n",
              "      <td>1</td>\n",
              "      <td>int</td>\n",
              "      <td>54.696931</td>\n",
              "      <td>3755</td>\n",
              "    </tr>\n",
              "    <tr>\n",
              "      <th>2</th>\n",
              "      <td>1</td>\n",
              "      <td>rv</td>\n",
              "      <td>88.630520</td>\n",
              "      <td>1233</td>\n",
              "    </tr>\n",
              "    <tr>\n",
              "      <th>3</th>\n",
              "      <td>2</td>\n",
              "      <td>int</td>\n",
              "      <td>50.816001</td>\n",
              "      <td>2857</td>\n",
              "    </tr>\n",
              "    <tr>\n",
              "      <th>4</th>\n",
              "      <td>2</td>\n",
              "      <td>rv</td>\n",
              "      <td>84.675208</td>\n",
              "      <td>740</td>\n",
              "    </tr>\n",
              "    <tr>\n",
              "      <th>...</th>\n",
              "      <td>...</td>\n",
              "      <td>...</td>\n",
              "      <td>...</td>\n",
              "      <td>...</td>\n",
              "    </tr>\n",
              "    <tr>\n",
              "      <th>606</th>\n",
              "      <td>413</td>\n",
              "      <td>int</td>\n",
              "      <td>23.706346</td>\n",
              "      <td>1</td>\n",
              "    </tr>\n",
              "    <tr>\n",
              "      <th>607</th>\n",
              "      <td>414</td>\n",
              "      <td>int</td>\n",
              "      <td>23.706346</td>\n",
              "      <td>1</td>\n",
              "    </tr>\n",
              "    <tr>\n",
              "      <th>608</th>\n",
              "      <td>415</td>\n",
              "      <td>int</td>\n",
              "      <td>23.706346</td>\n",
              "      <td>1</td>\n",
              "    </tr>\n",
              "    <tr>\n",
              "      <th>609</th>\n",
              "      <td>416</td>\n",
              "      <td>int</td>\n",
              "      <td>23.706346</td>\n",
              "      <td>1</td>\n",
              "    </tr>\n",
              "    <tr>\n",
              "      <th>610</th>\n",
              "      <td>417</td>\n",
              "      <td>int</td>\n",
              "      <td>23.706346</td>\n",
              "      <td>1</td>\n",
              "    </tr>\n",
              "  </tbody>\n",
              "</table>\n",
              "<p>611 rows × 4 columns</p>\n",
              "</div>\n",
              "      <button class=\"colab-df-convert\" onclick=\"convertToInteractive('df-7afb86fa-85f2-456b-a6fd-89c66c4e94fd')\"\n",
              "              title=\"Convert this dataframe to an interactive table.\"\n",
              "              style=\"display:none;\">\n",
              "        \n",
              "  <svg xmlns=\"http://www.w3.org/2000/svg\" height=\"24px\"viewBox=\"0 0 24 24\"\n",
              "       width=\"24px\">\n",
              "    <path d=\"M0 0h24v24H0V0z\" fill=\"none\"/>\n",
              "    <path d=\"M18.56 5.44l.94 2.06.94-2.06 2.06-.94-2.06-.94-.94-2.06-.94 2.06-2.06.94zm-11 1L8.5 8.5l.94-2.06 2.06-.94-2.06-.94L8.5 2.5l-.94 2.06-2.06.94zm10 10l.94 2.06.94-2.06 2.06-.94-2.06-.94-.94-2.06-.94 2.06-2.06.94z\"/><path d=\"M17.41 7.96l-1.37-1.37c-.4-.4-.92-.59-1.43-.59-.52 0-1.04.2-1.43.59L10.3 9.45l-7.72 7.72c-.78.78-.78 2.05 0 2.83L4 21.41c.39.39.9.59 1.41.59.51 0 1.02-.2 1.41-.59l7.78-7.78 2.81-2.81c.8-.78.8-2.07 0-2.86zM5.41 20L4 18.59l7.72-7.72 1.47 1.35L5.41 20z\"/>\n",
              "  </svg>\n",
              "      </button>\n",
              "      \n",
              "  <style>\n",
              "    .colab-df-container {\n",
              "      display:flex;\n",
              "      flex-wrap:wrap;\n",
              "      gap: 12px;\n",
              "    }\n",
              "\n",
              "    .colab-df-convert {\n",
              "      background-color: #E8F0FE;\n",
              "      border: none;\n",
              "      border-radius: 50%;\n",
              "      cursor: pointer;\n",
              "      display: none;\n",
              "      fill: #1967D2;\n",
              "      height: 32px;\n",
              "      padding: 0 0 0 0;\n",
              "      width: 32px;\n",
              "    }\n",
              "\n",
              "    .colab-df-convert:hover {\n",
              "      background-color: #E2EBFA;\n",
              "      box-shadow: 0px 1px 2px rgba(60, 64, 67, 0.3), 0px 1px 3px 1px rgba(60, 64, 67, 0.15);\n",
              "      fill: #174EA6;\n",
              "    }\n",
              "\n",
              "    [theme=dark] .colab-df-convert {\n",
              "      background-color: #3B4455;\n",
              "      fill: #D2E3FC;\n",
              "    }\n",
              "\n",
              "    [theme=dark] .colab-df-convert:hover {\n",
              "      background-color: #434B5C;\n",
              "      box-shadow: 0px 1px 3px 1px rgba(0, 0, 0, 0.15);\n",
              "      filter: drop-shadow(0px 1px 2px rgba(0, 0, 0, 0.3));\n",
              "      fill: #FFFFFF;\n",
              "    }\n",
              "  </style>\n",
              "\n",
              "      <script>\n",
              "        const buttonEl =\n",
              "          document.querySelector('#df-7afb86fa-85f2-456b-a6fd-89c66c4e94fd button.colab-df-convert');\n",
              "        buttonEl.style.display =\n",
              "          google.colab.kernel.accessAllowed ? 'block' : 'none';\n",
              "\n",
              "        async function convertToInteractive(key) {\n",
              "          const element = document.querySelector('#df-7afb86fa-85f2-456b-a6fd-89c66c4e94fd');\n",
              "          const dataTable =\n",
              "            await google.colab.kernel.invokeFunction('convertToInteractive',\n",
              "                                                     [key], {});\n",
              "          if (!dataTable) return;\n",
              "\n",
              "          const docLinkHtml = 'Like what you see? Visit the ' +\n",
              "            '<a target=\"_blank\" href=https://colab.research.google.com/notebooks/data_table.ipynb>data table notebook</a>'\n",
              "            + ' to learn more about interactive tables.';\n",
              "          element.innerHTML = '';\n",
              "          dataTable['output_type'] = 'display_data';\n",
              "          await google.colab.output.renderOutput(dataTable, element);\n",
              "          const docLink = document.createElement('div');\n",
              "          docLink.innerHTML = docLinkHtml;\n",
              "          element.appendChild(docLink);\n",
              "        }\n",
              "      </script>\n",
              "    </div>\n",
              "  </div>\n",
              "  "
            ]
          },
          "metadata": {},
          "execution_count": 77
        }
      ]
    },
    {
      "cell_type": "markdown",
      "source": [
        "Зависимость eCPM от номера показа для полноэкранной рекламы"
      ],
      "metadata": {
        "id": "GZvjaBPt1tVV"
      }
    },
    {
      "cell_type": "code",
      "source": [
        "fig, ax = plt.subplots(nrows=2, ncols=1, figsize=(15,8), sharex=True)\n",
        "\n",
        "sns.lineplot(data=view_index[view_index['ad_type']=='int'], x='view_index', y='eCPM', ax=ax[0])\n",
        "sns.lineplot(data=view_index[view_index['ad_type']=='int'], x='view_index', y='count', ax=ax[1])"
      ],
      "metadata": {
        "colab": {
          "base_uri": "https://localhost:8080/",
          "height": 521
        },
        "id": "NZ8KPo1hsxBH",
        "outputId": "ba80671b-2c9b-4881-ea8d-08e2cc3b5dba"
      },
      "execution_count": null,
      "outputs": [
        {
          "output_type": "execute_result",
          "data": {
            "text/plain": [
              "<matplotlib.axes._subplots.AxesSubplot at 0x7f2323a6fb90>"
            ]
          },
          "metadata": {},
          "execution_count": 78
        },
        {
          "output_type": "display_data",
          "data": {
            "text/plain": [
              "<Figure size 1080x576 with 2 Axes>"
            ],
            "image/png": "[encoded data removed]"
          },
          "metadata": {}
        }
      ]
    },
    {
      "cell_type": "markdown",
      "source": [
        "Зависимость eCPM от номера показа для видео рекламы"
      ],
      "metadata": {
        "id": "g2zHStmT14jH"
      }
    },
    {
      "cell_type": "code",
      "source": [
        "fig, ax = plt.subplots(nrows=2, ncols=1, figsize=(15,8), sharex=True)\n",
        "\n",
        "sns.lineplot(data=view_index[view_index['ad_type']=='rv'], x='view_index', y='eCPM', ax=ax[0])\n",
        "sns.lineplot(data=view_index[view_index['ad_type']=='rv'], x='view_index', y='count', ax=ax[1])"
      ],
      "metadata": {
        "colab": {
          "base_uri": "https://localhost:8080/",
          "height": 521
        },
        "id": "ecJamRX0swtj",
        "outputId": "b1b0e61d-684e-46bc-fc4e-d092c5d5c158"
      },
      "execution_count": null,
      "outputs": [
        {
          "output_type": "execute_result",
          "data": {
            "text/plain": [
              "<matplotlib.axes._subplots.AxesSubplot at 0x7f2323ac4890>"
            ]
          },
          "metadata": {},
          "execution_count": 79
        },
        {
          "output_type": "display_data",
          "data": {
            "text/plain": [
              "<Figure size 1080x576 with 2 Axes>"
            ],
            "image/png": "[encoded data removed]"
          },
          "metadata": {}
        }
      ]
    },
    {
      "cell_type": "markdown",
      "source": [
        "Виден тренд, что самый высокий eCPM у первых показов, затем значения eCPM снижаются и остаются на определенном уровне.\n",
        "\n",
        "Для малых значений числа показов, eCPM имеет сильные флуктуации"
      ],
      "metadata": {
        "id": "giBYXxjV2Nkl"
      }
    },
    {
      "cell_type": "markdown",
      "source": [
        "Построим сводную таблицу для номера сессии "
      ],
      "metadata": {
        "id": "1XJSsDrz3yw0"
      }
    },
    {
      "cell_type": "code",
      "source": [
        "session_view_index = df.groupby(['session_view_index', 'ad_type'])['revenue'].agg(['mean', 'count']).reset_index()\n",
        "\n",
        "session_view_index.columns = ['session_view_index', 'ad_type', 'eCPM', 'count']\n",
        "session_view_index['eCPM'] = session_view_index['eCPM'] * 1000\n",
        "\n",
        "session_view_index"
      ],
      "metadata": {
        "colab": {
          "base_uri": "https://localhost:8080/",
          "height": 419
        },
        "outputId": "d90f8dcb-4fae-45ea-b466-14706a56f8d8",
        "id": "Gve8AmBPrq1u"
      },
      "execution_count": null,
      "outputs": [
        {
          "output_type": "execute_result",
          "data": {
            "text/plain": [
              "     session_view_index ad_type       eCPM   count\n",
              "0                     0  banner   0.744113  815984\n",
              "1                     1     int  41.010982   10898\n",
              "2                     1      rv  75.667016    2659\n",
              "3                     2     int  40.412955    6797\n",
              "4                     2      rv  73.651554    1240\n",
              "..                  ...     ...        ...     ...\n",
              "128                  70     int   2.492381       1\n",
              "129                  71     int   1.814203       1\n",
              "130                  72     int   2.257461       1\n",
              "131                  73     int   1.121363       1\n",
              "132                  74     int   1.872761       1\n",
              "\n",
              "[133 rows x 4 columns]"
            ],
            "text/html": [
              "\n",
              "  <div id=\"df-2db7192e-f107-4b50-b04c-4f4f30e7eaca\">\n",
              "    <div class=\"colab-df-container\">\n",
              "      <div>\n",
              "<style scoped>\n",
              "    .dataframe tbody tr th:only-of-type {\n",
              "        vertical-align: middle;\n",
              "    }\n",
              "\n",
              "    .dataframe tbody tr th {\n",
              "        vertical-align: top;\n",
              "    }\n",
              "\n",
              "    .dataframe thead th {\n",
              "        text-align: right;\n",
              "    }\n",
              "</style>\n",
              "<table border=\"1\" class=\"dataframe\">\n",
              "  <thead>\n",
              "    <tr style=\"text-align: right;\">\n",
              "      <th></th>\n",
              "      <th>session_view_index</th>\n",
              "      <th>ad_type</th>\n",
              "      <th>eCPM</th>\n",
              "      <th>count</th>\n",
              "    </tr>\n",
              "  </thead>\n",
              "  <tbody>\n",
              "    <tr>\n",
              "      <th>0</th>\n",
              "      <td>0</td>\n",
              "      <td>banner</td>\n",
              "      <td>0.744113</td>\n",
              "      <td>815984</td>\n",
              "    </tr>\n",
              "    <tr>\n",
              "      <th>1</th>\n",
              "      <td>1</td>\n",
              "      <td>int</td>\n",
              "      <td>41.010982</td>\n",
              "      <td>10898</td>\n",
              "    </tr>\n",
              "    <tr>\n",
              "      <th>2</th>\n",
              "      <td>1</td>\n",
              "      <td>rv</td>\n",
              "      <td>75.667016</td>\n",
              "      <td>2659</td>\n",
              "    </tr>\n",
              "    <tr>\n",
              "      <th>3</th>\n",
              "      <td>2</td>\n",
              "      <td>int</td>\n",
              "      <td>40.412955</td>\n",
              "      <td>6797</td>\n",
              "    </tr>\n",
              "    <tr>\n",
              "      <th>4</th>\n",
              "      <td>2</td>\n",
              "      <td>rv</td>\n",
              "      <td>73.651554</td>\n",
              "      <td>1240</td>\n",
              "    </tr>\n",
              "    <tr>\n",
              "      <th>...</th>\n",
              "      <td>...</td>\n",
              "      <td>...</td>\n",
              "      <td>...</td>\n",
              "      <td>...</td>\n",
              "    </tr>\n",
              "    <tr>\n",
              "      <th>128</th>\n",
              "      <td>70</td>\n",
              "      <td>int</td>\n",
              "      <td>2.492381</td>\n",
              "      <td>1</td>\n",
              "    </tr>\n",
              "    <tr>\n",
              "      <th>129</th>\n",
              "      <td>71</td>\n",
              "      <td>int</td>\n",
              "      <td>1.814203</td>\n",
              "      <td>1</td>\n",
              "    </tr>\n",
              "    <tr>\n",
              "      <th>130</th>\n",
              "      <td>72</td>\n",
              "      <td>int</td>\n",
              "      <td>2.257461</td>\n",
              "      <td>1</td>\n",
              "    </tr>\n",
              "    <tr>\n",
              "      <th>131</th>\n",
              "      <td>73</td>\n",
              "      <td>int</td>\n",
              "      <td>1.121363</td>\n",
              "      <td>1</td>\n",
              "    </tr>\n",
              "    <tr>\n",
              "      <th>132</th>\n",
              "      <td>74</td>\n",
              "      <td>int</td>\n",
              "      <td>1.872761</td>\n",
              "      <td>1</td>\n",
              "    </tr>\n",
              "  </tbody>\n",
              "</table>\n",
              "<p>133 rows × 4 columns</p>\n",
              "</div>\n",
              "      <button class=\"colab-df-convert\" onclick=\"convertToInteractive('df-2db7192e-f107-4b50-b04c-4f4f30e7eaca')\"\n",
              "              title=\"Convert this dataframe to an interactive table.\"\n",
              "              style=\"display:none;\">\n",
              "        \n",
              "  <svg xmlns=\"http://www.w3.org/2000/svg\" height=\"24px\"viewBox=\"0 0 24 24\"\n",
              "       width=\"24px\">\n",
              "    <path d=\"M0 0h24v24H0V0z\" fill=\"none\"/>\n",
              "    <path d=\"M18.56 5.44l.94 2.06.94-2.06 2.06-.94-2.06-.94-.94-2.06-.94 2.06-2.06.94zm-11 1L8.5 8.5l.94-2.06 2.06-.94-2.06-.94L8.5 2.5l-.94 2.06-2.06.94zm10 10l.94 2.06.94-2.06 2.06-.94-2.06-.94-.94-2.06-.94 2.06-2.06.94z\"/><path d=\"M17.41 7.96l-1.37-1.37c-.4-.4-.92-.59-1.43-.59-.52 0-1.04.2-1.43.59L10.3 9.45l-7.72 7.72c-.78.78-.78 2.05 0 2.83L4 21.41c.39.39.9.59 1.41.59.51 0 1.02-.2 1.41-.59l7.78-7.78 2.81-2.81c.8-.78.8-2.07 0-2.86zM5.41 20L4 18.59l7.72-7.72 1.47 1.35L5.41 20z\"/>\n",
              "  </svg>\n",
              "      </button>\n",
              "      \n",
              "  <style>\n",
              "    .colab-df-container {\n",
              "      display:flex;\n",
              "      flex-wrap:wrap;\n",
              "      gap: 12px;\n",
              "    }\n",
              "\n",
              "    .colab-df-convert {\n",
              "      background-color: #E8F0FE;\n",
              "      border: none;\n",
              "      border-radius: 50%;\n",
              "      cursor: pointer;\n",
              "      display: none;\n",
              "      fill: #1967D2;\n",
              "      height: 32px;\n",
              "      padding: 0 0 0 0;\n",
              "      width: 32px;\n",
              "    }\n",
              "\n",
              "    .colab-df-convert:hover {\n",
              "      background-color: #E2EBFA;\n",
              "      box-shadow: 0px 1px 2px rgba(60, 64, 67, 0.3), 0px 1px 3px 1px rgba(60, 64, 67, 0.15);\n",
              "      fill: #174EA6;\n",
              "    }\n",
              "\n",
              "    [theme=dark] .colab-df-convert {\n",
              "      background-color: #3B4455;\n",
              "      fill: #D2E3FC;\n",
              "    }\n",
              "\n",
              "    [theme=dark] .colab-df-convert:hover {\n",
              "      background-color: #434B5C;\n",
              "      box-shadow: 0px 1px 3px 1px rgba(0, 0, 0, 0.15);\n",
              "      filter: drop-shadow(0px 1px 2px rgba(0, 0, 0, 0.3));\n",
              "      fill: #FFFFFF;\n",
              "    }\n",
              "  </style>\n",
              "\n",
              "      <script>\n",
              "        const buttonEl =\n",
              "          document.querySelector('#df-2db7192e-f107-4b50-b04c-4f4f30e7eaca button.colab-df-convert');\n",
              "        buttonEl.style.display =\n",
              "          google.colab.kernel.accessAllowed ? 'block' : 'none';\n",
              "\n",
              "        async function convertToInteractive(key) {\n",
              "          const element = document.querySelector('#df-2db7192e-f107-4b50-b04c-4f4f30e7eaca');\n",
              "          const dataTable =\n",
              "            await google.colab.kernel.invokeFunction('convertToInteractive',\n",
              "                                                     [key], {});\n",
              "          if (!dataTable) return;\n",
              "\n",
              "          const docLinkHtml = 'Like what you see? Visit the ' +\n",
              "            '<a target=\"_blank\" href=https://colab.research.google.com/notebooks/data_table.ipynb>data table notebook</a>'\n",
              "            + ' to learn more about interactive tables.';\n",
              "          element.innerHTML = '';\n",
              "          dataTable['output_type'] = 'display_data';\n",
              "          await google.colab.output.renderOutput(dataTable, element);\n",
              "          const docLink = document.createElement('div');\n",
              "          docLink.innerHTML = docLinkHtml;\n",
              "          element.appendChild(docLink);\n",
              "        }\n",
              "      </script>\n",
              "    </div>\n",
              "  </div>\n",
              "  "
            ]
          },
          "metadata": {},
          "execution_count": 80
        }
      ]
    },
    {
      "cell_type": "markdown",
      "source": [
        "Зависимость eCPM от номера сессии для полноэкранной рекламы"
      ],
      "metadata": {
        "id": "jJ-Cu7Ip4eRx"
      }
    },
    {
      "cell_type": "code",
      "source": [
        "fig, ax = plt.subplots(nrows=2, ncols=1, figsize=(15,8), sharex=True)\n",
        "\n",
        "sns.lineplot(data=session_view_index[session_view_index['ad_type']=='int'], x='session_view_index', y='eCPM', ax=ax[0])\n",
        "sns.lineplot(data=session_view_index[session_view_index['ad_type']=='int'], x='session_view_index', y='count', ax=ax[1])"
      ],
      "metadata": {
        "colab": {
          "base_uri": "https://localhost:8080/",
          "height": 521
        },
        "outputId": "d34b4cd2-923f-4e15-fa34-2c625056342f",
        "id": "Ue1kS7Pu3who"
      },
      "execution_count": null,
      "outputs": [
        {
          "output_type": "execute_result",
          "data": {
            "text/plain": [
              "<matplotlib.axes._subplots.AxesSubplot at 0x7f23238aac50>"
            ]
          },
          "metadata": {},
          "execution_count": 81
        },
        {
          "output_type": "display_data",
          "data": {
            "text/plain": [
              "<Figure size 1080x576 with 2 Axes>"
            ],
            "image/png": "[encoded data removed]"
          },
          "metadata": {}
        }
      ]
    },
    {
      "cell_type": "markdown",
      "source": [
        "Зависимость eCPM от номера сессии для видео рекламы"
      ],
      "metadata": {
        "id": "GVOuHp5h3whw"
      }
    },
    {
      "cell_type": "code",
      "source": [
        "fig, ax = plt.subplots(nrows=2, ncols=1, figsize=(15,8), sharex=True)\n",
        "\n",
        "sns.lineplot(data=session_view_index[session_view_index['ad_type']=='rv'], x='session_view_index', y='eCPM', ax=ax[0])\n",
        "sns.lineplot(data=session_view_index[session_view_index['ad_type']=='rv'], x='session_view_index', y='count', ax=ax[1])"
      ],
      "metadata": {
        "colab": {
          "base_uri": "https://localhost:8080/",
          "height": 521
        },
        "outputId": "eeb58cef-8d4c-4983-e7af-1d7fa56f30bf",
        "id": "IC3g02IN3whx"
      },
      "execution_count": null,
      "outputs": [
        {
          "output_type": "execute_result",
          "data": {
            "text/plain": [
              "<matplotlib.axes._subplots.AxesSubplot at 0x7f2323b04950>"
            ]
          },
          "metadata": {},
          "execution_count": 82
        },
        {
          "output_type": "display_data",
          "data": {
            "text/plain": [
              "<Figure size 1080x576 with 2 Axes>"
            ],
            "image/png": "[encoded data removed]"
          },
          "metadata": {}
        }
      ]
    },
    {
      "cell_type": "markdown",
      "source": [
        "На графиках видно, что с ростом сессий умеьшается значение eCPM"
      ],
      "metadata": {
        "id": "1tVwJojYrWKS"
      }
    },
    {
      "cell_type": "markdown",
      "source": [
        "### Влияние рекламной сети на eCPM"
      ],
      "metadata": {
        "id": "3WkL83IirV-O"
      }
    },
    {
      "cell_type": "code",
      "source": [
        "df.groupby(['ad_network_placement', 'ad_type', 'network_name'])['revenue'].agg(['mean', 'count']) \\\n",
        "            .reset_index().sort_values(['ad_type', 'mean'], ascending=[True, False])"
      ],
      "metadata": {
        "colab": {
          "base_uri": "https://localhost:8080/",
          "height": 948
        },
        "id": "pdNez3l9rVwt",
        "outputId": "6b475f5e-7a5c-49bc-c429-1275990fade6"
      },
      "execution_count": null,
      "outputs": [
        {
          "output_type": "execute_result",
          "data": {
            "text/plain": [
              "                      ad_network_placement ad_type       network_name  \\\n",
              "13  ca-app-pub-7511632782617496/6197324251  banner       Google AdMob   \n",
              "11  ca-app-pub-7511632782617496/4884242584  banner       Google AdMob   \n",
              "19  ca-app-pub-7511632782617496/8342047967  banner       Google AdMob   \n",
              "2          524377382067272_528134061691604  banner           Facebook   \n",
              "21  ca-app-pub-7511632782617496/8825263691  banner       Google AdMob   \n",
              "3                           banner_regular  banner  APPLOVIN_EXCHANGE   \n",
              "5   ca-app-pub-7511632782617496/1329917050  banner       Google AdMob   \n",
              "23  ca-app-pub-7511632782617496/9765475119     int       Google AdMob   \n",
              "16  ca-app-pub-7511632782617496/6833525175     int       Google AdMob   \n",
              "20  ca-app-pub-7511632782617496/8484360640     int       Google AdMob   \n",
              "8   ca-app-pub-7511632782617496/3824218458     int       Google AdMob   \n",
              "25                           inter_regular     int  APPLOVIN_EXCHANGE   \n",
              "26                           inter_regular     int           AppLovin   \n",
              "15  ca-app-pub-7511632782617496/6401956938     int       Google AdMob   \n",
              "0          524377382067272_528132981691712     int           Facebook   \n",
              "18  ca-app-pub-7511632782617496/7849758211     int       Google AdMob   \n",
              "24  ca-app-pub-7511632782617496/9814911735     int       Google AdMob   \n",
              "14  ca-app-pub-7511632782617496/6288931395     int       Google AdMob   \n",
              "17  ca-app-pub-7511632782617496/7233636966     int       Google AdMob   \n",
              "10  ca-app-pub-7511632782617496/4462189301      rv       Google AdMob   \n",
              "12  ca-app-pub-7511632782617496/5197009874      rv       Google AdMob   \n",
              "4   ca-app-pub-7511632782617496/1189815249      rv       Google AdMob   \n",
              "28                            inter_videoa      rv           AppLovin   \n",
              "27                            inter_videoa      rv  APPLOVIN_EXCHANGE   \n",
              "1          524377382067272_528133115025032      rv           Facebook   \n",
              "6   ca-app-pub-7511632782617496/2311325220      rv       Google AdMob   \n",
              "9   ca-app-pub-7511632782617496/4151521517      rv       Google AdMob   \n",
              "22  ca-app-pub-7511632782617496/9595419886      rv       Google AdMob   \n",
              "7   ca-app-pub-7511632782617496/3413154913      rv       Google AdMob   \n",
              "\n",
              "        mean   count  \n",
              "13  0.006981   30751  \n",
              "11  0.001967   86182  \n",
              "19  0.001467       3  \n",
              "2   0.000716   11152  \n",
              "21  0.000497  354497  \n",
              "3   0.000116  333365  \n",
              "5   0.000087      34  \n",
              "23  0.183301     973  \n",
              "16  0.130170     714  \n",
              "20  0.061721    1792  \n",
              "8   0.047307    1474  \n",
              "25  0.033922    4665  \n",
              "26  0.030750   18429  \n",
              "15  0.025220       1  \n",
              "0   0.023803    4012  \n",
              "18  0.021447    2632  \n",
              "24  0.011442    2919  \n",
              "14  0.007560       1  \n",
              "17  0.005540       1  \n",
              "10  0.211700     677  \n",
              "12  0.120000       1  \n",
              "4   0.080640     880  \n",
              "28  0.051974    2402  \n",
              "27  0.047382     397  \n",
              "1   0.032232     929  \n",
              "6   0.028241    1191  \n",
              "9   0.007560       2  \n",
              "22  0.005540       1  \n",
              "7   0.002820       2  "
            ],
            "text/html": [
              "\n",
              "  <div id=\"df-a0dbac1c-82f5-44db-bd5e-0e9565287d83\">\n",
              "    <div class=\"colab-df-container\">\n",
              "      <div>\n",
              "<style scoped>\n",
              "    .dataframe tbody tr th:only-of-type {\n",
              "        vertical-align: middle;\n",
              "    }\n",
              "\n",
              "    .dataframe tbody tr th {\n",
              "        vertical-align: top;\n",
              "    }\n",
              "\n",
              "    .dataframe thead th {\n",
              "        text-align: right;\n",
              "    }\n",
              "</style>\n",
              "<table border=\"1\" class=\"dataframe\">\n",
              "  <thead>\n",
              "    <tr style=\"text-align: right;\">\n",
              "      <th></th>\n",
              "      <th>ad_network_placement</th>\n",
              "      <th>ad_type</th>\n",
              "      <th>network_name</th>\n",
              "      <th>mean</th>\n",
              "      <th>count</th>\n",
              "    </tr>\n",
              "  </thead>\n",
              "  <tbody>\n",
              "    <tr>\n",
              "      <th>13</th>\n",
              "      <td>ca-app-pub-7511632782617496/6197324251</td>\n",
              "      <td>banner</td>\n",
              "      <td>Google AdMob</td>\n",
              "      <td>0.006981</td>\n",
              "      <td>30751</td>\n",
              "    </tr>\n",
              "    <tr>\n",
              "      <th>11</th>\n",
              "      <td>ca-app-pub-7511632782617496/4884242584</td>\n",
              "      <td>banner</td>\n",
              "      <td>Google AdMob</td>\n",
              "      <td>0.001967</td>\n",
              "      <td>86182</td>\n",
              "    </tr>\n",
              "    <tr>\n",
              "      <th>19</th>\n",
              "      <td>ca-app-pub-7511632782617496/8342047967</td>\n",
              "      <td>banner</td>\n",
              "      <td>Google AdMob</td>\n",
              "      <td>0.001467</td>\n",
              "      <td>3</td>\n",
              "    </tr>\n",
              "    <tr>\n",
              "      <th>2</th>\n",
              "      <td>524377382067272_528134061691604</td>\n",
              "      <td>banner</td>\n",
              "      <td>Facebook</td>\n",
              "      <td>0.000716</td>\n",
              "      <td>11152</td>\n",
              "    </tr>\n",
              "    <tr>\n",
              "      <th>21</th>\n",
              "      <td>ca-app-pub-7511632782617496/8825263691</td>\n",
              "      <td>banner</td>\n",
              "      <td>Google AdMob</td>\n",
              "      <td>0.000497</td>\n",
              "      <td>354497</td>\n",
              "    </tr>\n",
              "    <tr>\n",
              "      <th>3</th>\n",
              "      <td>banner_regular</td>\n",
              "      <td>banner</td>\n",
              "      <td>APPLOVIN_EXCHANGE</td>\n",
              "      <td>0.000116</td>\n",
              "      <td>333365</td>\n",
              "    </tr>\n",
              "    <tr>\n",
              "      <th>5</th>\n",
              "      <td>ca-app-pub-7511632782617496/1329917050</td>\n",
              "      <td>banner</td>\n",
              "      <td>Google AdMob</td>\n",
              "      <td>0.000087</td>\n",
              "      <td>34</td>\n",
              "    </tr>\n",
              "    <tr>\n",
              "      <th>23</th>\n",
              "      <td>ca-app-pub-7511632782617496/9765475119</td>\n",
              "      <td>int</td>\n",
              "      <td>Google AdMob</td>\n",
              "      <td>0.183301</td>\n",
              "      <td>973</td>\n",
              "    </tr>\n",
              "    <tr>\n",
              "      <th>16</th>\n",
              "      <td>ca-app-pub-7511632782617496/6833525175</td>\n",
              "      <td>int</td>\n",
              "      <td>Google AdMob</td>\n",
              "      <td>0.130170</td>\n",
              "      <td>714</td>\n",
              "    </tr>\n",
              "    <tr>\n",
              "      <th>20</th>\n",
              "      <td>ca-app-pub-7511632782617496/8484360640</td>\n",
              "      <td>int</td>\n",
              "      <td>Google AdMob</td>\n",
              "      <td>0.061721</td>\n",
              "      <td>1792</td>\n",
              "    </tr>\n",
              "    <tr>\n",
              "      <th>8</th>\n",
              "      <td>ca-app-pub-7511632782617496/3824218458</td>\n",
              "      <td>int</td>\n",
              "      <td>Google AdMob</td>\n",
              "      <td>0.047307</td>\n",
              "      <td>1474</td>\n",
              "    </tr>\n",
              "    <tr>\n",
              "      <th>25</th>\n",
              "      <td>inter_regular</td>\n",
              "      <td>int</td>\n",
              "      <td>APPLOVIN_EXCHANGE</td>\n",
              "      <td>0.033922</td>\n",
              "      <td>4665</td>\n",
              "    </tr>\n",
              "    <tr>\n",
              "      <th>26</th>\n",
              "      <td>inter_regular</td>\n",
              "      <td>int</td>\n",
              "      <td>AppLovin</td>\n",
              "      <td>0.030750</td>\n",
              "      <td>18429</td>\n",
              "    </tr>\n",
              "    <tr>\n",
              "      <th>15</th>\n",
              "      <td>ca-app-pub-7511632782617496/6401956938</td>\n",
              "      <td>int</td>\n",
              "      <td>Google AdMob</td>\n",
              "      <td>0.025220</td>\n",
              "      <td>1</td>\n",
              "    </tr>\n",
              "    <tr>\n",
              "      <th>0</th>\n",
              "      <td>524377382067272_528132981691712</td>\n",
              "      <td>int</td>\n",
              "      <td>Facebook</td>\n",
              "      <td>0.023803</td>\n",
              "      <td>4012</td>\n",
              "    </tr>\n",
              "    <tr>\n",
              "      <th>18</th>\n",
              "      <td>ca-app-pub-7511632782617496/7849758211</td>\n",
              "      <td>int</td>\n",
              "      <td>Google AdMob</td>\n",
              "      <td>0.021447</td>\n",
              "      <td>2632</td>\n",
              "    </tr>\n",
              "    <tr>\n",
              "      <th>24</th>\n",
              "      <td>ca-app-pub-7511632782617496/9814911735</td>\n",
              "      <td>int</td>\n",
              "      <td>Google AdMob</td>\n",
              "      <td>0.011442</td>\n",
              "      <td>2919</td>\n",
              "    </tr>\n",
              "    <tr>\n",
              "      <th>14</th>\n",
              "      <td>ca-app-pub-7511632782617496/6288931395</td>\n",
              "      <td>int</td>\n",
              "      <td>Google AdMob</td>\n",
              "      <td>0.007560</td>\n",
              "      <td>1</td>\n",
              "    </tr>\n",
              "    <tr>\n",
              "      <th>17</th>\n",
              "      <td>ca-app-pub-7511632782617496/7233636966</td>\n",
              "      <td>int</td>\n",
              "      <td>Google AdMob</td>\n",
              "      <td>0.005540</td>\n",
              "      <td>1</td>\n",
              "    </tr>\n",
              "    <tr>\n",
              "      <th>10</th>\n",
              "      <td>ca-app-pub-7511632782617496/4462189301</td>\n",
              "      <td>rv</td>\n",
              "      <td>Google AdMob</td>\n",
              "      <td>0.211700</td>\n",
              "      <td>677</td>\n",
              "    </tr>\n",
              "    <tr>\n",
              "      <th>12</th>\n",
              "      <td>ca-app-pub-7511632782617496/5197009874</td>\n",
              "      <td>rv</td>\n",
              "      <td>Google AdMob</td>\n",
              "      <td>0.120000</td>\n",
              "      <td>1</td>\n",
              "    </tr>\n",
              "    <tr>\n",
              "      <th>4</th>\n",
              "      <td>ca-app-pub-7511632782617496/1189815249</td>\n",
              "      <td>rv</td>\n",
              "      <td>Google AdMob</td>\n",
              "      <td>0.080640</td>\n",
              "      <td>880</td>\n",
              "    </tr>\n",
              "    <tr>\n",
              "      <th>28</th>\n",
              "      <td>inter_videoa</td>\n",
              "      <td>rv</td>\n",
              "      <td>AppLovin</td>\n",
              "      <td>0.051974</td>\n",
              "      <td>2402</td>\n",
              "    </tr>\n",
              "    <tr>\n",
              "      <th>27</th>\n",
              "      <td>inter_videoa</td>\n",
              "      <td>rv</td>\n",
              "      <td>APPLOVIN_EXCHANGE</td>\n",
              "      <td>0.047382</td>\n",
              "      <td>397</td>\n",
              "    </tr>\n",
              "    <tr>\n",
              "      <th>1</th>\n",
              "      <td>524377382067272_528133115025032</td>\n",
              "      <td>rv</td>\n",
              "      <td>Facebook</td>\n",
              "      <td>0.032232</td>\n",
              "      <td>929</td>\n",
              "    </tr>\n",
              "    <tr>\n",
              "      <th>6</th>\n",
              "      <td>ca-app-pub-7511632782617496/2311325220</td>\n",
              "      <td>rv</td>\n",
              "      <td>Google AdMob</td>\n",
              "      <td>0.028241</td>\n",
              "      <td>1191</td>\n",
              "    </tr>\n",
              "    <tr>\n",
              "      <th>9</th>\n",
              "      <td>ca-app-pub-7511632782617496/4151521517</td>\n",
              "      <td>rv</td>\n",
              "      <td>Google AdMob</td>\n",
              "      <td>0.007560</td>\n",
              "      <td>2</td>\n",
              "    </tr>\n",
              "    <tr>\n",
              "      <th>22</th>\n",
              "      <td>ca-app-pub-7511632782617496/9595419886</td>\n",
              "      <td>rv</td>\n",
              "      <td>Google AdMob</td>\n",
              "      <td>0.005540</td>\n",
              "      <td>1</td>\n",
              "    </tr>\n",
              "    <tr>\n",
              "      <th>7</th>\n",
              "      <td>ca-app-pub-7511632782617496/3413154913</td>\n",
              "      <td>rv</td>\n",
              "      <td>Google AdMob</td>\n",
              "      <td>0.002820</td>\n",
              "      <td>2</td>\n",
              "    </tr>\n",
              "  </tbody>\n",
              "</table>\n",
              "</div>\n",
              "      <button class=\"colab-df-convert\" onclick=\"convertToInteractive('df-a0dbac1c-82f5-44db-bd5e-0e9565287d83')\"\n",
              "              title=\"Convert this dataframe to an interactive table.\"\n",
              "              style=\"display:none;\">\n",
              "        \n",
              "  <svg xmlns=\"http://www.w3.org/2000/svg\" height=\"24px\"viewBox=\"0 0 24 24\"\n",
              "       width=\"24px\">\n",
              "    <path d=\"M0 0h24v24H0V0z\" fill=\"none\"/>\n",
              "    <path d=\"M18.56 5.44l.94 2.06.94-2.06 2.06-.94-2.06-.94-.94-2.06-.94 2.06-2.06.94zm-11 1L8.5 8.5l.94-2.06 2.06-.94-2.06-.94L8.5 2.5l-.94 2.06-2.06.94zm10 10l.94 2.06.94-2.06 2.06-.94-2.06-.94-.94-2.06-.94 2.06-2.06.94z\"/><path d=\"M17.41 7.96l-1.37-1.37c-.4-.4-.92-.59-1.43-.59-.52 0-1.04.2-1.43.59L10.3 9.45l-7.72 7.72c-.78.78-.78 2.05 0 2.83L4 21.41c.39.39.9.59 1.41.59.51 0 1.02-.2 1.41-.59l7.78-7.78 2.81-2.81c.8-.78.8-2.07 0-2.86zM5.41 20L4 18.59l7.72-7.72 1.47 1.35L5.41 20z\"/>\n",
              "  </svg>\n",
              "      </button>\n",
              "      \n",
              "  <style>\n",
              "    .colab-df-container {\n",
              "      display:flex;\n",
              "      flex-wrap:wrap;\n",
              "      gap: 12px;\n",
              "    }\n",
              "\n",
              "    .colab-df-convert {\n",
              "      background-color: #E8F0FE;\n",
              "      border: none;\n",
              "      border-radius: 50%;\n",
              "      cursor: pointer;\n",
              "      display: none;\n",
              "      fill: #1967D2;\n",
              "      height: 32px;\n",
              "      padding: 0 0 0 0;\n",
              "      width: 32px;\n",
              "    }\n",
              "\n",
              "    .colab-df-convert:hover {\n",
              "      background-color: #E2EBFA;\n",
              "      box-shadow: 0px 1px 2px rgba(60, 64, 67, 0.3), 0px 1px 3px 1px rgba(60, 64, 67, 0.15);\n",
              "      fill: #174EA6;\n",
              "    }\n",
              "\n",
              "    [theme=dark] .colab-df-convert {\n",
              "      background-color: #3B4455;\n",
              "      fill: #D2E3FC;\n",
              "    }\n",
              "\n",
              "    [theme=dark] .colab-df-convert:hover {\n",
              "      background-color: #434B5C;\n",
              "      box-shadow: 0px 1px 3px 1px rgba(0, 0, 0, 0.15);\n",
              "      filter: drop-shadow(0px 1px 2px rgba(0, 0, 0, 0.3));\n",
              "      fill: #FFFFFF;\n",
              "    }\n",
              "  </style>\n",
              "\n",
              "      <script>\n",
              "        const buttonEl =\n",
              "          document.querySelector('#df-a0dbac1c-82f5-44db-bd5e-0e9565287d83 button.colab-df-convert');\n",
              "        buttonEl.style.display =\n",
              "          google.colab.kernel.accessAllowed ? 'block' : 'none';\n",
              "\n",
              "        async function convertToInteractive(key) {\n",
              "          const element = document.querySelector('#df-a0dbac1c-82f5-44db-bd5e-0e9565287d83');\n",
              "          const dataTable =\n",
              "            await google.colab.kernel.invokeFunction('convertToInteractive',\n",
              "                                                     [key], {});\n",
              "          if (!dataTable) return;\n",
              "\n",
              "          const docLinkHtml = 'Like what you see? Visit the ' +\n",
              "            '<a target=\"_blank\" href=https://colab.research.google.com/notebooks/data_table.ipynb>data table notebook</a>'\n",
              "            + ' to learn more about interactive tables.';\n",
              "          element.innerHTML = '';\n",
              "          dataTable['output_type'] = 'display_data';\n",
              "          await google.colab.output.renderOutput(dataTable, element);\n",
              "          const docLink = document.createElement('div');\n",
              "          docLink.innerHTML = docLinkHtml;\n",
              "          element.appendChild(docLink);\n",
              "        }\n",
              "      </script>\n",
              "    </div>\n",
              "  </div>\n",
              "  "
            ]
          },
          "metadata": {},
          "execution_count": 83
        }
      ]
    },
    {
      "cell_type": "markdown",
      "source": [
        "Рекламная сеть от Google включает несколько размещений с широким разбросом значений eCPM, имеет как и самые высокие значения так и самыее низкие. AppLovin, APPLOVIN_EXCHANGE, Facebook занимает средние места."
      ],
      "metadata": {
        "id": "OnKBJJvqfuOZ"
      }
    },
    {
      "cell_type": "markdown",
      "source": [
        "### Влияние игровых событий на eCPM"
      ],
      "metadata": {
        "id": "diAubpZUft-w"
      }
    },
    {
      "cell_type": "code",
      "source": [
        "df.groupby(['placement', 'ad_type'])['revenue'].agg(['mean', 'count']).reset_index().sort_values(['ad_type', 'mean'])"
      ],
      "metadata": {
        "colab": {
          "base_uri": "https://localhost:8080/",
          "height": 328
        },
        "id": "SULDLr2q8Cna",
        "outputId": "945fd7c7-1d9c-429a-b437-0cf02bb58200"
      },
      "execution_count": null,
      "outputs": [
        {
          "output_type": "execute_result",
          "data": {
            "text/plain": [
              "                   placement ad_type      mean   count\n",
              "0                             banner  0.000744  815984\n",
              "8                     replay     int  0.033720    5592\n",
              "7                 next_level     int  0.036107   30579\n",
              "2           double_coins_int     int  0.040998     497\n",
              "6     lose_offer_attempt_int     int  0.051006     829\n",
              "4  game_repeating_reward_int     int  0.057048     116\n",
              "1               double_coins      rv  0.053433    1716\n",
              "5         lose_offer_attempt      rv  0.068417    4183\n",
              "3      game_repeating_reward      rv  0.075095     583"
            ],
            "text/html": [
              "\n",
              "  <div id=\"df-16df028e-4539-44e9-9629-d1ef99580f5f\">\n",
              "    <div class=\"colab-df-container\">\n",
              "      <div>\n",
              "<style scoped>\n",
              "    .dataframe tbody tr th:only-of-type {\n",
              "        vertical-align: middle;\n",
              "    }\n",
              "\n",
              "    .dataframe tbody tr th {\n",
              "        vertical-align: top;\n",
              "    }\n",
              "\n",
              "    .dataframe thead th {\n",
              "        text-align: right;\n",
              "    }\n",
              "</style>\n",
              "<table border=\"1\" class=\"dataframe\">\n",
              "  <thead>\n",
              "    <tr style=\"text-align: right;\">\n",
              "      <th></th>\n",
              "      <th>placement</th>\n",
              "      <th>ad_type</th>\n",
              "      <th>mean</th>\n",
              "      <th>count</th>\n",
              "    </tr>\n",
              "  </thead>\n",
              "  <tbody>\n",
              "    <tr>\n",
              "      <th>0</th>\n",
              "      <td></td>\n",
              "      <td>banner</td>\n",
              "      <td>0.000744</td>\n",
              "      <td>815984</td>\n",
              "    </tr>\n",
              "    <tr>\n",
              "      <th>8</th>\n",
              "      <td>replay</td>\n",
              "      <td>int</td>\n",
              "      <td>0.033720</td>\n",
              "      <td>5592</td>\n",
              "    </tr>\n",
              "    <tr>\n",
              "      <th>7</th>\n",
              "      <td>next_level</td>\n",
              "      <td>int</td>\n",
              "      <td>0.036107</td>\n",
              "      <td>30579</td>\n",
              "    </tr>\n",
              "    <tr>\n",
              "      <th>2</th>\n",
              "      <td>double_coins_int</td>\n",
              "      <td>int</td>\n",
              "      <td>0.040998</td>\n",
              "      <td>497</td>\n",
              "    </tr>\n",
              "    <tr>\n",
              "      <th>6</th>\n",
              "      <td>lose_offer_attempt_int</td>\n",
              "      <td>int</td>\n",
              "      <td>0.051006</td>\n",
              "      <td>829</td>\n",
              "    </tr>\n",
              "    <tr>\n",
              "      <th>4</th>\n",
              "      <td>game_repeating_reward_int</td>\n",
              "      <td>int</td>\n",
              "      <td>0.057048</td>\n",
              "      <td>116</td>\n",
              "    </tr>\n",
              "    <tr>\n",
              "      <th>1</th>\n",
              "      <td>double_coins</td>\n",
              "      <td>rv</td>\n",
              "      <td>0.053433</td>\n",
              "      <td>1716</td>\n",
              "    </tr>\n",
              "    <tr>\n",
              "      <th>5</th>\n",
              "      <td>lose_offer_attempt</td>\n",
              "      <td>rv</td>\n",
              "      <td>0.068417</td>\n",
              "      <td>4183</td>\n",
              "    </tr>\n",
              "    <tr>\n",
              "      <th>3</th>\n",
              "      <td>game_repeating_reward</td>\n",
              "      <td>rv</td>\n",
              "      <td>0.075095</td>\n",
              "      <td>583</td>\n",
              "    </tr>\n",
              "  </tbody>\n",
              "</table>\n",
              "</div>\n",
              "      <button class=\"colab-df-convert\" onclick=\"convertToInteractive('df-16df028e-4539-44e9-9629-d1ef99580f5f')\"\n",
              "              title=\"Convert this dataframe to an interactive table.\"\n",
              "              style=\"display:none;\">\n",
              "        \n",
              "  <svg xmlns=\"http://www.w3.org/2000/svg\" height=\"24px\"viewBox=\"0 0 24 24\"\n",
              "       width=\"24px\">\n",
              "    <path d=\"M0 0h24v24H0V0z\" fill=\"none\"/>\n",
              "    <path d=\"M18.56 5.44l.94 2.06.94-2.06 2.06-.94-2.06-.94-.94-2.06-.94 2.06-2.06.94zm-11 1L8.5 8.5l.94-2.06 2.06-.94-2.06-.94L8.5 2.5l-.94 2.06-2.06.94zm10 10l.94 2.06.94-2.06 2.06-.94-2.06-.94-.94-2.06-.94 2.06-2.06.94z\"/><path d=\"M17.41 7.96l-1.37-1.37c-.4-.4-.92-.59-1.43-.59-.52 0-1.04.2-1.43.59L10.3 9.45l-7.72 7.72c-.78.78-.78 2.05 0 2.83L4 21.41c.39.39.9.59 1.41.59.51 0 1.02-.2 1.41-.59l7.78-7.78 2.81-2.81c.8-.78.8-2.07 0-2.86zM5.41 20L4 18.59l7.72-7.72 1.47 1.35L5.41 20z\"/>\n",
              "  </svg>\n",
              "      </button>\n",
              "      \n",
              "  <style>\n",
              "    .colab-df-container {\n",
              "      display:flex;\n",
              "      flex-wrap:wrap;\n",
              "      gap: 12px;\n",
              "    }\n",
              "\n",
              "    .colab-df-convert {\n",
              "      background-color: #E8F0FE;\n",
              "      border: none;\n",
              "      border-radius: 50%;\n",
              "      cursor: pointer;\n",
              "      display: none;\n",
              "      fill: #1967D2;\n",
              "      height: 32px;\n",
              "      padding: 0 0 0 0;\n",
              "      width: 32px;\n",
              "    }\n",
              "\n",
              "    .colab-df-convert:hover {\n",
              "      background-color: #E2EBFA;\n",
              "      box-shadow: 0px 1px 2px rgba(60, 64, 67, 0.3), 0px 1px 3px 1px rgba(60, 64, 67, 0.15);\n",
              "      fill: #174EA6;\n",
              "    }\n",
              "\n",
              "    [theme=dark] .colab-df-convert {\n",
              "      background-color: #3B4455;\n",
              "      fill: #D2E3FC;\n",
              "    }\n",
              "\n",
              "    [theme=dark] .colab-df-convert:hover {\n",
              "      background-color: #434B5C;\n",
              "      box-shadow: 0px 1px 3px 1px rgba(0, 0, 0, 0.15);\n",
              "      filter: drop-shadow(0px 1px 2px rgba(0, 0, 0, 0.3));\n",
              "      fill: #FFFFFF;\n",
              "    }\n",
              "  </style>\n",
              "\n",
              "      <script>\n",
              "        const buttonEl =\n",
              "          document.querySelector('#df-16df028e-4539-44e9-9629-d1ef99580f5f button.colab-df-convert');\n",
              "        buttonEl.style.display =\n",
              "          google.colab.kernel.accessAllowed ? 'block' : 'none';\n",
              "\n",
              "        async function convertToInteractive(key) {\n",
              "          const element = document.querySelector('#df-16df028e-4539-44e9-9629-d1ef99580f5f');\n",
              "          const dataTable =\n",
              "            await google.colab.kernel.invokeFunction('convertToInteractive',\n",
              "                                                     [key], {});\n",
              "          if (!dataTable) return;\n",
              "\n",
              "          const docLinkHtml = 'Like what you see? Visit the ' +\n",
              "            '<a target=\"_blank\" href=https://colab.research.google.com/notebooks/data_table.ipynb>data table notebook</a>'\n",
              "            + ' to learn more about interactive tables.';\n",
              "          element.innerHTML = '';\n",
              "          dataTable['output_type'] = 'display_data';\n",
              "          await google.colab.output.renderOutput(dataTable, element);\n",
              "          const docLink = document.createElement('div');\n",
              "          docLink.innerHTML = docLinkHtml;\n",
              "          element.appendChild(docLink);\n",
              "        }\n",
              "      </script>\n",
              "    </div>\n",
              "  </div>\n",
              "  "
            ]
          },
          "metadata": {},
          "execution_count": 84
        }
      ]
    },
    {
      "cell_type": "markdown",
      "source": [
        "### Зависимость eCPM от длины сессии"
      ],
      "metadata": {
        "id": "LGjUtaf08zcp"
      }
    },
    {
      "cell_type": "markdown",
      "source": [
        "При помощи qcut разделим данные на 10 равночисленных групп по признаку длины сессий"
      ],
      "metadata": {
        "id": "Nm8Y-qvr-aO-"
      }
    },
    {
      "cell_type": "code",
      "source": [
        "df['session_length_qcut']=pd.qcut(df['session_length'], 10)"
      ],
      "metadata": {
        "id": "X4VzDLAhb4uR"
      },
      "execution_count": null,
      "outputs": []
    },
    {
      "cell_type": "markdown",
      "source": [
        "Создадим сводную таблицу по этим группам"
      ],
      "metadata": {
        "id": "eSnA-78m-3uw"
      }
    },
    {
      "cell_type": "code",
      "source": [
        "df.groupby(['session_length_qcut'])['revenue'].agg(['mean', 'median', 'count']).reset_index()"
      ],
      "metadata": {
        "colab": {
          "base_uri": "https://localhost:8080/",
          "height": 359
        },
        "id": "oewmKsqLcYNN",
        "outputId": "f17ca568-4015-469c-a8ef-d22b951122f5"
      },
      "execution_count": null,
      "outputs": [
        {
          "output_type": "execute_result",
          "data": {
            "text/plain": [
              "             session_length_qcut      mean    median  count\n",
              "0  (2.2070000000000003, 173.555]  0.004272  0.000515  86008\n",
              "1             (173.555, 389.083]  0.004047  0.000497  86008\n",
              "2             (389.083, 648.001]  0.003693  0.000497  86008\n",
              "3             (648.001, 969.693]  0.003085  0.000497  86008\n",
              "4            (969.693, 1398.315]  0.002672  0.000494  86009\n",
              "5           (1398.315, 2038.337]  0.002457  0.000494  86007\n",
              "6           (2038.337, 3137.482]  0.002214  0.000438  86007\n",
              "7           (3137.482, 5609.996]  0.001990  0.000438  86008\n",
              "8          (5609.996, 13225.588]  0.001735  0.000432  86008\n",
              "9          (13225.588, 394117.6]  0.001633  0.000432  86008"
            ],
            "text/html": [
              "\n",
              "  <div id=\"df-9c30e965-bb89-453b-8494-964f90fc7590\">\n",
              "    <div class=\"colab-df-container\">\n",
              "      <div>\n",
              "<style scoped>\n",
              "    .dataframe tbody tr th:only-of-type {\n",
              "        vertical-align: middle;\n",
              "    }\n",
              "\n",
              "    .dataframe tbody tr th {\n",
              "        vertical-align: top;\n",
              "    }\n",
              "\n",
              "    .dataframe thead th {\n",
              "        text-align: right;\n",
              "    }\n",
              "</style>\n",
              "<table border=\"1\" class=\"dataframe\">\n",
              "  <thead>\n",
              "    <tr style=\"text-align: right;\">\n",
              "      <th></th>\n",
              "      <th>session_length_qcut</th>\n",
              "      <th>mean</th>\n",
              "      <th>median</th>\n",
              "      <th>count</th>\n",
              "    </tr>\n",
              "  </thead>\n",
              "  <tbody>\n",
              "    <tr>\n",
              "      <th>0</th>\n",
              "      <td>(2.2070000000000003, 173.555]</td>\n",
              "      <td>0.004272</td>\n",
              "      <td>0.000515</td>\n",
              "      <td>86008</td>\n",
              "    </tr>\n",
              "    <tr>\n",
              "      <th>1</th>\n",
              "      <td>(173.555, 389.083]</td>\n",
              "      <td>0.004047</td>\n",
              "      <td>0.000497</td>\n",
              "      <td>86008</td>\n",
              "    </tr>\n",
              "    <tr>\n",
              "      <th>2</th>\n",
              "      <td>(389.083, 648.001]</td>\n",
              "      <td>0.003693</td>\n",
              "      <td>0.000497</td>\n",
              "      <td>86008</td>\n",
              "    </tr>\n",
              "    <tr>\n",
              "      <th>3</th>\n",
              "      <td>(648.001, 969.693]</td>\n",
              "      <td>0.003085</td>\n",
              "      <td>0.000497</td>\n",
              "      <td>86008</td>\n",
              "    </tr>\n",
              "    <tr>\n",
              "      <th>4</th>\n",
              "      <td>(969.693, 1398.315]</td>\n",
              "      <td>0.002672</td>\n",
              "      <td>0.000494</td>\n",
              "      <td>86009</td>\n",
              "    </tr>\n",
              "    <tr>\n",
              "      <th>5</th>\n",
              "      <td>(1398.315, 2038.337]</td>\n",
              "      <td>0.002457</td>\n",
              "      <td>0.000494</td>\n",
              "      <td>86007</td>\n",
              "    </tr>\n",
              "    <tr>\n",
              "      <th>6</th>\n",
              "      <td>(2038.337, 3137.482]</td>\n",
              "      <td>0.002214</td>\n",
              "      <td>0.000438</td>\n",
              "      <td>86007</td>\n",
              "    </tr>\n",
              "    <tr>\n",
              "      <th>7</th>\n",
              "      <td>(3137.482, 5609.996]</td>\n",
              "      <td>0.001990</td>\n",
              "      <td>0.000438</td>\n",
              "      <td>86008</td>\n",
              "    </tr>\n",
              "    <tr>\n",
              "      <th>8</th>\n",
              "      <td>(5609.996, 13225.588]</td>\n",
              "      <td>0.001735</td>\n",
              "      <td>0.000432</td>\n",
              "      <td>86008</td>\n",
              "    </tr>\n",
              "    <tr>\n",
              "      <th>9</th>\n",
              "      <td>(13225.588, 394117.6]</td>\n",
              "      <td>0.001633</td>\n",
              "      <td>0.000432</td>\n",
              "      <td>86008</td>\n",
              "    </tr>\n",
              "  </tbody>\n",
              "</table>\n",
              "</div>\n",
              "      <button class=\"colab-df-convert\" onclick=\"convertToInteractive('df-9c30e965-bb89-453b-8494-964f90fc7590')\"\n",
              "              title=\"Convert this dataframe to an interactive table.\"\n",
              "              style=\"display:none;\">\n",
              "        \n",
              "  <svg xmlns=\"http://www.w3.org/2000/svg\" height=\"24px\"viewBox=\"0 0 24 24\"\n",
              "       width=\"24px\">\n",
              "    <path d=\"M0 0h24v24H0V0z\" fill=\"none\"/>\n",
              "    <path d=\"M18.56 5.44l.94 2.06.94-2.06 2.06-.94-2.06-.94-.94-2.06-.94 2.06-2.06.94zm-11 1L8.5 8.5l.94-2.06 2.06-.94-2.06-.94L8.5 2.5l-.94 2.06-2.06.94zm10 10l.94 2.06.94-2.06 2.06-.94-2.06-.94-.94-2.06-.94 2.06-2.06.94z\"/><path d=\"M17.41 7.96l-1.37-1.37c-.4-.4-.92-.59-1.43-.59-.52 0-1.04.2-1.43.59L10.3 9.45l-7.72 7.72c-.78.78-.78 2.05 0 2.83L4 21.41c.39.39.9.59 1.41.59.51 0 1.02-.2 1.41-.59l7.78-7.78 2.81-2.81c.8-.78.8-2.07 0-2.86zM5.41 20L4 18.59l7.72-7.72 1.47 1.35L5.41 20z\"/>\n",
              "  </svg>\n",
              "      </button>\n",
              "      \n",
              "  <style>\n",
              "    .colab-df-container {\n",
              "      display:flex;\n",
              "      flex-wrap:wrap;\n",
              "      gap: 12px;\n",
              "    }\n",
              "\n",
              "    .colab-df-convert {\n",
              "      background-color: #E8F0FE;\n",
              "      border: none;\n",
              "      border-radius: 50%;\n",
              "      cursor: pointer;\n",
              "      display: none;\n",
              "      fill: #1967D2;\n",
              "      height: 32px;\n",
              "      padding: 0 0 0 0;\n",
              "      width: 32px;\n",
              "    }\n",
              "\n",
              "    .colab-df-convert:hover {\n",
              "      background-color: #E2EBFA;\n",
              "      box-shadow: 0px 1px 2px rgba(60, 64, 67, 0.3), 0px 1px 3px 1px rgba(60, 64, 67, 0.15);\n",
              "      fill: #174EA6;\n",
              "    }\n",
              "\n",
              "    [theme=dark] .colab-df-convert {\n",
              "      background-color: #3B4455;\n",
              "      fill: #D2E3FC;\n",
              "    }\n",
              "\n",
              "    [theme=dark] .colab-df-convert:hover {\n",
              "      background-color: #434B5C;\n",
              "      box-shadow: 0px 1px 3px 1px rgba(0, 0, 0, 0.15);\n",
              "      filter: drop-shadow(0px 1px 2px rgba(0, 0, 0, 0.3));\n",
              "      fill: #FFFFFF;\n",
              "    }\n",
              "  </style>\n",
              "\n",
              "      <script>\n",
              "        const buttonEl =\n",
              "          document.querySelector('#df-9c30e965-bb89-453b-8494-964f90fc7590 button.colab-df-convert');\n",
              "        buttonEl.style.display =\n",
              "          google.colab.kernel.accessAllowed ? 'block' : 'none';\n",
              "\n",
              "        async function convertToInteractive(key) {\n",
              "          const element = document.querySelector('#df-9c30e965-bb89-453b-8494-964f90fc7590');\n",
              "          const dataTable =\n",
              "            await google.colab.kernel.invokeFunction('convertToInteractive',\n",
              "                                                     [key], {});\n",
              "          if (!dataTable) return;\n",
              "\n",
              "          const docLinkHtml = 'Like what you see? Visit the ' +\n",
              "            '<a target=\"_blank\" href=https://colab.research.google.com/notebooks/data_table.ipynb>data table notebook</a>'\n",
              "            + ' to learn more about interactive tables.';\n",
              "          element.innerHTML = '';\n",
              "          dataTable['output_type'] = 'display_data';\n",
              "          await google.colab.output.renderOutput(dataTable, element);\n",
              "          const docLink = document.createElement('div');\n",
              "          docLink.innerHTML = docLinkHtml;\n",
              "          element.appendChild(docLink);\n",
              "        }\n",
              "      </script>\n",
              "    </div>\n",
              "  </div>\n",
              "  "
            ]
          },
          "metadata": {},
          "execution_count": 86
        }
      ]
    },
    {
      "cell_type": "markdown",
      "source": [
        "Влияние длины сессий на eCPM "
      ],
      "metadata": {
        "id": "5bMjZIfeAqCU"
      }
    },
    {
      "cell_type": "code",
      "source": [
        "fig, ax = plt.subplots(nrows=2, ncols=1, figsize=(15,10), sharex=True)\n",
        "\n",
        "sns.barplot(x=\"session_length_qcut\", y=\"revenue\", data=df, estimator=np.mean, ax=ax[0])\n",
        "ax[0].set_ylabel('mean')\n",
        "sns.barplot(x=\"session_length_qcut\", y=\"revenue\", data=df, estimator=np.median, ax=ax[1])\n",
        "ax[1].set_ylabel('median')\n",
        "plt.xticks(rotation=45)"
      ],
      "metadata": {
        "colab": {
          "base_uri": "https://localhost:8080/",
          "height": 775
        },
        "id": "NaAG4UGlay3F",
        "outputId": "0a235145-b99e-4fd3-be38-46844f47036b"
      },
      "execution_count": null,
      "outputs": [
        {
          "output_type": "execute_result",
          "data": {
            "text/plain": [
              "(array([0, 1, 2, 3, 4, 5, 6, 7, 8, 9]),\n",
              " <a list of 10 Text major ticklabel objects>)"
            ]
          },
          "metadata": {},
          "execution_count": 87
        },
        {
          "output_type": "display_data",
          "data": {
            "text/plain": [
              "<Figure size 1080x720 with 2 Axes>"
            ],
            "image/png": "[encoded data removed]"
          },
          "metadata": {}
        }
      ]
    },
    {
      "cell_type": "markdown",
      "source": [
        "С увелечение длины сессий в среднем eCPM падает."
      ],
      "metadata": {
        "id": "krEy_VmiCWC2"
      }
    }
  ]
}